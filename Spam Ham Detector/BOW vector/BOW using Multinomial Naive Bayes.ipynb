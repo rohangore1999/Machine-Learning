{
 "cells": [
  {
   "cell_type": "code",
   "execution_count": 21,
   "metadata": {
    "collapsed": true
   },
   "outputs": [],
   "source": [
    "import numpy as np\n",
    "import pandas as pd\n",
    "import matplotlib.pyplot as plt\n",
    "import seaborn as sns\n",
    "%matplotlib inline\n",
    "import sqlite3    ## SQL Interface\n",
    "import pickle     ## Used to save your data - Converts objects to byte stream and vice versa\n",
    "\n",
    "from sklearn.feature_extraction.text import CountVectorizer  ## BOW Model\n",
    "from sklearn.feature_extraction.text import TfidfVectorizer  ## TFIDF Model\n",
    "\n",
    "from sklearn.manifold import TSNE    ## To visualize high dimensional data\n",
    "\n",
    "## Modules to perform Text Preprocessing\n"
   ]
  },
  {
   "cell_type": "code",
   "execution_count": 22,
   "metadata": {},
   "outputs": [],
   "source": [
    "from sklearn.naive_bayes import MultinomialNB\n",
    "from sklearn.metrics import accuracy_score\n",
    "from sklearn.cross_validation import cross_val_score"
   ]
  },
  {
   "cell_type": "code",
   "execution_count": 23,
   "metadata": {},
   "outputs": [
    {
     "data": {
      "text/html": [
       "<div>\n",
       "<style>\n",
       "    .dataframe thead tr:only-child th {\n",
       "        text-align: right;\n",
       "    }\n",
       "\n",
       "    .dataframe thead th {\n",
       "        text-align: left;\n",
       "    }\n",
       "\n",
       "    .dataframe tbody tr th {\n",
       "        vertical-align: top;\n",
       "    }\n",
       "</style>\n",
       "<table border=\"1\" class=\"dataframe\">\n",
       "  <thead>\n",
       "    <tr style=\"text-align: right;\">\n",
       "      <th></th>\n",
       "      <th>level_0</th>\n",
       "      <th>index</th>\n",
       "      <th>mail</th>\n",
       "      <th>score</th>\n",
       "      <th>Cleanedmail</th>\n",
       "    </tr>\n",
       "  </thead>\n",
       "  <tbody>\n",
       "    <tr>\n",
       "      <th>0</th>\n",
       "      <td>0</td>\n",
       "      <td>0</td>\n",
       "      <td>&gt; deat : sun , 15 dec 91 2 : 25 : 2 est &gt; : mi...</td>\n",
       "      <td>0</td>\n",
       "      <td>deat sun dec est michael subject queri wlodek ...</td>\n",
       "    </tr>\n",
       "    <tr>\n",
       "      <th>1</th>\n",
       "      <td>1</td>\n",
       "      <td>1</td>\n",
       "      <td>discussion s - &gt; np + np remind ago read , sou...</td>\n",
       "      <td>0</td>\n",
       "      <td>discuss remind ago read sourc forget critiqu n...</td>\n",
       "    </tr>\n",
       "    <tr>\n",
       "      <th>2</th>\n",
       "      <td>2</td>\n",
       "      <td>2</td>\n",
       "      <td>. . . 's much restrictive s - &gt; np np . 's \" \"...</td>\n",
       "      <td>0</td>\n",
       "      <td>much restrict pro quit</td>\n",
       "    </tr>\n",
       "    <tr>\n",
       "      <th>3</th>\n",
       "      <td>3</td>\n",
       "      <td>3</td>\n",
       "      <td>\" listserv \" international conference 1992 sec...</td>\n",
       "      <td>0</td>\n",
       "      <td>listserv intern confer second circular februar...</td>\n",
       "    </tr>\n",
       "    <tr>\n",
       "      <th>4</th>\n",
       "      <td>4</td>\n",
       "      <td>4</td>\n",
       "      <td>anyone point book article causative constructi...</td>\n",
       "      <td>0</td>\n",
       "      <td>anyon point book articl causat construct korea...</td>\n",
       "    </tr>\n",
       "  </tbody>\n",
       "</table>\n",
       "</div>"
      ],
      "text/plain": [
       "   level_0  index                                               mail  score  \\\n",
       "0        0      0  > deat : sun , 15 dec 91 2 : 25 : 2 est > : mi...      0   \n",
       "1        1      1  discussion s - > np + np remind ago read , sou...      0   \n",
       "2        2      2  . . . 's much restrictive s - > np np . 's \" \"...      0   \n",
       "3        3      3  \" listserv \" international conference 1992 sec...      0   \n",
       "4        4      4  anyone point book article causative constructi...      0   \n",
       "\n",
       "                                         Cleanedmail  \n",
       "0  deat sun dec est michael subject queri wlodek ...  \n",
       "1  discuss remind ago read sourc forget critiqu n...  \n",
       "2                             much restrict pro quit  \n",
       "3  listserv intern confer second circular februar...  \n",
       "4  anyon point book articl causat construct korea...  "
      ]
     },
     "execution_count": 23,
     "metadata": {},
     "output_type": "execute_result"
    }
   ],
   "source": [
    "conn = sqlite3.connect('mail.sqlite')\n",
    "\n",
    "df= pd.read_sql_query(\"\"\"SELECT * FROM mail\"\"\", conn)\n",
    "\n",
    "df.head()"
   ]
  },
  {
   "cell_type": "code",
   "execution_count": 24,
   "metadata": {
    "collapsed": true
   },
   "outputs": [],
   "source": [
    "df.drop(['index'],axis=1,inplace=True)"
   ]
  },
  {
   "cell_type": "code",
   "execution_count": 25,
   "metadata": {},
   "outputs": [
    {
     "data": {
      "text/html": [
       "<div>\n",
       "<style>\n",
       "    .dataframe thead tr:only-child th {\n",
       "        text-align: right;\n",
       "    }\n",
       "\n",
       "    .dataframe thead th {\n",
       "        text-align: left;\n",
       "    }\n",
       "\n",
       "    .dataframe tbody tr th {\n",
       "        vertical-align: top;\n",
       "    }\n",
       "</style>\n",
       "<table border=\"1\" class=\"dataframe\">\n",
       "  <thead>\n",
       "    <tr style=\"text-align: right;\">\n",
       "      <th></th>\n",
       "      <th>level_0</th>\n",
       "      <th>mail</th>\n",
       "      <th>score</th>\n",
       "      <th>Cleanedmail</th>\n",
       "    </tr>\n",
       "  </thead>\n",
       "  <tbody>\n",
       "    <tr>\n",
       "      <th>0</th>\n",
       "      <td>0</td>\n",
       "      <td>&gt; deat : sun , 15 dec 91 2 : 25 : 2 est &gt; : mi...</td>\n",
       "      <td>0</td>\n",
       "      <td>deat sun dec est michael subject queri wlodek ...</td>\n",
       "    </tr>\n",
       "    <tr>\n",
       "      <th>1</th>\n",
       "      <td>1</td>\n",
       "      <td>discussion s - &gt; np + np remind ago read , sou...</td>\n",
       "      <td>0</td>\n",
       "      <td>discuss remind ago read sourc forget critiqu n...</td>\n",
       "    </tr>\n",
       "    <tr>\n",
       "      <th>2</th>\n",
       "      <td>2</td>\n",
       "      <td>. . . 's much restrictive s - &gt; np np . 's \" \"...</td>\n",
       "      <td>0</td>\n",
       "      <td>much restrict pro quit</td>\n",
       "    </tr>\n",
       "    <tr>\n",
       "      <th>3</th>\n",
       "      <td>3</td>\n",
       "      <td>\" listserv \" international conference 1992 sec...</td>\n",
       "      <td>0</td>\n",
       "      <td>listserv intern confer second circular februar...</td>\n",
       "    </tr>\n",
       "    <tr>\n",
       "      <th>4</th>\n",
       "      <td>4</td>\n",
       "      <td>anyone point book article causative constructi...</td>\n",
       "      <td>0</td>\n",
       "      <td>anyon point book articl causat construct korea...</td>\n",
       "    </tr>\n",
       "  </tbody>\n",
       "</table>\n",
       "</div>"
      ],
      "text/plain": [
       "   level_0                                               mail  score  \\\n",
       "0        0  > deat : sun , 15 dec 91 2 : 25 : 2 est > : mi...      0   \n",
       "1        1  discussion s - > np + np remind ago read , sou...      0   \n",
       "2        2  . . . 's much restrictive s - > np np . 's \" \"...      0   \n",
       "3        3  \" listserv \" international conference 1992 sec...      0   \n",
       "4        4  anyone point book article causative constructi...      0   \n",
       "\n",
       "                                         Cleanedmail  \n",
       "0  deat sun dec est michael subject queri wlodek ...  \n",
       "1  discuss remind ago read sourc forget critiqu n...  \n",
       "2                             much restrict pro quit  \n",
       "3  listserv intern confer second circular februar...  \n",
       "4  anyon point book articl causat construct korea...  "
      ]
     },
     "execution_count": 25,
     "metadata": {},
     "output_type": "execute_result"
    }
   ],
   "source": [
    "df.head()"
   ]
  },
  {
   "cell_type": "code",
   "execution_count": 26,
   "metadata": {
    "collapsed": true
   },
   "outputs": [],
   "source": [
    "df.drop(['level_0'],axis=1,inplace=True)"
   ]
  },
  {
   "cell_type": "code",
   "execution_count": 27,
   "metadata": {},
   "outputs": [
    {
     "data": {
      "text/html": [
       "<div>\n",
       "<style>\n",
       "    .dataframe thead tr:only-child th {\n",
       "        text-align: right;\n",
       "    }\n",
       "\n",
       "    .dataframe thead th {\n",
       "        text-align: left;\n",
       "    }\n",
       "\n",
       "    .dataframe tbody tr th {\n",
       "        vertical-align: top;\n",
       "    }\n",
       "</style>\n",
       "<table border=\"1\" class=\"dataframe\">\n",
       "  <thead>\n",
       "    <tr style=\"text-align: right;\">\n",
       "      <th></th>\n",
       "      <th>mail</th>\n",
       "      <th>score</th>\n",
       "      <th>Cleanedmail</th>\n",
       "    </tr>\n",
       "  </thead>\n",
       "  <tbody>\n",
       "    <tr>\n",
       "      <th>0</th>\n",
       "      <td>&gt; deat : sun , 15 dec 91 2 : 25 : 2 est &gt; : mi...</td>\n",
       "      <td>0</td>\n",
       "      <td>deat sun dec est michael subject queri wlodek ...</td>\n",
       "    </tr>\n",
       "    <tr>\n",
       "      <th>1</th>\n",
       "      <td>discussion s - &gt; np + np remind ago read , sou...</td>\n",
       "      <td>0</td>\n",
       "      <td>discuss remind ago read sourc forget critiqu n...</td>\n",
       "    </tr>\n",
       "    <tr>\n",
       "      <th>2</th>\n",
       "      <td>. . . 's much restrictive s - &gt; np np . 's \" \"...</td>\n",
       "      <td>0</td>\n",
       "      <td>much restrict pro quit</td>\n",
       "    </tr>\n",
       "    <tr>\n",
       "      <th>3</th>\n",
       "      <td>\" listserv \" international conference 1992 sec...</td>\n",
       "      <td>0</td>\n",
       "      <td>listserv intern confer second circular februar...</td>\n",
       "    </tr>\n",
       "    <tr>\n",
       "      <th>4</th>\n",
       "      <td>anyone point book article causative constructi...</td>\n",
       "      <td>0</td>\n",
       "      <td>anyon point book articl causat construct korea...</td>\n",
       "    </tr>\n",
       "  </tbody>\n",
       "</table>\n",
       "</div>"
      ],
      "text/plain": [
       "                                                mail  score  \\\n",
       "0  > deat : sun , 15 dec 91 2 : 25 : 2 est > : mi...      0   \n",
       "1  discussion s - > np + np remind ago read , sou...      0   \n",
       "2  . . . 's much restrictive s - > np np . 's \" \"...      0   \n",
       "3  \" listserv \" international conference 1992 sec...      0   \n",
       "4  anyone point book article causative constructi...      0   \n",
       "\n",
       "                                         Cleanedmail  \n",
       "0  deat sun dec est michael subject queri wlodek ...  \n",
       "1  discuss remind ago read sourc forget critiqu n...  \n",
       "2                             much restrict pro quit  \n",
       "3  listserv intern confer second circular februar...  \n",
       "4  anyon point book articl causat construct korea...  "
      ]
     },
     "execution_count": 27,
     "metadata": {},
     "output_type": "execute_result"
    }
   ],
   "source": [
    "df.head()"
   ]
  },
  {
   "cell_type": "code",
   "execution_count": 28,
   "metadata": {},
   "outputs": [
    {
     "data": {
      "text/plain": [
       "(962, 3)"
      ]
     },
     "execution_count": 28,
     "metadata": {},
     "output_type": "execute_result"
    }
   ],
   "source": [
    "df.shape"
   ]
  },
  {
   "cell_type": "markdown",
   "metadata": {},
   "source": [
    "## Shuffling"
   ]
  },
  {
   "cell_type": "code",
   "execution_count": 29,
   "metadata": {
    "collapsed": true
   },
   "outputs": [],
   "source": [
    "from sklearn.utils import shuffle"
   ]
  },
  {
   "cell_type": "code",
   "execution_count": 30,
   "metadata": {},
   "outputs": [
    {
     "data": {
      "text/html": [
       "<div>\n",
       "<style>\n",
       "    .dataframe thead tr:only-child th {\n",
       "        text-align: right;\n",
       "    }\n",
       "\n",
       "    .dataframe thead th {\n",
       "        text-align: left;\n",
       "    }\n",
       "\n",
       "    .dataframe tbody tr th {\n",
       "        vertical-align: top;\n",
       "    }\n",
       "</style>\n",
       "<table border=\"1\" class=\"dataframe\">\n",
       "  <thead>\n",
       "    <tr style=\"text-align: right;\">\n",
       "      <th></th>\n",
       "      <th>mail</th>\n",
       "      <th>score</th>\n",
       "      <th>Cleanedmail</th>\n",
       "    </tr>\n",
       "  </thead>\n",
       "  <tbody>\n",
       "    <tr>\n",
       "      <th>371</th>\n",
       "      <td>workshop computationally-intensive methods qua...</td>\n",
       "      <td>0</td>\n",
       "      <td>workshop method quantit linguist human advanc ...</td>\n",
       "    </tr>\n",
       "    <tr>\n",
       "      <th>624</th>\n",
       "      <td>\" show money ! \" . . . . . . . . . . . . probl...</td>\n",
       "      <td>1</td>\n",
       "      <td>show money problem share uniqu opportun start ...</td>\n",
       "    </tr>\n",
       "    <tr>\n",
       "      <th>351</th>\n",
       "      <td>shigeru kiritanus , hajime hirose hiroya fujis...</td>\n",
       "      <td>0</td>\n",
       "      <td>shigeru kiritanus hajim hiros hiroya fujisakus...</td>\n",
       "    </tr>\n",
       "    <tr>\n",
       "      <th>305</th>\n",
       "      <td>book list below linguist office available revi...</td>\n",
       "      <td>0</td>\n",
       "      <td>book list linguist offic avail review interest...</td>\n",
       "    </tr>\n",
       "    <tr>\n",
       "      <th>111</th>\n",
       "      <td>computational ling bengt sigurd ( ed ) compute...</td>\n",
       "      <td>0</td>\n",
       "      <td>comput ling bengt sigurd computer grammar anal...</td>\n",
       "    </tr>\n",
       "  </tbody>\n",
       "</table>\n",
       "</div>"
      ],
      "text/plain": [
       "                                                  mail  score  \\\n",
       "371  workshop computationally-intensive methods qua...      0   \n",
       "624  \" show money ! \" . . . . . . . . . . . . probl...      1   \n",
       "351  shigeru kiritanus , hajime hirose hiroya fujis...      0   \n",
       "305  book list below linguist office available revi...      0   \n",
       "111  computational ling bengt sigurd ( ed ) compute...      0   \n",
       "\n",
       "                                           Cleanedmail  \n",
       "371  workshop method quantit linguist human advanc ...  \n",
       "624  show money problem share uniqu opportun start ...  \n",
       "351  shigeru kiritanus hajim hiros hiroya fujisakus...  \n",
       "305  book list linguist offic avail review interest...  \n",
       "111  comput ling bengt sigurd computer grammar anal...  "
      ]
     },
     "execution_count": 30,
     "metadata": {},
     "output_type": "execute_result"
    }
   ],
   "source": [
    "df = shuffle(df, random_state=69)\n",
    "df.head()"
   ]
  },
  {
   "cell_type": "markdown",
   "metadata": {},
   "source": [
    "## Using BOW vector"
   ]
  },
  {
   "cell_type": "code",
   "execution_count": 31,
   "metadata": {
    "collapsed": true
   },
   "outputs": [],
   "source": [
    "bow_vect=CountVectorizer(binary=False)\n",
    "bow = bow_vect.fit_transform(df['Cleanedmail'].values)"
   ]
  },
  {
   "cell_type": "code",
   "execution_count": 32,
   "metadata": {
    "collapsed": true
   },
   "outputs": [],
   "source": [
    "X=bow\n",
    "y=df[\"score\"].values"
   ]
  },
  {
   "cell_type": "markdown",
   "metadata": {},
   "source": [
    "## Training and Testing"
   ]
  },
  {
   "cell_type": "code",
   "execution_count": 33,
   "metadata": {
    "collapsed": true
   },
   "outputs": [],
   "source": [
    "from sklearn.model_selection import train_test_split\n",
    "from sklearn.model_selection import cross_val_score"
   ]
  },
  {
   "cell_type": "code",
   "execution_count": 34,
   "metadata": {
    "collapsed": true
   },
   "outputs": [],
   "source": [
    "X_train,X_test,y_train,y_test=train_test_split(X,y,test_size=0.3,shuffle=False)"
   ]
  },
  {
   "cell_type": "code",
   "execution_count": 35,
   "metadata": {},
   "outputs": [
    {
     "name": "stdout",
     "output_type": "stream",
     "text": [
      "\n",
      "The optimal value of alpha is0.1\n"
     ]
    },
    {
     "data": {
      "image/png": "[encoded data removed]",
      "text/plain": [
       "<matplotlib.figure.Figure at 0x7de1cf8>"
      ]
     },
     "metadata": {},
     "output_type": "display_data"
    }
   ],
   "source": [
    "alpha= np.linspace(0.1,1,10)\n",
    "cv_scores=[]\n",
    "\n",
    "for a in alpha:\n",
    "    clf=MultinomialNB(alpha=a)\n",
    "    scores=cross_val_score(clf,X_train,y_train,cv=10,scoring='accuracy')\n",
    "    cv_scores.append(scores.mean())\n",
    "\n",
    "MSE=[1 - x for x in cv_scores]\n",
    "\n",
    "optimal_alpha= alpha[MSE.index(min(MSE))]\n",
    "print('\\nThe optimal value of alpha is{}'.format(optimal_alpha))\n",
    "\n",
    "plt.plot(alpha,MSE)\n",
    "plt.xlabel('Alpha')\n",
    "plt.ylabel('Misclassification error')\n",
    "plt.show()\n",
    "    "
   ]
  },
  {
   "cell_type": "markdown",
   "metadata": {},
   "source": [
    "## Confusion matrix"
   ]
  },
  {
   "cell_type": "code",
   "execution_count": 36,
   "metadata": {
    "collapsed": true
   },
   "outputs": [],
   "source": [
    "from sklearn.metrics import confusion_matrix\n"
   ]
  },
  {
   "cell_type": "code",
   "execution_count": 37,
   "metadata": {},
   "outputs": [
    {
     "name": "stdout",
     "output_type": "stream",
     "text": [
      "98.2698961938\n"
     ]
    },
    {
     "data": {
      "text/plain": [
       "array([[132,   2],\n",
       "       [  3, 152]], dtype=int64)"
      ]
     },
     "execution_count": 37,
     "metadata": {},
     "output_type": "execute_result"
    }
   ],
   "source": [
    "clf=MultinomialNB(alpha=optimal_alpha)\n",
    "clf.fit(X_train,y_train)\n",
    "y_pred=clf.predict(X_test)\n",
    "acc=accuracy_score(y_test,y_pred,normalize=True)*float(100)\n",
    "print(acc)\n",
    "confusion_matrix(y_test,y_pred).T"
   ]
  },
  {
   "cell_type": "code",
   "execution_count": 38,
   "metadata": {},
   "outputs": [
    {
     "name": "stdout",
     "output_type": "stream",
     "text": [
      "top 50 words in SPAM\n",
      "languag\n",
      "univers\n",
      "linguist\n",
      "paper\n",
      "confer\n",
      "inform\n",
      "one\n",
      "english\n",
      "edu\n",
      "research\n",
      "present\n",
      "includ\n",
      "address\n",
      "pleas\n",
      "form\n",
      "discuss\n",
      "interest\n",
      "follow\n",
      "http\n",
      "work\n",
      "theori\n",
      "send\n",
      "workshop\n",
      "analysi\n",
      "fax\n",
      "abstract\n",
      "submiss\n",
      "comput\n",
      "speech\n",
      "relat\n",
      "system\n",
      "word\n",
      "discours\n",
      "name\n",
      "registr\n",
      "studi\n",
      "speaker\n",
      "refer\n",
      "student\n",
      "issu\n",
      "develop\n",
      "list\n",
      "process\n",
      "session\n",
      "particip\n",
      "scienc\n",
      "call\n",
      "www\n",
      "mean\n",
      "depart\n",
      "\n",
      "******\n",
      "top 50 words in positive HAM\n",
      "order\n",
      "report\n",
      "address\n",
      "mail\n",
      "email\n",
      "program\n",
      "send\n",
      "list\n",
      "receiv\n",
      "money\n",
      "name\n",
      "free\n",
      "busi\n",
      "one\n",
      "work\n",
      "inform\n",
      "internet\n",
      "day\n",
      "market\n",
      "com\n",
      "pleas\n",
      "check\n",
      "http\n",
      "letter\n",
      "call\n",
      "want\n",
      "start\n",
      "follow\n",
      "remov\n",
      "product\n",
      "week\n",
      "advertis\n",
      "servic\n",
      "need\n",
      "site\n",
      "includ\n",
      "million\n",
      "everi\n",
      "bulk\n",
      "offer\n",
      "number\n",
      "read\n",
      "softwar\n",
      "web\n",
      "credit\n",
      "even\n",
      "first\n",
      "mani\n",
      "sell\n",
      "best\n"
     ]
    }
   ],
   "source": [
    "idx=(-clf.feature_log_prob_).argsort()[:2,:50]\n",
    "print(\"top 50 words in SPAM\")\n",
    "for i in idx[0]:\n",
    "    print(bow_vect.get_feature_names()[i])\n",
    "print(\"\\n******\")\n",
    "print(\"top 50 words in positive HAM\")\n",
    "for i in idx[1]:\n",
    "    print(bow_vect.get_feature_names()[i])"
   ]
  },
  {
   "cell_type": "code",
   "execution_count": null,
   "metadata": {
    "collapsed": true
   },
   "outputs": [],
   "source": []
  },
  {
   "cell_type": "code",
   "execution_count": null,
   "metadata": {
    "collapsed": true
   },
   "outputs": [],
   "source": []
  }
 ],
 "metadata": {
  "kernelspec": {
   "display_name": "Python 3",
   "language": "python",
   "name": "python3"
  },
  "language_info": {
   "codemirror_mode": {
    "name": "ipython",
    "version": 3
   },
   "file_extension": ".py",
   "mimetype": "text/x-python",
   "name": "python",
   "nbconvert_exporter": "python",
   "pygments_lexer": "ipython3",
   "version": "3.6.4"
  }
 },
 "nbformat": 4,
 "nbformat_minor": 2
}
