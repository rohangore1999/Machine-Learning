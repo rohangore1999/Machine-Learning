{
 "cells": [
  {
   "cell_type": "code",
   "execution_count": 1,
   "metadata": {
    "collapsed": true
   },
   "outputs": [],
   "source": [
    "import numpy as np\n",
    "import pandas as pd\n",
    "import matplotlib.pyplot as plt\n",
    "%matplotlib inline"
   ]
  },
  {
   "cell_type": "code",
   "execution_count": 2,
   "metadata": {},
   "outputs": [
    {
     "data": {
      "text/html": [
       "<div>\n",
       "<style>\n",
       "    .dataframe thead tr:only-child th {\n",
       "        text-align: right;\n",
       "    }\n",
       "\n",
       "    .dataframe thead th {\n",
       "        text-align: left;\n",
       "    }\n",
       "\n",
       "    .dataframe tbody tr th {\n",
       "        vertical-align: top;\n",
       "    }\n",
       "</style>\n",
       "<table border=\"1\" class=\"dataframe\">\n",
       "  <thead>\n",
       "    <tr style=\"text-align: right;\">\n",
       "      <th></th>\n",
       "      <th>Population</th>\n",
       "      <th>Profit</th>\n",
       "    </tr>\n",
       "  </thead>\n",
       "  <tbody>\n",
       "    <tr>\n",
       "      <th>0</th>\n",
       "      <td>6.1101</td>\n",
       "      <td>17.5920</td>\n",
       "    </tr>\n",
       "    <tr>\n",
       "      <th>1</th>\n",
       "      <td>5.5277</td>\n",
       "      <td>9.1302</td>\n",
       "    </tr>\n",
       "    <tr>\n",
       "      <th>2</th>\n",
       "      <td>8.5186</td>\n",
       "      <td>13.6620</td>\n",
       "    </tr>\n",
       "    <tr>\n",
       "      <th>3</th>\n",
       "      <td>7.0032</td>\n",
       "      <td>11.8540</td>\n",
       "    </tr>\n",
       "    <tr>\n",
       "      <th>4</th>\n",
       "      <td>5.8598</td>\n",
       "      <td>6.8233</td>\n",
       "    </tr>\n",
       "  </tbody>\n",
       "</table>\n",
       "</div>"
      ],
      "text/plain": [
       "   Population   Profit\n",
       "0      6.1101  17.5920\n",
       "1      5.5277   9.1302\n",
       "2      8.5186  13.6620\n",
       "3      7.0032  11.8540\n",
       "4      5.8598   6.8233"
      ]
     },
     "execution_count": 2,
     "metadata": {},
     "output_type": "execute_result"
    }
   ],
   "source": [
    "data = pd.read_csv(\"ex1data1.csv\", header = None, names = ['Population', 'Profit'])\n",
    "data.head()"
   ]
  },
  {
   "cell_type": "code",
   "execution_count": 3,
   "metadata": {},
   "outputs": [
    {
     "data": {
      "text/plain": [
       "(97, 2)"
      ]
     },
     "execution_count": 3,
     "metadata": {},
     "output_type": "execute_result"
    }
   ],
   "source": [
    "data.shape"
   ]
  },
  {
   "cell_type": "code",
   "execution_count": 4,
   "metadata": {
    "collapsed": true
   },
   "outputs": [],
   "source": [
    "X = data.iloc[:,:1].values\n",
    "y = data.iloc[:, 1].values"
   ]
  },
  {
   "cell_type": "code",
   "execution_count": 5,
   "metadata": {},
   "outputs": [
    {
     "data": {
      "text/plain": [
       "17.591999999999999"
      ]
     },
     "execution_count": 5,
     "metadata": {},
     "output_type": "execute_result"
    }
   ],
   "source": [
    "y[0]"
   ]
  },
  {
   "cell_type": "code",
   "execution_count": 6,
   "metadata": {
    "collapsed": true
   },
   "outputs": [],
   "source": [
    "from sklearn.preprocessing import StandardScaler\n",
    "scaler = StandardScaler()\n",
    "X = scaler.fit_transform(X)"
   ]
  },
  {
   "cell_type": "code",
   "execution_count": 7,
   "metadata": {},
   "outputs": [
    {
     "data": {
      "text/plain": [
       "Text(0,0.5,'Profit')"
      ]
     },
     "execution_count": 7,
     "metadata": {},
     "output_type": "execute_result"
    },
    {
     "data": {
      "image/png": "[encoded data removed]",
      "text/plain": [
       "<matplotlib.figure.Figure at 0xc2b9eb8>"
      ]
     },
     "metadata": {},
     "output_type": "display_data"
    }
   ],
   "source": [
    "plt.scatter(X, y)\n",
    "plt.xlabel('Population')\n",
    "plt.ylabel('Profit')"
   ]
  },
  {
   "cell_type": "markdown",
   "metadata": {},
   "source": [
    "## Exercise:\n",
    "\n",
    "In this part you will fit the linear regression parameters \"w\" to our dataset using the gradient descent algorithm. Regularization term is not considered for simplicity."
   ]
  },
  {
   "cell_type": "markdown",
   "metadata": {},
   "source": [
    "#### Add the intercept term to the datamatrix X and store it in the new datamatrix X1 and do not modify X"
   ]
  },
  {
   "cell_type": "code",
   "execution_count": 8,
   "metadata": {
    "collapsed": true
   },
   "outputs": [],
   "source": [
    "o=np.ones((97,),dtype=np.int)"
   ]
  },
  {
   "cell_type": "code",
   "execution_count": 9,
   "metadata": {},
   "outputs": [
    {
     "data": {
      "text/plain": [
       "(97,)"
      ]
     },
     "execution_count": 9,
     "metadata": {},
     "output_type": "execute_result"
    }
   ],
   "source": [
    "o.shape"
   ]
  },
  {
   "cell_type": "code",
   "execution_count": 10,
   "metadata": {},
   "outputs": [
    {
     "data": {
      "text/plain": [
       "array([1, 1, 1, 1, 1, 1, 1, 1, 1, 1, 1, 1, 1, 1, 1, 1, 1, 1, 1, 1, 1, 1, 1,\n",
       "       1, 1, 1, 1, 1, 1, 1, 1, 1, 1, 1, 1, 1, 1, 1, 1, 1, 1, 1, 1, 1, 1, 1,\n",
       "       1, 1, 1, 1, 1, 1, 1, 1, 1, 1, 1, 1, 1, 1, 1, 1, 1, 1, 1, 1, 1, 1, 1,\n",
       "       1, 1, 1, 1, 1, 1, 1, 1, 1, 1, 1, 1, 1, 1, 1, 1, 1, 1, 1, 1, 1, 1, 1,\n",
       "       1, 1, 1, 1, 1])"
      ]
     },
     "execution_count": 10,
     "metadata": {},
     "output_type": "execute_result"
    }
   ],
   "source": [
    "o"
   ]
  },
  {
   "cell_type": "code",
   "execution_count": 30,
   "metadata": {},
   "outputs": [
    {
     "data": {
      "text/plain": [
       "(97, 1)"
      ]
     },
     "execution_count": 30,
     "metadata": {},
     "output_type": "execute_result"
    }
   ],
   "source": [
    "X.shape"
   ]
  },
  {
   "cell_type": "code",
   "execution_count": 31,
   "metadata": {},
   "outputs": [
    {
     "data": {
      "text/plain": [
       "array([1, 1, 1, 1, 1, 1, 1, 1, 1, 1, 1, 1, 1, 1, 1, 1, 1, 1, 1, 1, 1, 1, 1,\n",
       "       1, 1, 1, 1, 1, 1, 1, 1, 1, 1, 1, 1, 1, 1, 1, 1, 1, 1, 1, 1, 1, 1, 1,\n",
       "       1, 1, 1, 1, 1, 1, 1, 1, 1, 1, 1, 1, 1, 1, 1, 1, 1, 1, 1, 1, 1, 1, 1,\n",
       "       1, 1, 1, 1, 1, 1, 1, 1, 1, 1, 1, 1, 1, 1, 1, 1, 1, 1, 1, 1, 1, 1, 1,\n",
       "       1, 1, 1, 1, 1])"
      ]
     },
     "execution_count": 31,
     "metadata": {},
     "output_type": "execute_result"
    }
   ],
   "source": [
    "o"
   ]
  },
  {
   "cell_type": "code",
   "execution_count": 11,
   "metadata": {},
   "outputs": [
    {
     "data": {
      "text/plain": [
       "array([[-0.53240565],\n",
       "       [-0.68368294],\n",
       "       [ 0.09319761],\n",
       "       [-0.30042464],\n",
       "       [-0.5974206 ],\n",
       "       [ 0.0579498 ],\n",
       "       [-0.17751184],\n",
       "       [ 0.10865262],\n",
       "       [-0.4347144 ],\n",
       "       [-0.80656976],\n",
       "       [-0.63614904],\n",
       "       [ 1.55957946],\n",
       "       [-0.63009691],\n",
       "       [ 0.06457337],\n",
       "       [-0.6543314 ],\n",
       "       [-0.72220358],\n",
       "       [-0.46609197],\n",
       "       [-0.78695878],\n",
       "       [-0.44941614],\n",
       "       [-0.28286567],\n",
       "       [-0.51188555],\n",
       "       [ 3.14560127],\n",
       "       [-0.69344947],\n",
       "       [-0.47630007],\n",
       "       [-0.67402031],\n",
       "       [ 2.80143506],\n",
       "       [ 1.21255602],\n",
       "       [ 0.72656735],\n",
       "       [ 1.30294835],\n",
       "       [ 3.64769432],\n",
       "       [-0.75519159],\n",
       "       [-0.40790839],\n",
       "       [ 0.28270982],\n",
       "       [-0.58910866],\n",
       "       [ 0.01332508],\n",
       "       [-0.05880697],\n",
       "       [-0.0165979 ],\n",
       "       [-0.66326674],\n",
       "       [ 1.214634  ],\n",
       "       [-0.46920894],\n",
       "       [-0.71506051],\n",
       "       [-0.33177623],\n",
       "       [ 0.92163816],\n",
       "       [-0.61978491],\n",
       "       [-0.08704158],\n",
       "       [-0.27707328],\n",
       "       [-0.80251769],\n",
       "       [-0.61258989],\n",
       "       [ 0.91956017],\n",
       "       [-0.68007244],\n",
       "       [-0.16093991],\n",
       "       [-0.74082752],\n",
       "       [-0.19114862],\n",
       "       [-0.14460176],\n",
       "       [-0.47455975],\n",
       "       [-0.46778033],\n",
       "       [-0.48978099],\n",
       "       [-0.65459115],\n",
       "       [ 0.2988142 ],\n",
       "       [ 0.33606207],\n",
       "       [ 0.17288833],\n",
       "       [-0.77417917],\n",
       "       [ 3.40768709],\n",
       "       [ 1.75283204],\n",
       "       [ 2.80507153],\n",
       "       [-0.2445788 ],\n",
       "       [ 0.03514392],\n",
       "       [ 0.53928898],\n",
       "       [-0.69103381],\n",
       "       [ 3.16404339],\n",
       "       [ 0.51331417],\n",
       "       [-0.2143701 ],\n",
       "       [-0.55939348],\n",
       "       [-0.24257874],\n",
       "       [-0.81376478],\n",
       "       [-0.41868794],\n",
       "       [-0.16135551],\n",
       "       [-0.8112712 ],\n",
       "       [ 0.5491594 ],\n",
       "       [-0.79277713],\n",
       "       [-0.6313437 ],\n",
       "       [-0.77181546],\n",
       "       [-0.46861152],\n",
       "       [ 0.4179087 ],\n",
       "       [-0.42699988],\n",
       "       [ 0.09283397],\n",
       "       [ 0.26504695],\n",
       "       [-0.56048442],\n",
       "       [-0.6855791 ],\n",
       "       [-0.80532297],\n",
       "       [-0.63692828],\n",
       "       [-0.1359002 ],\n",
       "       [-0.59458934],\n",
       "       [-0.74142494],\n",
       "       [ 0.03470234],\n",
       "       [ 1.35957343],\n",
       "       [-0.70726806]])"
      ]
     },
     "execution_count": 11,
     "metadata": {},
     "output_type": "execute_result"
    }
   ],
   "source": [
    "X"
   ]
  },
  {
   "cell_type": "code",
   "execution_count": 40,
   "metadata": {
    "collapsed": true
   },
   "outputs": [],
   "source": [
    "o = np.ones((97,),dtype=np.int)\n",
    "X1= np.c_[o, X]"
   ]
  },
  {
   "cell_type": "code",
   "execution_count": 41,
   "metadata": {},
   "outputs": [
    {
     "data": {
      "text/plain": [
       "array([[ 1.        , -0.53240565],\n",
       "       [ 1.        , -0.68368294],\n",
       "       [ 1.        ,  0.09319761],\n",
       "       [ 1.        , -0.30042464],\n",
       "       [ 1.        , -0.5974206 ]])"
      ]
     },
     "execution_count": 41,
     "metadata": {},
     "output_type": "execute_result"
    }
   ],
   "source": [
    "X1[:5]"
   ]
  },
  {
   "cell_type": "code",
   "execution_count": null,
   "metadata": {
    "collapsed": true
   },
   "outputs": [],
   "source": []
  },
  {
   "cell_type": "code",
   "execution_count": null,
   "metadata": {
    "collapsed": true
   },
   "outputs": [],
   "source": []
  },
  {
   "cell_type": "code",
   "execution_count": 59,
   "metadata": {
    "collapsed": true
   },
   "outputs": [],
   "source": [
    "def linear_regression(X, y, iterations, r):\n",
    "    '''\n",
    "       The input to the function is the datamatrix 'X', vector of the out variable 'y',\n",
    "       number of iterations for the gradient descent algorithm and the learning rate 'r'\n",
    "       \n",
    "       The function returns the parameters of the hyperplane in the weight vector 'w'\n",
    "    '''\n",
    "    \n",
    "    n, m = X.shape\n",
    "    \n",
    "    ## Initializing the weight vector to zero\n",
    "    w =np.zeros((1,2))\n",
    "    \n",
    "    \n",
    "    ## Gradient Descent loop\n",
    "    for k in range(1, iterations+1):\n",
    "        ## Apply Gradient Descent update funtion to all the weights w[0] to w[m] - Do not add the regularization term\n",
    "        l=[]\n",
    "        \n",
    "        for i in range(0,2):\n",
    "            for j in range(0,97):\n",
    "                l.append((y[j]-np.dot(w,X[j]))*X[j][i])\n",
    "                \n",
    "            \n",
    "                \n",
    "        ## Simultaneously update all the components of weight vector 'w'   \n",
    "            w[0][i]=w[0][i]-(-2)*r*(np.sum(l))\n",
    "        \n",
    "    return w"
   ]
  },
  {
   "cell_type": "code",
   "execution_count": 60,
   "metadata": {},
   "outputs": [
    {
     "name": "stdout",
     "output_type": "stream",
     "text": [
      "[[ 5.83913505  4.59304113]]\n"
     ]
    }
   ],
   "source": [
    "w = linear_regression(X1, y, 1500, 0.01)\n",
    "print(w)"
   ]
  },
  {
   "cell_type": "code",
   "execution_count": 63,
   "metadata": {},
   "outputs": [
    {
     "name": "stdout",
     "output_type": "stream",
     "text": [
      "[5.8391350515463891, 4.5930411333628243]\n"
     ]
    }
   ],
   "source": [
    "v=[]\n",
    "v.append(w[0][0])\n",
    "v.append(w[0][1])\n",
    "print(v)"
   ]
  },
  {
   "cell_type": "code",
   "execution_count": 64,
   "metadata": {},
   "outputs": [
    {
     "data": {
      "text/plain": [
       "Text(0,0.5,'Profit')"
      ]
     },
     "execution_count": 64,
     "metadata": {},
     "output_type": "execute_result"
    },
    {
     "data": {
      "image/png": "[encoded data removed]",
      "text/plain": [
       "<matplotlib.figure.Figure at 0xa640390>"
      ]
     },
     "metadata": {},
     "output_type": "display_data"
    }
   ],
   "source": [
    "plt.scatter(X, y)\n",
    "plt.plot(X, X1.dot(v), 'red')\n",
    "plt.xlabel('Population')\n",
    "plt.ylabel('Profit')"
   ]
  },
  {
   "cell_type": "code",
   "execution_count": null,
   "metadata": {
    "collapsed": true
   },
   "outputs": [],
   "source": []
  }
 ],
 "metadata": {
  "kernelspec": {
   "display_name": "Python 3",
   "language": "python",
   "name": "python3"
  },
  "language_info": {
   "codemirror_mode": {
    "name": "ipython",
    "version": 3
   },
   "file_extension": ".py",
   "mimetype": "text/x-python",
   "name": "python",
   "nbconvert_exporter": "python",
   "pygments_lexer": "ipython3",
   "version": "3.6.3"
  }
 },
 "nbformat": 4,
 "nbformat_minor": 2
}
