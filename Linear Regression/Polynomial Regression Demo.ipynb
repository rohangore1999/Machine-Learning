{
 "cells": [
  {
   "cell_type": "markdown",
   "metadata": {},
   "source": [
    "## Polynomial Regression Demo"
   ]
  },
  {
   "cell_type": "markdown",
   "metadata": {},
   "source": [
    "Refer Link - https://arachnoid.com/polysolve/\n",
    "\n",
    "Fill below data points\n",
    "\n",
    "-1 -1\n",
    "0 1.5\n",
    "0.5 1.2\n",
    "1 3.5\n",
    "1.5 5.5\n",
    "2 5.2\n",
    "2.5 4\n",
    "3 6\n",
    "3.5 5.5\n",
    "4 6.5\n",
    "4.5 4\n",
    "5 6.8\n",
    "5.5 7.5\n",
    "6 7\n",
    "7 7.3\n",
    "8 7.5\n",
    "9 7.8"
   ]
  },
  {
   "cell_type": "code",
   "execution_count": null,
   "metadata": {
    "collapsed": true
   },
   "outputs": [],
   "source": []
  }
 ],
 "metadata": {
  "kernelspec": {
   "display_name": "Python 3",
   "language": "python",
   "name": "python3"
  },
  "language_info": {
   "codemirror_mode": {
    "name": "ipython",
    "version": 3
   },
   "file_extension": ".py",
   "mimetype": "text/x-python",
   "name": "python",
   "nbconvert_exporter": "python",
   "pygments_lexer": "ipython3",
   "version": "3.5.4"
  }
 },
 "nbformat": 4,
 "nbformat_minor": 2
}
