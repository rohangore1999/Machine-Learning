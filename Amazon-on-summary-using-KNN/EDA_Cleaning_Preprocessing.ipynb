{
 "cells": [
  {
   "cell_type": "markdown",
   "metadata": {},
   "source": [
    "#### References\n",
    "Dataset - https://www.kaggle.com/snap/amazon-fine-food-reviews"
   ]
  },
  {
   "cell_type": "markdown",
   "metadata": {},
   "source": [
    "The Amazon Fine Food Reviews dataset consists of reviews of fine foods from Amazon.\n",
    "\n",
    "Number of reviews: 568,454<br>\n",
    "Number of users: 256,059<br>\n",
    "Number of products: 74,258<br>\n",
    "Timespan: Oct 1999 - Oct 2012<br>\n",
    "Number of Attributes/Columns in data: 10 \n",
    "\n",
    "Attribute Information:\n",
    "\n",
    "1. Id\n",
    "2. ProductId - unique identifier for the product\n",
    "3. UserId - unqiue identifier for the user\n",
    "4. ProfileName\n",
    "5. HelpfulnessNumerator - number of users who found the review helpful\n",
    "6. HelpfulnessDenominator - number of users who indicated whether they found the review helpful or not\n",
    "7. Score - rating between 1 and 5\n",
    "8. Time - timestamp for the review\n",
    "9. Summary - brief summary of the review\n",
    "10. Text - text of the review"
   ]
  },
  {
   "cell_type": "markdown",
   "metadata": {},
   "source": [
    "#### Objective:\n",
    "Given a review, determine whether the review is positive (Rating of 4 or 5) or negative (rating of 1 or 2).\n",
    "\n",
    "[Q] How to determine if a review is positive or negative?<br>\n",
    "<br> \n",
    "[Ans] We could use the Score/Rating. A rating of 4 or 5 could be cosnidered a positive review. A review of 1 or 2 could be considered negative. A review of 3 is nuetral and ignored. This is an approximate way of determining the polarity (positivity/negativity) of a review."
   ]
  },
  {
   "cell_type": "markdown",
   "metadata": {},
   "source": [
    "#### Loading the data\n",
    "The dataset is available in two forms\n",
    "1. .csv file\n",
    "2. SQLite Database\n",
    "\n",
    "Here as we only want to get the global sentiment of the recommendations (positive or negative), we will purposefully ignore all Scores equal to 3. If the score id above 3, then the recommendation wil be set to \"positive\". Otherwise, it will be set to \"negative\"."
   ]
  },
  {
   "cell_type": "code",
   "execution_count": 1,
   "metadata": {},
   "outputs": [
    {
     "name": "stderr",
     "output_type": "stream",
     "text": [
      "C:\\Users\\HARSHALL\\Anaconda3\\lib\\site-packages\\gensim\\utils.py:860: UserWarning: detected Windows; aliasing chunkize to chunkize_serial\n",
      "  warnings.warn(\"detected Windows; aliasing chunkize to chunkize_serial\")\n"
     ]
    }
   ],
   "source": [
    "## Import libraries\n",
    "import numpy as np\n",
    "import pandas as pd\n",
    "import matplotlib.pyplot as plt\n",
    "import seaborn as sns\n",
    "%matplotlib inline\n",
    "\n",
    "import sqlite3    ## SQL Interface\n",
    "import pickle     ## Used to save your data - Converts objects to byte stream and vice versa\n",
    "\n",
    "from sklearn.feature_extraction.text import CountVectorizer  ## BOW Model\n",
    "from sklearn.feature_extraction.text import TfidfVectorizer  ## TFIDF Model\n",
    "\n",
    "from sklearn.manifold import TSNE    ## To visualize high dimensional data\n",
    "\n",
    "## Modules to perform Text Preprocessing\n",
    "import re\n",
    "import nltk\n",
    "from nltk.corpus import stopwords\n",
    "\n",
    "import gensim    ## To build Word2Vec model"
   ]
  },
  {
   "cell_type": "code",
   "execution_count": 2,
   "metadata": {},
   "outputs": [
    {
     "data": {
      "text/html": [
       "<div>\n",
       "<style>\n",
       "    .dataframe thead tr:only-child th {\n",
       "        text-align: right;\n",
       "    }\n",
       "\n",
       "    .dataframe thead th {\n",
       "        text-align: left;\n",
       "    }\n",
       "\n",
       "    .dataframe tbody tr th {\n",
       "        vertical-align: top;\n",
       "    }\n",
       "</style>\n",
       "<table border=\"1\" class=\"dataframe\">\n",
       "  <thead>\n",
       "    <tr style=\"text-align: right;\">\n",
       "      <th></th>\n",
       "      <th>Id</th>\n",
       "      <th>ProductId</th>\n",
       "      <th>UserId</th>\n",
       "      <th>ProfileName</th>\n",
       "      <th>HelpfulnessNumerator</th>\n",
       "      <th>HelpfulnessDenominator</th>\n",
       "      <th>Score</th>\n",
       "      <th>Time</th>\n",
       "      <th>Summary</th>\n",
       "      <th>Text</th>\n",
       "    </tr>\n",
       "  </thead>\n",
       "  <tbody>\n",
       "    <tr>\n",
       "      <th>0</th>\n",
       "      <td>1</td>\n",
       "      <td>B001E4KFG0</td>\n",
       "      <td>A3SGXH7AUHU8GW</td>\n",
       "      <td>delmartian</td>\n",
       "      <td>1</td>\n",
       "      <td>1</td>\n",
       "      <td>5</td>\n",
       "      <td>1303862400</td>\n",
       "      <td>Good Quality Dog Food</td>\n",
       "      <td>I have bought several of the Vitality canned d...</td>\n",
       "    </tr>\n",
       "    <tr>\n",
       "      <th>1</th>\n",
       "      <td>2</td>\n",
       "      <td>B00813GRG4</td>\n",
       "      <td>A1D87F6ZCVE5NK</td>\n",
       "      <td>dll pa</td>\n",
       "      <td>0</td>\n",
       "      <td>0</td>\n",
       "      <td>1</td>\n",
       "      <td>1346976000</td>\n",
       "      <td>Not as Advertised</td>\n",
       "      <td>Product arrived labeled as Jumbo Salted Peanut...</td>\n",
       "    </tr>\n",
       "    <tr>\n",
       "      <th>2</th>\n",
       "      <td>3</td>\n",
       "      <td>B000LQOCH0</td>\n",
       "      <td>ABXLMWJIXXAIN</td>\n",
       "      <td>Natalia Corres \"Natalia Corres\"</td>\n",
       "      <td>1</td>\n",
       "      <td>1</td>\n",
       "      <td>4</td>\n",
       "      <td>1219017600</td>\n",
       "      <td>\"Delight\" says it all</td>\n",
       "      <td>This is a confection that has been around a fe...</td>\n",
       "    </tr>\n",
       "    <tr>\n",
       "      <th>3</th>\n",
       "      <td>4</td>\n",
       "      <td>B000UA0QIQ</td>\n",
       "      <td>A395BORC6FGVXV</td>\n",
       "      <td>Karl</td>\n",
       "      <td>3</td>\n",
       "      <td>3</td>\n",
       "      <td>2</td>\n",
       "      <td>1307923200</td>\n",
       "      <td>Cough Medicine</td>\n",
       "      <td>If you are looking for the secret ingredient i...</td>\n",
       "    </tr>\n",
       "    <tr>\n",
       "      <th>4</th>\n",
       "      <td>5</td>\n",
       "      <td>B006K2ZZ7K</td>\n",
       "      <td>A1UQRSCLF8GW1T</td>\n",
       "      <td>Michael D. Bigham \"M. Wassir\"</td>\n",
       "      <td>0</td>\n",
       "      <td>0</td>\n",
       "      <td>5</td>\n",
       "      <td>1350777600</td>\n",
       "      <td>Great taffy</td>\n",
       "      <td>Great taffy at a great price.  There was a wid...</td>\n",
       "    </tr>\n",
       "  </tbody>\n",
       "</table>\n",
       "</div>"
      ],
      "text/plain": [
       "   Id   ProductId          UserId                      ProfileName  \\\n",
       "0   1  B001E4KFG0  A3SGXH7AUHU8GW                       delmartian   \n",
       "1   2  B00813GRG4  A1D87F6ZCVE5NK                           dll pa   \n",
       "2   3  B000LQOCH0   ABXLMWJIXXAIN  Natalia Corres \"Natalia Corres\"   \n",
       "3   4  B000UA0QIQ  A395BORC6FGVXV                             Karl   \n",
       "4   5  B006K2ZZ7K  A1UQRSCLF8GW1T    Michael D. Bigham \"M. Wassir\"   \n",
       "\n",
       "   HelpfulnessNumerator  HelpfulnessDenominator  Score        Time  \\\n",
       "0                     1                       1      5  1303862400   \n",
       "1                     0                       0      1  1346976000   \n",
       "2                     1                       1      4  1219017600   \n",
       "3                     3                       3      2  1307923200   \n",
       "4                     0                       0      5  1350777600   \n",
       "\n",
       "                 Summary                                               Text  \n",
       "0  Good Quality Dog Food  I have bought several of the Vitality canned d...  \n",
       "1      Not as Advertised  Product arrived labeled as Jumbo Salted Peanut...  \n",
       "2  \"Delight\" says it all  This is a confection that has been around a fe...  \n",
       "3         Cough Medicine  If you are looking for the secret ingredient i...  \n",
       "4            Great taffy  Great taffy at a great price.  There was a wid...  "
      ]
     },
     "execution_count": 2,
     "metadata": {},
     "output_type": "execute_result"
    }
   ],
   "source": [
    "# using the SQLite Table to read data.\n",
    "conn = sqlite3.connect('database.sqlite')\n",
    "\n",
    "#filtering only positive and negative reviews i.e. \n",
    "# not taking into consideration those reviews with Score=3\n",
    "filtered_data = pd.read_sql_query(\"\"\"\n",
    "SELECT *\n",
    "FROM Reviews\n",
    "WHERE Score != 3\n",
    "\"\"\", conn)\n",
    "\n",
    "conn.close()\n",
    "\n",
    "filtered_data.head()"
   ]
  },
  {
   "cell_type": "markdown",
   "metadata": {},
   "source": [
    "**Note:** Time is stored is the unix timestamp"
   ]
  },
  {
   "cell_type": "code",
   "execution_count": 3,
   "metadata": {},
   "outputs": [
    {
     "data": {
      "text/plain": [
       "(525814, 10)"
      ]
     },
     "execution_count": 3,
     "metadata": {},
     "output_type": "execute_result"
    }
   ],
   "source": [
    "filtered_data.shape"
   ]
  },
  {
   "cell_type": "code",
   "execution_count": null,
   "metadata": {
    "collapsed": true
   },
   "outputs": [],
   "source": [
    "filtered_data"
   ]
  },
  {
   "cell_type": "code",
   "execution_count": 3,
   "metadata": {
    "collapsed": true
   },
   "outputs": [],
   "source": [
    "# Give reviews with Score>3 a positive rating, and reviews with a score<3 a negative rating.\n",
    "def partition(x):\n",
    "    if x < 3:\n",
    "        return 'negative'\n",
    "    return 'positive'\n",
    "\n",
    "## Pandas Series have a map function which apply function object to all the elements\n",
    "filtered_data['Score'] = filtered_data['Score'].map(partition)"
   ]
  },
  {
   "cell_type": "code",
   "execution_count": 4,
   "metadata": {},
   "outputs": [
    {
     "data": {
      "text/html": [
       "<div>\n",
       "<style>\n",
       "    .dataframe thead tr:only-child th {\n",
       "        text-align: right;\n",
       "    }\n",
       "\n",
       "    .dataframe thead th {\n",
       "        text-align: left;\n",
       "    }\n",
       "\n",
       "    .dataframe tbody tr th {\n",
       "        vertical-align: top;\n",
       "    }\n",
       "</style>\n",
       "<table border=\"1\" class=\"dataframe\">\n",
       "  <thead>\n",
       "    <tr style=\"text-align: right;\">\n",
       "      <th></th>\n",
       "      <th>Id</th>\n",
       "      <th>ProductId</th>\n",
       "      <th>UserId</th>\n",
       "      <th>ProfileName</th>\n",
       "      <th>HelpfulnessNumerator</th>\n",
       "      <th>HelpfulnessDenominator</th>\n",
       "      <th>Score</th>\n",
       "      <th>Time</th>\n",
       "      <th>Summary</th>\n",
       "      <th>Text</th>\n",
       "    </tr>\n",
       "  </thead>\n",
       "  <tbody>\n",
       "    <tr>\n",
       "      <th>0</th>\n",
       "      <td>1</td>\n",
       "      <td>B001E4KFG0</td>\n",
       "      <td>A3SGXH7AUHU8GW</td>\n",
       "      <td>delmartian</td>\n",
       "      <td>1</td>\n",
       "      <td>1</td>\n",
       "      <td>positive</td>\n",
       "      <td>1303862400</td>\n",
       "      <td>Good Quality Dog Food</td>\n",
       "      <td>I have bought several of the Vitality canned d...</td>\n",
       "    </tr>\n",
       "    <tr>\n",
       "      <th>1</th>\n",
       "      <td>2</td>\n",
       "      <td>B00813GRG4</td>\n",
       "      <td>A1D87F6ZCVE5NK</td>\n",
       "      <td>dll pa</td>\n",
       "      <td>0</td>\n",
       "      <td>0</td>\n",
       "      <td>negative</td>\n",
       "      <td>1346976000</td>\n",
       "      <td>Not as Advertised</td>\n",
       "      <td>Product arrived labeled as Jumbo Salted Peanut...</td>\n",
       "    </tr>\n",
       "    <tr>\n",
       "      <th>2</th>\n",
       "      <td>3</td>\n",
       "      <td>B000LQOCH0</td>\n",
       "      <td>ABXLMWJIXXAIN</td>\n",
       "      <td>Natalia Corres \"Natalia Corres\"</td>\n",
       "      <td>1</td>\n",
       "      <td>1</td>\n",
       "      <td>positive</td>\n",
       "      <td>1219017600</td>\n",
       "      <td>\"Delight\" says it all</td>\n",
       "      <td>This is a confection that has been around a fe...</td>\n",
       "    </tr>\n",
       "    <tr>\n",
       "      <th>3</th>\n",
       "      <td>4</td>\n",
       "      <td>B000UA0QIQ</td>\n",
       "      <td>A395BORC6FGVXV</td>\n",
       "      <td>Karl</td>\n",
       "      <td>3</td>\n",
       "      <td>3</td>\n",
       "      <td>negative</td>\n",
       "      <td>1307923200</td>\n",
       "      <td>Cough Medicine</td>\n",
       "      <td>If you are looking for the secret ingredient i...</td>\n",
       "    </tr>\n",
       "    <tr>\n",
       "      <th>4</th>\n",
       "      <td>5</td>\n",
       "      <td>B006K2ZZ7K</td>\n",
       "      <td>A1UQRSCLF8GW1T</td>\n",
       "      <td>Michael D. Bigham \"M. Wassir\"</td>\n",
       "      <td>0</td>\n",
       "      <td>0</td>\n",
       "      <td>positive</td>\n",
       "      <td>1350777600</td>\n",
       "      <td>Great taffy</td>\n",
       "      <td>Great taffy at a great price.  There was a wid...</td>\n",
       "    </tr>\n",
       "  </tbody>\n",
       "</table>\n",
       "</div>"
      ],
      "text/plain": [
       "   Id   ProductId          UserId                      ProfileName  \\\n",
       "0   1  B001E4KFG0  A3SGXH7AUHU8GW                       delmartian   \n",
       "1   2  B00813GRG4  A1D87F6ZCVE5NK                           dll pa   \n",
       "2   3  B000LQOCH0   ABXLMWJIXXAIN  Natalia Corres \"Natalia Corres\"   \n",
       "3   4  B000UA0QIQ  A395BORC6FGVXV                             Karl   \n",
       "4   5  B006K2ZZ7K  A1UQRSCLF8GW1T    Michael D. Bigham \"M. Wassir\"   \n",
       "\n",
       "   HelpfulnessNumerator  HelpfulnessDenominator     Score        Time  \\\n",
       "0                     1                       1  positive  1303862400   \n",
       "1                     0                       0  negative  1346976000   \n",
       "2                     1                       1  positive  1219017600   \n",
       "3                     3                       3  negative  1307923200   \n",
       "4                     0                       0  positive  1350777600   \n",
       "\n",
       "                 Summary                                               Text  \n",
       "0  Good Quality Dog Food  I have bought several of the Vitality canned d...  \n",
       "1      Not as Advertised  Product arrived labeled as Jumbo Salted Peanut...  \n",
       "2  \"Delight\" says it all  This is a confection that has been around a fe...  \n",
       "3         Cough Medicine  If you are looking for the secret ingredient i...  \n",
       "4            Great taffy  Great taffy at a great price.  There was a wid...  "
      ]
     },
     "execution_count": 4,
     "metadata": {},
     "output_type": "execute_result"
    }
   ],
   "source": [
    "filtered_data.head()"
   ]
  },
  {
   "cell_type": "markdown",
   "metadata": {},
   "source": [
    "## EDA\n",
    "#### Data Cleaning - Removing the duplicates (Data Deduplication)\n",
    "Many real world data contain duplicate entries which must be removed otherwise we may get biased results<br>\n",
    "There are sayings in ML that **Garbage in - Garbage out**, and **Better Data beats Fancier Algorithms**"
   ]
  },
  {
   "cell_type": "code",
   "execution_count": 8,
   "metadata": {},
   "outputs": [
    {
     "data": {
      "text/plain": [
       "3157"
      ]
     },
     "execution_count": 8,
     "metadata": {},
     "output_type": "execute_result"
    }
   ],
   "source": [
    "filtered_data['Time'].nunique()"
   ]
  },
  {
   "cell_type": "code",
   "execution_count": 10,
   "metadata": {},
   "outputs": [
    {
     "data": {
      "text/plain": [
       "array([1303862400, 1346976000, 1219017600, ..., 1090627200, 1072915200,\n",
       "       1087776000], dtype=int64)"
      ]
     },
     "execution_count": 10,
     "metadata": {},
     "output_type": "execute_result"
    }
   ],
   "source": [
    "filtered_data['Time'].unique()"
   ]
  },
  {
   "cell_type": "code",
   "execution_count": 11,
   "metadata": {},
   "outputs": [
    {
     "data": {
      "text/html": [
       "<div>\n",
       "<style>\n",
       "    .dataframe thead tr:only-child th {\n",
       "        text-align: right;\n",
       "    }\n",
       "\n",
       "    .dataframe thead th {\n",
       "        text-align: left;\n",
       "    }\n",
       "\n",
       "    .dataframe tbody tr th {\n",
       "        vertical-align: top;\n",
       "    }\n",
       "</style>\n",
       "<table border=\"1\" class=\"dataframe\">\n",
       "  <thead>\n",
       "    <tr style=\"text-align: right;\">\n",
       "      <th></th>\n",
       "      <th>Id</th>\n",
       "      <th>ProductId</th>\n",
       "      <th>UserId</th>\n",
       "      <th>ProfileName</th>\n",
       "      <th>HelpfulnessNumerator</th>\n",
       "      <th>HelpfulnessDenominator</th>\n",
       "      <th>Score</th>\n",
       "      <th>Time</th>\n",
       "      <th>Summary</th>\n",
       "      <th>Text</th>\n",
       "    </tr>\n",
       "  </thead>\n",
       "  <tbody>\n",
       "    <tr>\n",
       "      <th>0</th>\n",
       "      <td>1</td>\n",
       "      <td>B001E4KFG0</td>\n",
       "      <td>A3SGXH7AUHU8GW</td>\n",
       "      <td>delmartian</td>\n",
       "      <td>1</td>\n",
       "      <td>1</td>\n",
       "      <td>positive</td>\n",
       "      <td>1303862400</td>\n",
       "      <td>Good Quality Dog Food</td>\n",
       "      <td>I have bought several of the Vitality canned d...</td>\n",
       "    </tr>\n",
       "    <tr>\n",
       "      <th>679</th>\n",
       "      <td>731</td>\n",
       "      <td>B002U56JXK</td>\n",
       "      <td>A1PIDGL665V5QP</td>\n",
       "      <td>Rod Jonse</td>\n",
       "      <td>2</td>\n",
       "      <td>2</td>\n",
       "      <td>positive</td>\n",
       "      <td>1303862400</td>\n",
       "      <td>Unparalleled taste</td>\n",
       "      <td>I purchased this 24 pack of Big Ass soda and o...</td>\n",
       "    </tr>\n",
       "    <tr>\n",
       "      <th>680</th>\n",
       "      <td>732</td>\n",
       "      <td>B002U56JXK</td>\n",
       "      <td>ASC04R0BT3TO4</td>\n",
       "      <td>the BURNiNATOR \"raggle fraggle\"</td>\n",
       "      <td>2</td>\n",
       "      <td>2</td>\n",
       "      <td>positive</td>\n",
       "      <td>1303862400</td>\n",
       "      <td>Amazing</td>\n",
       "      <td>Well being the big red fan that I am, I bought...</td>\n",
       "    </tr>\n",
       "    <tr>\n",
       "      <th>1520</th>\n",
       "      <td>1648</td>\n",
       "      <td>B001RVFDOO</td>\n",
       "      <td>A18GRF94T65X9Z</td>\n",
       "      <td>Reem Chavez</td>\n",
       "      <td>0</td>\n",
       "      <td>0</td>\n",
       "      <td>positive</td>\n",
       "      <td>1303862400</td>\n",
       "      <td>Best chips!</td>\n",
       "      <td>I wa hesitant about ordering this product simp...</td>\n",
       "    </tr>\n",
       "    <tr>\n",
       "      <th>2245</th>\n",
       "      <td>2440</td>\n",
       "      <td>B0089SPDUW</td>\n",
       "      <td>A163RZETDROJL5</td>\n",
       "      <td>D. Johnson \"Dr. Duck\"</td>\n",
       "      <td>0</td>\n",
       "      <td>0</td>\n",
       "      <td>positive</td>\n",
       "      <td>1303862400</td>\n",
       "      <td>Best K-cup out there.</td>\n",
       "      <td>So Far this is the only K-cup I've found thats...</td>\n",
       "    </tr>\n",
       "    <tr>\n",
       "      <th>5823</th>\n",
       "      <td>6302</td>\n",
       "      <td>B001D6F1PY</td>\n",
       "      <td>A2S4DN72TMWC2C</td>\n",
       "      <td>Andy M. \"techno-geek\"</td>\n",
       "      <td>0</td>\n",
       "      <td>0</td>\n",
       "      <td>positive</td>\n",
       "      <td>1303862400</td>\n",
       "      <td>Makes THE BEST risotto!</td>\n",
       "      <td>If you want to make authentic Italian risotto ...</td>\n",
       "    </tr>\n",
       "    <tr>\n",
       "      <th>8166</th>\n",
       "      <td>8935</td>\n",
       "      <td>B0007A0AP8</td>\n",
       "      <td>A74SHV5ZD3RLT</td>\n",
       "      <td>R. Ellis \"Bobby\"</td>\n",
       "      <td>15</td>\n",
       "      <td>15</td>\n",
       "      <td>positive</td>\n",
       "      <td>1303862400</td>\n",
       "      <td>The price is right</td>\n",
       "      <td>We have a little Maltese that we spoil to no e...</td>\n",
       "    </tr>\n",
       "    <tr>\n",
       "      <th>14189</th>\n",
       "      <td>15489</td>\n",
       "      <td>B000255OIG</td>\n",
       "      <td>A3W35OAAB4XNX9</td>\n",
       "      <td>Maryann Aniela Royster</td>\n",
       "      <td>0</td>\n",
       "      <td>0</td>\n",
       "      <td>positive</td>\n",
       "      <td>1303862400</td>\n",
       "      <td>dogs love them</td>\n",
       "      <td>all natural,dogs favorite treat. Don't give to...</td>\n",
       "    </tr>\n",
       "    <tr>\n",
       "      <th>17152</th>\n",
       "      <td>18706</td>\n",
       "      <td>B00008JOL0</td>\n",
       "      <td>A1WSMYIW8APC5C</td>\n",
       "      <td>KN</td>\n",
       "      <td>0</td>\n",
       "      <td>0</td>\n",
       "      <td>positive</td>\n",
       "      <td>1303862400</td>\n",
       "      <td>My dog loves these!</td>\n",
       "      <td>My dog really loves these treats - and he's ve...</td>\n",
       "    </tr>\n",
       "    <tr>\n",
       "      <th>18110</th>\n",
       "      <td>19737</td>\n",
       "      <td>B0030VBRIU</td>\n",
       "      <td>A2P7TE7CVQAHH7</td>\n",
       "      <td>Dana Puckett</td>\n",
       "      <td>5</td>\n",
       "      <td>5</td>\n",
       "      <td>positive</td>\n",
       "      <td>1303862400</td>\n",
       "      <td>Don't give up and give it more then one try!</td>\n",
       "      <td>I gave this flavor to my 6 month old son but h...</td>\n",
       "    </tr>\n",
       "    <tr>\n",
       "      <th>20169</th>\n",
       "      <td>21996</td>\n",
       "      <td>B000KV61FC</td>\n",
       "      <td>A7T3EGPBVMO6Y</td>\n",
       "      <td>Nichole R. Bechel \"MyEnchantedLife\"</td>\n",
       "      <td>0</td>\n",
       "      <td>0</td>\n",
       "      <td>negative</td>\n",
       "      <td>1303862400</td>\n",
       "      <td>Not For A Strong Chewer</td>\n",
       "      <td>We bought the large one for our dog thinking i...</td>\n",
       "    </tr>\n",
       "    <tr>\n",
       "      <th>20707</th>\n",
       "      <td>22623</td>\n",
       "      <td>B00170NWEI</td>\n",
       "      <td>A1U7MO8VRB7WHC</td>\n",
       "      <td>L. STILL</td>\n",
       "      <td>2</td>\n",
       "      <td>2</td>\n",
       "      <td>positive</td>\n",
       "      <td>1303862400</td>\n",
       "      <td>Green tea with great taste</td>\n",
       "      <td>Ever since I flew on Japan Airlines and had de...</td>\n",
       "    </tr>\n",
       "    <tr>\n",
       "      <th>20715</th>\n",
       "      <td>22632</td>\n",
       "      <td>B00170NWEI</td>\n",
       "      <td>APYZ6Y3B3FO6</td>\n",
       "      <td>PTK \"mercedes driver\"</td>\n",
       "      <td>0</td>\n",
       "      <td>0</td>\n",
       "      <td>positive</td>\n",
       "      <td>1303862400</td>\n",
       "      <td>Among The Best Sencha</td>\n",
       "      <td>This is among the best sencha I have had. Many...</td>\n",
       "    </tr>\n",
       "    <tr>\n",
       "      <th>21863</th>\n",
       "      <td>23945</td>\n",
       "      <td>B0013NUGDE</td>\n",
       "      <td>A13FEDZA2FZLCC</td>\n",
       "      <td>Ryan Walsh</td>\n",
       "      <td>0</td>\n",
       "      <td>0</td>\n",
       "      <td>positive</td>\n",
       "      <td>1303862400</td>\n",
       "      <td>My favorite brand of chips</td>\n",
       "      <td>When I first heard about Popchips I thought th...</td>\n",
       "    </tr>\n",
       "    <tr>\n",
       "      <th>22076</th>\n",
       "      <td>24171</td>\n",
       "      <td>B0013NUGDE</td>\n",
       "      <td>AIN0ZUU09525J</td>\n",
       "      <td>NotASheep \"Booklover\"</td>\n",
       "      <td>2</td>\n",
       "      <td>5</td>\n",
       "      <td>negative</td>\n",
       "      <td>1303862400</td>\n",
       "      <td>To me, \"Original\" flavor just nasty tasting.</td>\n",
       "      <td>Unfortunately, I somehow stumbled upon this pr...</td>\n",
       "    </tr>\n",
       "    <tr>\n",
       "      <th>24879</th>\n",
       "      <td>27170</td>\n",
       "      <td>B002UQCY88</td>\n",
       "      <td>A2JWGBR1F593II</td>\n",
       "      <td>Mom of Four</td>\n",
       "      <td>0</td>\n",
       "      <td>0</td>\n",
       "      <td>negative</td>\n",
       "      <td>1303862400</td>\n",
       "      <td>Not happy with this product...</td>\n",
       "      <td>The crackers were all broken up and in crumbs....</td>\n",
       "    </tr>\n",
       "    <tr>\n",
       "      <th>26382</th>\n",
       "      <td>28795</td>\n",
       "      <td>B0002VXZ40</td>\n",
       "      <td>A1F3QKZTYPLTDG</td>\n",
       "      <td>Rob</td>\n",
       "      <td>0</td>\n",
       "      <td>0</td>\n",
       "      <td>positive</td>\n",
       "      <td>1303862400</td>\n",
       "      <td>MMM MMM</td>\n",
       "      <td>The best wasabi peas hands down.  They are all...</td>\n",
       "    </tr>\n",
       "    <tr>\n",
       "      <th>27131</th>\n",
       "      <td>29596</td>\n",
       "      <td>B000PDY3P0</td>\n",
       "      <td>A3FWLR0UW1VNCF</td>\n",
       "      <td>calliejazz</td>\n",
       "      <td>0</td>\n",
       "      <td>3</td>\n",
       "      <td>negative</td>\n",
       "      <td>1303862400</td>\n",
       "      <td>too salty</td>\n",
       "      <td>The salt is included with the oil for this pop...</td>\n",
       "    </tr>\n",
       "    <tr>\n",
       "      <th>27988</th>\n",
       "      <td>30520</td>\n",
       "      <td>B003CE79XC</td>\n",
       "      <td>A3ALWQBTR7JNBO</td>\n",
       "      <td>Rebekah</td>\n",
       "      <td>1</td>\n",
       "      <td>1</td>\n",
       "      <td>positive</td>\n",
       "      <td>1303862400</td>\n",
       "      <td>Effective cough drop</td>\n",
       "      <td>I've tried all sorts of cough drops over the y...</td>\n",
       "    </tr>\n",
       "    <tr>\n",
       "      <th>28376</th>\n",
       "      <td>30958</td>\n",
       "      <td>B007M83302</td>\n",
       "      <td>A13FEDZA2FZLCC</td>\n",
       "      <td>Ryan Walsh</td>\n",
       "      <td>0</td>\n",
       "      <td>0</td>\n",
       "      <td>positive</td>\n",
       "      <td>1303862400</td>\n",
       "      <td>My favorite brand of chips</td>\n",
       "      <td>When I first heard about Popchips I thought th...</td>\n",
       "    </tr>\n",
       "    <tr>\n",
       "      <th>28589</th>\n",
       "      <td>31184</td>\n",
       "      <td>B007M83302</td>\n",
       "      <td>AIN0ZUU09525J</td>\n",
       "      <td>NotASheep \"Booklover\"</td>\n",
       "      <td>2</td>\n",
       "      <td>5</td>\n",
       "      <td>negative</td>\n",
       "      <td>1303862400</td>\n",
       "      <td>To me, \"Original\" flavor just nasty tasting.</td>\n",
       "      <td>Unfortunately, I somehow stumbled upon this pr...</td>\n",
       "    </tr>\n",
       "    <tr>\n",
       "      <th>30290</th>\n",
       "      <td>32989</td>\n",
       "      <td>B001P05K8Q</td>\n",
       "      <td>A1Q7EM0982HB9C</td>\n",
       "      <td>DSWBELL</td>\n",
       "      <td>0</td>\n",
       "      <td>0</td>\n",
       "      <td>positive</td>\n",
       "      <td>1303862400</td>\n",
       "      <td>Really awesome!</td>\n",
       "      <td>Our golden retriever LOVES these!!  We've trie...</td>\n",
       "    </tr>\n",
       "    <tr>\n",
       "      <th>30291</th>\n",
       "      <td>32990</td>\n",
       "      <td>B001P05K8Q</td>\n",
       "      <td>A3OGE84FAHACSA</td>\n",
       "      <td>Marilyn Bostrack</td>\n",
       "      <td>0</td>\n",
       "      <td>0</td>\n",
       "      <td>positive</td>\n",
       "      <td>1303862400</td>\n",
       "      <td>Excellent Product</td>\n",
       "      <td>I have used this product for my Vizsla since h...</td>\n",
       "    </tr>\n",
       "    <tr>\n",
       "      <th>30762</th>\n",
       "      <td>33518</td>\n",
       "      <td>B006N3I84I</td>\n",
       "      <td>AZBQ1ONTA73S8</td>\n",
       "      <td>Kevin L Ravaioli</td>\n",
       "      <td>2</td>\n",
       "      <td>2</td>\n",
       "      <td>positive</td>\n",
       "      <td>1303862400</td>\n",
       "      <td>The best K-Cup flavor - Tully's Italian Roast</td>\n",
       "      <td>Without question the best coffee available for...</td>\n",
       "    </tr>\n",
       "    <tr>\n",
       "      <th>32390</th>\n",
       "      <td>35253</td>\n",
       "      <td>B001RJ1FWK</td>\n",
       "      <td>A36EV43GL4QJG</td>\n",
       "      <td>M. Johnson</td>\n",
       "      <td>4</td>\n",
       "      <td>4</td>\n",
       "      <td>positive</td>\n",
       "      <td>1303862400</td>\n",
       "      <td>Simply great</td>\n",
       "      <td>Products such as this are becoming hard to fin...</td>\n",
       "    </tr>\n",
       "    <tr>\n",
       "      <th>33630</th>\n",
       "      <td>36591</td>\n",
       "      <td>B004CLCEDE</td>\n",
       "      <td>A2PC0ZXDGUQIC3</td>\n",
       "      <td>Lakers 3 Peat</td>\n",
       "      <td>12</td>\n",
       "      <td>13</td>\n",
       "      <td>positive</td>\n",
       "      <td>1303862400</td>\n",
       "      <td>Healthiest Noodles you can buy</td>\n",
       "      <td>I gave these noodles a try and although they a...</td>\n",
       "    </tr>\n",
       "    <tr>\n",
       "      <th>33632</th>\n",
       "      <td>36593</td>\n",
       "      <td>B004CLCEDE</td>\n",
       "      <td>A1GNS4O52JF80Q</td>\n",
       "      <td>AlexisMarie</td>\n",
       "      <td>33</td>\n",
       "      <td>41</td>\n",
       "      <td>negative</td>\n",
       "      <td>1303862400</td>\n",
       "      <td>DO NOT waste your money</td>\n",
       "      <td>If something sounds too good to be true, it is...</td>\n",
       "    </tr>\n",
       "    <tr>\n",
       "      <th>33756</th>\n",
       "      <td>36730</td>\n",
       "      <td>B001HTJ2BQ</td>\n",
       "      <td>AXOSFCM74ZRV8</td>\n",
       "      <td>MaryPei</td>\n",
       "      <td>0</td>\n",
       "      <td>0</td>\n",
       "      <td>positive</td>\n",
       "      <td>1303862400</td>\n",
       "      <td>Coconut Milk Regular User</td>\n",
       "      <td>We like to keep a stock of coconut milk in our...</td>\n",
       "    </tr>\n",
       "    <tr>\n",
       "      <th>39616</th>\n",
       "      <td>43068</td>\n",
       "      <td>B002LFBA8S</td>\n",
       "      <td>A3FWLR0UW1VNCF</td>\n",
       "      <td>calliejazz</td>\n",
       "      <td>1</td>\n",
       "      <td>1</td>\n",
       "      <td>positive</td>\n",
       "      <td>1303862400</td>\n",
       "      <td>Excellent!</td>\n",
       "      <td>This is the best popcorn I have ever had.  Cru...</td>\n",
       "    </tr>\n",
       "    <tr>\n",
       "      <th>45673</th>\n",
       "      <td>49696</td>\n",
       "      <td>B000CRHQN0</td>\n",
       "      <td>A1Z3F716OX8GLM</td>\n",
       "      <td>Brie</td>\n",
       "      <td>0</td>\n",
       "      <td>1</td>\n",
       "      <td>positive</td>\n",
       "      <td>1303862400</td>\n",
       "      <td>Great balanced bar</td>\n",
       "      <td>These are an ideal bar for on the go! Though I...</td>\n",
       "    </tr>\n",
       "    <tr>\n",
       "      <th>...</th>\n",
       "      <td>...</td>\n",
       "      <td>...</td>\n",
       "      <td>...</td>\n",
       "      <td>...</td>\n",
       "      <td>...</td>\n",
       "      <td>...</td>\n",
       "      <td>...</td>\n",
       "      <td>...</td>\n",
       "      <td>...</td>\n",
       "      <td>...</td>\n",
       "    </tr>\n",
       "    <tr>\n",
       "      <th>484829</th>\n",
       "      <td>524272</td>\n",
       "      <td>B004JGQ15E</td>\n",
       "      <td>A3T5RU5T68IH1M</td>\n",
       "      <td>wiggins</td>\n",
       "      <td>3</td>\n",
       "      <td>4</td>\n",
       "      <td>positive</td>\n",
       "      <td>1303862400</td>\n",
       "      <td>Sweet Snack!</td>\n",
       "      <td>Wow, this little snack really packs a sweet pu...</td>\n",
       "    </tr>\n",
       "    <tr>\n",
       "      <th>489322</th>\n",
       "      <td>529102</td>\n",
       "      <td>B001EQ4IRA</td>\n",
       "      <td>AYNMA2G5P560Z</td>\n",
       "      <td>Aging Boomer \"Aging Boomer\"</td>\n",
       "      <td>0</td>\n",
       "      <td>0</td>\n",
       "      <td>positive</td>\n",
       "      <td>1303862400</td>\n",
       "      <td>Really Yummy Flavor</td>\n",
       "      <td>Nature Valley Crunchy Granola bars are all tas...</td>\n",
       "    </tr>\n",
       "    <tr>\n",
       "      <th>491146</th>\n",
       "      <td>531047</td>\n",
       "      <td>B001D0IZBW</td>\n",
       "      <td>A29YO2G4Y9FYT</td>\n",
       "      <td>G. Harper</td>\n",
       "      <td>1</td>\n",
       "      <td>1</td>\n",
       "      <td>negative</td>\n",
       "      <td>1303862400</td>\n",
       "      <td>Great coffee--pricing disaster</td>\n",
       "      <td>This extra-bold decaf is one of the best tasti...</td>\n",
       "    </tr>\n",
       "    <tr>\n",
       "      <th>491312</th>\n",
       "      <td>531226</td>\n",
       "      <td>B0002DGRSY</td>\n",
       "      <td>A3W35OAAB4XNX9</td>\n",
       "      <td>Maryann Aniela Royster</td>\n",
       "      <td>0</td>\n",
       "      <td>0</td>\n",
       "      <td>positive</td>\n",
       "      <td>1303862400</td>\n",
       "      <td>dogs love them</td>\n",
       "      <td>all natural,dogs favorite treat. Don't give to...</td>\n",
       "    </tr>\n",
       "    <tr>\n",
       "      <th>491509</th>\n",
       "      <td>531431</td>\n",
       "      <td>B001QTRGCE</td>\n",
       "      <td>ASF6J114B644D</td>\n",
       "      <td>Joseph Shapiro</td>\n",
       "      <td>1</td>\n",
       "      <td>1</td>\n",
       "      <td>positive</td>\n",
       "      <td>1303862400</td>\n",
       "      <td>Magnificent honey</td>\n",
       "      <td>I first tasted this honey in Greece where it w...</td>\n",
       "    </tr>\n",
       "    <tr>\n",
       "      <th>494170</th>\n",
       "      <td>534267</td>\n",
       "      <td>B0007A0AOY</td>\n",
       "      <td>A74SHV5ZD3RLT</td>\n",
       "      <td>R. Ellis \"Bobby\"</td>\n",
       "      <td>15</td>\n",
       "      <td>15</td>\n",
       "      <td>positive</td>\n",
       "      <td>1303862400</td>\n",
       "      <td>The price is right</td>\n",
       "      <td>We have a little Maltese that we spoil to no e...</td>\n",
       "    </tr>\n",
       "    <tr>\n",
       "      <th>494619</th>\n",
       "      <td>534741</td>\n",
       "      <td>B001BCOZ9S</td>\n",
       "      <td>A3T4OHEAHOJ700</td>\n",
       "      <td>B. Colonna</td>\n",
       "      <td>33</td>\n",
       "      <td>33</td>\n",
       "      <td>positive</td>\n",
       "      <td>1303862400</td>\n",
       "      <td>Premium puppy food at a very good price!</td>\n",
       "      <td>My apologies in advance for what is a lengthy ...</td>\n",
       "    </tr>\n",
       "    <tr>\n",
       "      <th>495147</th>\n",
       "      <td>535306</td>\n",
       "      <td>B001L73DMI</td>\n",
       "      <td>A1Y0D801MN8NCT</td>\n",
       "      <td>Artistic Avi</td>\n",
       "      <td>3</td>\n",
       "      <td>3</td>\n",
       "      <td>positive</td>\n",
       "      <td>1303862400</td>\n",
       "      <td>Vanilla is the Best</td>\n",
       "      <td>I've tried all of the Dry Soda flavors except ...</td>\n",
       "    </tr>\n",
       "    <tr>\n",
       "      <th>500696</th>\n",
       "      <td>541339</td>\n",
       "      <td>B002ZOCF0M</td>\n",
       "      <td>AIALIED7ECP4W</td>\n",
       "      <td>K. Fowler</td>\n",
       "      <td>0</td>\n",
       "      <td>0</td>\n",
       "      <td>positive</td>\n",
       "      <td>1303862400</td>\n",
       "      <td>Best Coffee</td>\n",
       "      <td>We have been using 8 O'Clock Columbian for yea...</td>\n",
       "    </tr>\n",
       "    <tr>\n",
       "      <th>503730</th>\n",
       "      <td>544704</td>\n",
       "      <td>B001P3PR54</td>\n",
       "      <td>A2LGV83LSQ4XI</td>\n",
       "      <td>Alexi Darling</td>\n",
       "      <td>3</td>\n",
       "      <td>4</td>\n",
       "      <td>negative</td>\n",
       "      <td>1303862400</td>\n",
       "      <td>Didn't sit well with my dog</td>\n",
       "      <td>My little Lhasa Shih had terrible diarrhea aft...</td>\n",
       "    </tr>\n",
       "    <tr>\n",
       "      <th>504143</th>\n",
       "      <td>545145</td>\n",
       "      <td>B001ELJJX8</td>\n",
       "      <td>A1MHK19QSCV8SY</td>\n",
       "      <td>Rock N Roll</td>\n",
       "      <td>0</td>\n",
       "      <td>0</td>\n",
       "      <td>positive</td>\n",
       "      <td>1303862400</td>\n",
       "      <td>Great Flavor and Easy to make</td>\n",
       "      <td>Just remember you need to buy a Kit to make it...</td>\n",
       "    </tr>\n",
       "    <tr>\n",
       "      <th>504729</th>\n",
       "      <td>545770</td>\n",
       "      <td>B001E5E1C8</td>\n",
       "      <td>A74SHV5ZD3RLT</td>\n",
       "      <td>R. Ellis \"Bobby\"</td>\n",
       "      <td>15</td>\n",
       "      <td>15</td>\n",
       "      <td>positive</td>\n",
       "      <td>1303862400</td>\n",
       "      <td>The price is right</td>\n",
       "      <td>We have a little Maltese that we spoil to no e...</td>\n",
       "    </tr>\n",
       "    <tr>\n",
       "      <th>506412</th>\n",
       "      <td>547583</td>\n",
       "      <td>B006HYLW32</td>\n",
       "      <td>A13FEDZA2FZLCC</td>\n",
       "      <td>Ryan Walsh</td>\n",
       "      <td>0</td>\n",
       "      <td>0</td>\n",
       "      <td>positive</td>\n",
       "      <td>1303862400</td>\n",
       "      <td>My favorite brand of chips</td>\n",
       "      <td>When I first heard about Popchips I thought th...</td>\n",
       "    </tr>\n",
       "    <tr>\n",
       "      <th>506625</th>\n",
       "      <td>547809</td>\n",
       "      <td>B006HYLW32</td>\n",
       "      <td>AIN0ZUU09525J</td>\n",
       "      <td>NotASheep \"Booklover\"</td>\n",
       "      <td>2</td>\n",
       "      <td>5</td>\n",
       "      <td>negative</td>\n",
       "      <td>1303862400</td>\n",
       "      <td>To me, \"Original\" flavor just nasty tasting.</td>\n",
       "      <td>Unfortunately, I somehow stumbled upon this pr...</td>\n",
       "    </tr>\n",
       "    <tr>\n",
       "      <th>507122</th>\n",
       "      <td>548378</td>\n",
       "      <td>B00294TUQA</td>\n",
       "      <td>A1WD8PRZ5VQCS0</td>\n",
       "      <td>Reacher Creature</td>\n",
       "      <td>0</td>\n",
       "      <td>0</td>\n",
       "      <td>positive</td>\n",
       "      <td>1303862400</td>\n",
       "      <td>Outstanding!</td>\n",
       "      <td>I've seen this in the stores for a long time, ...</td>\n",
       "    </tr>\n",
       "    <tr>\n",
       "      <th>507860</th>\n",
       "      <td>549165</td>\n",
       "      <td>B0031VBIDI</td>\n",
       "      <td>A1F5B5JX6671OG</td>\n",
       "      <td>Chady Meroueh</td>\n",
       "      <td>0</td>\n",
       "      <td>0</td>\n",
       "      <td>positive</td>\n",
       "      <td>1303862400</td>\n",
       "      <td>my picky son loved these bags</td>\n",
       "      <td>My son is very picky. Once he saw these pouche...</td>\n",
       "    </tr>\n",
       "    <tr>\n",
       "      <th>509288</th>\n",
       "      <td>550699</td>\n",
       "      <td>B001G7QXL6</td>\n",
       "      <td>ASJKI1Y2AEH3Q</td>\n",
       "      <td>MelissaLee</td>\n",
       "      <td>0</td>\n",
       "      <td>0</td>\n",
       "      <td>positive</td>\n",
       "      <td>1303862400</td>\n",
       "      <td>Absolutely Wonderful for Skin &amp; Body Care</td>\n",
       "      <td>I bought this product not for consumption purp...</td>\n",
       "    </tr>\n",
       "    <tr>\n",
       "      <th>510884</th>\n",
       "      <td>552393</td>\n",
       "      <td>B0007OPW5C</td>\n",
       "      <td>A1BFQSWQAXJT6W</td>\n",
       "      <td>thequeen</td>\n",
       "      <td>0</td>\n",
       "      <td>0</td>\n",
       "      <td>positive</td>\n",
       "      <td>1303862400</td>\n",
       "      <td>Great service</td>\n",
       "      <td>I got my product faster then expected. They we...</td>\n",
       "    </tr>\n",
       "    <tr>\n",
       "      <th>512255</th>\n",
       "      <td>553856</td>\n",
       "      <td>B002GWMD2I</td>\n",
       "      <td>ADYA66GNNMDOG</td>\n",
       "      <td>J. Harrell \"Chuck\"</td>\n",
       "      <td>0</td>\n",
       "      <td>0</td>\n",
       "      <td>positive</td>\n",
       "      <td>1303862400</td>\n",
       "      <td>Great deal</td>\n",
       "      <td>Definitely beats what you'll get in a grocery ...</td>\n",
       "    </tr>\n",
       "    <tr>\n",
       "      <th>512452</th>\n",
       "      <td>554065</td>\n",
       "      <td>B001E5E0D8</td>\n",
       "      <td>A3FF2TPC9B89LR</td>\n",
       "      <td>Gina Lollobrigida</td>\n",
       "      <td>2</td>\n",
       "      <td>3</td>\n",
       "      <td>positive</td>\n",
       "      <td>1303862400</td>\n",
       "      <td>Very Nice And Good</td>\n",
       "      <td>I'm no coffee aficionado but I know what doesn...</td>\n",
       "    </tr>\n",
       "    <tr>\n",
       "      <th>513556</th>\n",
       "      <td>555260</td>\n",
       "      <td>B002ESSASK</td>\n",
       "      <td>AHW41CWCL9GLM</td>\n",
       "      <td>J. Magnotti</td>\n",
       "      <td>3</td>\n",
       "      <td>3</td>\n",
       "      <td>positive</td>\n",
       "      <td>1303862400</td>\n",
       "      <td>I mean, it's coffee</td>\n",
       "      <td>some days I like to think of myself as a coffe...</td>\n",
       "    </tr>\n",
       "    <tr>\n",
       "      <th>515249</th>\n",
       "      <td>557065</td>\n",
       "      <td>B00498GQ20</td>\n",
       "      <td>APBMV3BLZK8B1</td>\n",
       "      <td>Fabi</td>\n",
       "      <td>2</td>\n",
       "      <td>2</td>\n",
       "      <td>positive</td>\n",
       "      <td>1303862400</td>\n",
       "      <td>Review</td>\n",
       "      <td>I think this is a AWESOME product . It is deff...</td>\n",
       "    </tr>\n",
       "    <tr>\n",
       "      <th>516689</th>\n",
       "      <td>558624</td>\n",
       "      <td>B0040PUPQ0</td>\n",
       "      <td>AVLJV4ZX3NFX6</td>\n",
       "      <td>Squashbug</td>\n",
       "      <td>7</td>\n",
       "      <td>8</td>\n",
       "      <td>positive</td>\n",
       "      <td>1303862400</td>\n",
       "      <td>Libby's Naturals Whole Kernel Sweet Corn</td>\n",
       "      <td>I am so pleased with Libby's Naturals Whole Ke...</td>\n",
       "    </tr>\n",
       "    <tr>\n",
       "      <th>517653</th>\n",
       "      <td>559660</td>\n",
       "      <td>B001E8DHPW</td>\n",
       "      <td>A2NULDMJNXH3ZK</td>\n",
       "      <td>J. Hanson</td>\n",
       "      <td>0</td>\n",
       "      <td>0</td>\n",
       "      <td>positive</td>\n",
       "      <td>1303862400</td>\n",
       "      <td>muti-purpose</td>\n",
       "      <td>It's HUGE!!  It's HIGH QUALITY!!  It's a bit m...</td>\n",
       "    </tr>\n",
       "    <tr>\n",
       "      <th>518119</th>\n",
       "      <td>560160</td>\n",
       "      <td>B006VRTQZG</td>\n",
       "      <td>AZBQ1ONTA73S8</td>\n",
       "      <td>Kevin L Ravaioli</td>\n",
       "      <td>2</td>\n",
       "      <td>2</td>\n",
       "      <td>positive</td>\n",
       "      <td>1303862400</td>\n",
       "      <td>The best K-Cup flavor - Tully's Italian Roast</td>\n",
       "      <td>Without question the best coffee available for...</td>\n",
       "    </tr>\n",
       "    <tr>\n",
       "      <th>518475</th>\n",
       "      <td>560543</td>\n",
       "      <td>B000CQID1K</td>\n",
       "      <td>A3AZ27UKODSICR</td>\n",
       "      <td>Cherry</td>\n",
       "      <td>2</td>\n",
       "      <td>7</td>\n",
       "      <td>negative</td>\n",
       "      <td>1303862400</td>\n",
       "      <td>Taste</td>\n",
       "      <td>It contains too much fat and when you bite it ...</td>\n",
       "    </tr>\n",
       "    <tr>\n",
       "      <th>519782</th>\n",
       "      <td>561961</td>\n",
       "      <td>B000GG1OB2</td>\n",
       "      <td>A6TBR6L2D4XKC</td>\n",
       "      <td>Marvin R. Doering</td>\n",
       "      <td>0</td>\n",
       "      <td>0</td>\n",
       "      <td>positive</td>\n",
       "      <td>1303862400</td>\n",
       "      <td>Favorite tea</td>\n",
       "      <td>Hard to find the decaf version locally so this...</td>\n",
       "    </tr>\n",
       "    <tr>\n",
       "      <th>522038</th>\n",
       "      <td>564393</td>\n",
       "      <td>B001P3PR5O</td>\n",
       "      <td>A39C5WQ82J70G4</td>\n",
       "      <td>manoa tutu</td>\n",
       "      <td>0</td>\n",
       "      <td>0</td>\n",
       "      <td>positive</td>\n",
       "      <td>1303862400</td>\n",
       "      <td>Two dogs love it!</td>\n",
       "      <td>I have very small dogs (5 and 7 lbs) and it do...</td>\n",
       "    </tr>\n",
       "    <tr>\n",
       "      <th>524993</th>\n",
       "      <td>567565</td>\n",
       "      <td>B001BKLHMI</td>\n",
       "      <td>A2YW72WK6I97UP</td>\n",
       "      <td>Kathleen E. Shelby</td>\n",
       "      <td>2</td>\n",
       "      <td>2</td>\n",
       "      <td>positive</td>\n",
       "      <td>1303862400</td>\n",
       "      <td>Almost like a cinnamon roll</td>\n",
       "      <td>These Kashi bars are wonderful.  Heat them a l...</td>\n",
       "    </tr>\n",
       "    <tr>\n",
       "      <th>525380</th>\n",
       "      <td>567990</td>\n",
       "      <td>B0030VJ8YU</td>\n",
       "      <td>A2P7TE7CVQAHH7</td>\n",
       "      <td>Dana Puckett</td>\n",
       "      <td>5</td>\n",
       "      <td>5</td>\n",
       "      <td>positive</td>\n",
       "      <td>1303862400</td>\n",
       "      <td>Don't give up and give it more then one try!</td>\n",
       "      <td>I gave this flavor to my 6 month old son but h...</td>\n",
       "    </tr>\n",
       "  </tbody>\n",
       "</table>\n",
       "<p>418 rows × 10 columns</p>\n",
       "</div>"
      ],
      "text/plain": [
       "            Id   ProductId          UserId  \\\n",
       "0            1  B001E4KFG0  A3SGXH7AUHU8GW   \n",
       "679        731  B002U56JXK  A1PIDGL665V5QP   \n",
       "680        732  B002U56JXK   ASC04R0BT3TO4   \n",
       "1520      1648  B001RVFDOO  A18GRF94T65X9Z   \n",
       "2245      2440  B0089SPDUW  A163RZETDROJL5   \n",
       "5823      6302  B001D6F1PY  A2S4DN72TMWC2C   \n",
       "8166      8935  B0007A0AP8   A74SHV5ZD3RLT   \n",
       "14189    15489  B000255OIG  A3W35OAAB4XNX9   \n",
       "17152    18706  B00008JOL0  A1WSMYIW8APC5C   \n",
       "18110    19737  B0030VBRIU  A2P7TE7CVQAHH7   \n",
       "20169    21996  B000KV61FC   A7T3EGPBVMO6Y   \n",
       "20707    22623  B00170NWEI  A1U7MO8VRB7WHC   \n",
       "20715    22632  B00170NWEI    APYZ6Y3B3FO6   \n",
       "21863    23945  B0013NUGDE  A13FEDZA2FZLCC   \n",
       "22076    24171  B0013NUGDE   AIN0ZUU09525J   \n",
       "24879    27170  B002UQCY88  A2JWGBR1F593II   \n",
       "26382    28795  B0002VXZ40  A1F3QKZTYPLTDG   \n",
       "27131    29596  B000PDY3P0  A3FWLR0UW1VNCF   \n",
       "27988    30520  B003CE79XC  A3ALWQBTR7JNBO   \n",
       "28376    30958  B007M83302  A13FEDZA2FZLCC   \n",
       "28589    31184  B007M83302   AIN0ZUU09525J   \n",
       "30290    32989  B001P05K8Q  A1Q7EM0982HB9C   \n",
       "30291    32990  B001P05K8Q  A3OGE84FAHACSA   \n",
       "30762    33518  B006N3I84I   AZBQ1ONTA73S8   \n",
       "32390    35253  B001RJ1FWK   A36EV43GL4QJG   \n",
       "33630    36591  B004CLCEDE  A2PC0ZXDGUQIC3   \n",
       "33632    36593  B004CLCEDE  A1GNS4O52JF80Q   \n",
       "33756    36730  B001HTJ2BQ   AXOSFCM74ZRV8   \n",
       "39616    43068  B002LFBA8S  A3FWLR0UW1VNCF   \n",
       "45673    49696  B000CRHQN0  A1Z3F716OX8GLM   \n",
       "...        ...         ...             ...   \n",
       "484829  524272  B004JGQ15E  A3T5RU5T68IH1M   \n",
       "489322  529102  B001EQ4IRA   AYNMA2G5P560Z   \n",
       "491146  531047  B001D0IZBW   A29YO2G4Y9FYT   \n",
       "491312  531226  B0002DGRSY  A3W35OAAB4XNX9   \n",
       "491509  531431  B001QTRGCE   ASF6J114B644D   \n",
       "494170  534267  B0007A0AOY   A74SHV5ZD3RLT   \n",
       "494619  534741  B001BCOZ9S  A3T4OHEAHOJ700   \n",
       "495147  535306  B001L73DMI  A1Y0D801MN8NCT   \n",
       "500696  541339  B002ZOCF0M   AIALIED7ECP4W   \n",
       "503730  544704  B001P3PR54   A2LGV83LSQ4XI   \n",
       "504143  545145  B001ELJJX8  A1MHK19QSCV8SY   \n",
       "504729  545770  B001E5E1C8   A74SHV5ZD3RLT   \n",
       "506412  547583  B006HYLW32  A13FEDZA2FZLCC   \n",
       "506625  547809  B006HYLW32   AIN0ZUU09525J   \n",
       "507122  548378  B00294TUQA  A1WD8PRZ5VQCS0   \n",
       "507860  549165  B0031VBIDI  A1F5B5JX6671OG   \n",
       "509288  550699  B001G7QXL6   ASJKI1Y2AEH3Q   \n",
       "510884  552393  B0007OPW5C  A1BFQSWQAXJT6W   \n",
       "512255  553856  B002GWMD2I   ADYA66GNNMDOG   \n",
       "512452  554065  B001E5E0D8  A3FF2TPC9B89LR   \n",
       "513556  555260  B002ESSASK   AHW41CWCL9GLM   \n",
       "515249  557065  B00498GQ20   APBMV3BLZK8B1   \n",
       "516689  558624  B0040PUPQ0   AVLJV4ZX3NFX6   \n",
       "517653  559660  B001E8DHPW  A2NULDMJNXH3ZK   \n",
       "518119  560160  B006VRTQZG   AZBQ1ONTA73S8   \n",
       "518475  560543  B000CQID1K  A3AZ27UKODSICR   \n",
       "519782  561961  B000GG1OB2   A6TBR6L2D4XKC   \n",
       "522038  564393  B001P3PR5O  A39C5WQ82J70G4   \n",
       "524993  567565  B001BKLHMI  A2YW72WK6I97UP   \n",
       "525380  567990  B0030VJ8YU  A2P7TE7CVQAHH7   \n",
       "\n",
       "                                ProfileName  HelpfulnessNumerator  \\\n",
       "0                                delmartian                     1   \n",
       "679                               Rod Jonse                     2   \n",
       "680         the BURNiNATOR \"raggle fraggle\"                     2   \n",
       "1520                            Reem Chavez                     0   \n",
       "2245                  D. Johnson \"Dr. Duck\"                     0   \n",
       "5823                  Andy M. \"techno-geek\"                     0   \n",
       "8166                       R. Ellis \"Bobby\"                    15   \n",
       "14189                Maryann Aniela Royster                     0   \n",
       "17152                                    KN                     0   \n",
       "18110                          Dana Puckett                     5   \n",
       "20169   Nichole R. Bechel \"MyEnchantedLife\"                     0   \n",
       "20707                              L. STILL                     2   \n",
       "20715                 PTK \"mercedes driver\"                     0   \n",
       "21863                            Ryan Walsh                     0   \n",
       "22076                 NotASheep \"Booklover\"                     2   \n",
       "24879                           Mom of Four                     0   \n",
       "26382                                   Rob                     0   \n",
       "27131                            calliejazz                     0   \n",
       "27988                               Rebekah                     1   \n",
       "28376                            Ryan Walsh                     0   \n",
       "28589                 NotASheep \"Booklover\"                     2   \n",
       "30290                               DSWBELL                     0   \n",
       "30291                      Marilyn Bostrack                     0   \n",
       "30762                      Kevin L Ravaioli                     2   \n",
       "32390                            M. Johnson                     4   \n",
       "33630                         Lakers 3 Peat                    12   \n",
       "33632                           AlexisMarie                    33   \n",
       "33756                               MaryPei                     0   \n",
       "39616                            calliejazz                     1   \n",
       "45673                                  Brie                     0   \n",
       "...                                     ...                   ...   \n",
       "484829                              wiggins                     3   \n",
       "489322          Aging Boomer \"Aging Boomer\"                     0   \n",
       "491146                            G. Harper                     1   \n",
       "491312               Maryann Aniela Royster                     0   \n",
       "491509                       Joseph Shapiro                     1   \n",
       "494170                     R. Ellis \"Bobby\"                    15   \n",
       "494619                           B. Colonna                    33   \n",
       "495147                         Artistic Avi                     3   \n",
       "500696                            K. Fowler                     0   \n",
       "503730                        Alexi Darling                     3   \n",
       "504143                          Rock N Roll                     0   \n",
       "504729                     R. Ellis \"Bobby\"                    15   \n",
       "506412                           Ryan Walsh                     0   \n",
       "506625                NotASheep \"Booklover\"                     2   \n",
       "507122                     Reacher Creature                     0   \n",
       "507860                        Chady Meroueh                     0   \n",
       "509288                           MelissaLee                     0   \n",
       "510884                             thequeen                     0   \n",
       "512255                   J. Harrell \"Chuck\"                     0   \n",
       "512452                    Gina Lollobrigida                     2   \n",
       "513556                          J. Magnotti                     3   \n",
       "515249                                 Fabi                     2   \n",
       "516689                            Squashbug                     7   \n",
       "517653                            J. Hanson                     0   \n",
       "518119                     Kevin L Ravaioli                     2   \n",
       "518475                               Cherry                     2   \n",
       "519782                    Marvin R. Doering                     0   \n",
       "522038                           manoa tutu                     0   \n",
       "524993                   Kathleen E. Shelby                     2   \n",
       "525380                         Dana Puckett                     5   \n",
       "\n",
       "        HelpfulnessDenominator     Score        Time  \\\n",
       "0                            1  positive  1303862400   \n",
       "679                          2  positive  1303862400   \n",
       "680                          2  positive  1303862400   \n",
       "1520                         0  positive  1303862400   \n",
       "2245                         0  positive  1303862400   \n",
       "5823                         0  positive  1303862400   \n",
       "8166                        15  positive  1303862400   \n",
       "14189                        0  positive  1303862400   \n",
       "17152                        0  positive  1303862400   \n",
       "18110                        5  positive  1303862400   \n",
       "20169                        0  negative  1303862400   \n",
       "20707                        2  positive  1303862400   \n",
       "20715                        0  positive  1303862400   \n",
       "21863                        0  positive  1303862400   \n",
       "22076                        5  negative  1303862400   \n",
       "24879                        0  negative  1303862400   \n",
       "26382                        0  positive  1303862400   \n",
       "27131                        3  negative  1303862400   \n",
       "27988                        1  positive  1303862400   \n",
       "28376                        0  positive  1303862400   \n",
       "28589                        5  negative  1303862400   \n",
       "30290                        0  positive  1303862400   \n",
       "30291                        0  positive  1303862400   \n",
       "30762                        2  positive  1303862400   \n",
       "32390                        4  positive  1303862400   \n",
       "33630                       13  positive  1303862400   \n",
       "33632                       41  negative  1303862400   \n",
       "33756                        0  positive  1303862400   \n",
       "39616                        1  positive  1303862400   \n",
       "45673                        1  positive  1303862400   \n",
       "...                        ...       ...         ...   \n",
       "484829                       4  positive  1303862400   \n",
       "489322                       0  positive  1303862400   \n",
       "491146                       1  negative  1303862400   \n",
       "491312                       0  positive  1303862400   \n",
       "491509                       1  positive  1303862400   \n",
       "494170                      15  positive  1303862400   \n",
       "494619                      33  positive  1303862400   \n",
       "495147                       3  positive  1303862400   \n",
       "500696                       0  positive  1303862400   \n",
       "503730                       4  negative  1303862400   \n",
       "504143                       0  positive  1303862400   \n",
       "504729                      15  positive  1303862400   \n",
       "506412                       0  positive  1303862400   \n",
       "506625                       5  negative  1303862400   \n",
       "507122                       0  positive  1303862400   \n",
       "507860                       0  positive  1303862400   \n",
       "509288                       0  positive  1303862400   \n",
       "510884                       0  positive  1303862400   \n",
       "512255                       0  positive  1303862400   \n",
       "512452                       3  positive  1303862400   \n",
       "513556                       3  positive  1303862400   \n",
       "515249                       2  positive  1303862400   \n",
       "516689                       8  positive  1303862400   \n",
       "517653                       0  positive  1303862400   \n",
       "518119                       2  positive  1303862400   \n",
       "518475                       7  negative  1303862400   \n",
       "519782                       0  positive  1303862400   \n",
       "522038                       0  positive  1303862400   \n",
       "524993                       2  positive  1303862400   \n",
       "525380                       5  positive  1303862400   \n",
       "\n",
       "                                              Summary  \\\n",
       "0                               Good Quality Dog Food   \n",
       "679                                Unparalleled taste   \n",
       "680                                           Amazing   \n",
       "1520                                      Best chips!   \n",
       "2245                            Best K-cup out there.   \n",
       "5823                          Makes THE BEST risotto!   \n",
       "8166                               The price is right   \n",
       "14189                                  dogs love them   \n",
       "17152                             My dog loves these!   \n",
       "18110    Don't give up and give it more then one try!   \n",
       "20169                         Not For A Strong Chewer   \n",
       "20707                      Green tea with great taste   \n",
       "20715                           Among The Best Sencha   \n",
       "21863                      My favorite brand of chips   \n",
       "22076    To me, \"Original\" flavor just nasty tasting.   \n",
       "24879                  Not happy with this product...   \n",
       "26382                                         MMM MMM   \n",
       "27131                                       too salty   \n",
       "27988                            Effective cough drop   \n",
       "28376                      My favorite brand of chips   \n",
       "28589    To me, \"Original\" flavor just nasty tasting.   \n",
       "30290                                 Really awesome!   \n",
       "30291                               Excellent Product   \n",
       "30762   The best K-Cup flavor - Tully's Italian Roast   \n",
       "32390                                    Simply great   \n",
       "33630                  Healthiest Noodles you can buy   \n",
       "33632                         DO NOT waste your money   \n",
       "33756                       Coconut Milk Regular User   \n",
       "39616                                      Excellent!   \n",
       "45673                              Great balanced bar   \n",
       "...                                               ...   \n",
       "484829                                   Sweet Snack!   \n",
       "489322                            Really Yummy Flavor   \n",
       "491146                 Great coffee--pricing disaster   \n",
       "491312                                 dogs love them   \n",
       "491509                              Magnificent honey   \n",
       "494170                             The price is right   \n",
       "494619       Premium puppy food at a very good price!   \n",
       "495147                            Vanilla is the Best   \n",
       "500696                                    Best Coffee   \n",
       "503730                    Didn't sit well with my dog   \n",
       "504143                  Great Flavor and Easy to make   \n",
       "504729                             The price is right   \n",
       "506412                     My favorite brand of chips   \n",
       "506625   To me, \"Original\" flavor just nasty tasting.   \n",
       "507122                                   Outstanding!   \n",
       "507860                  my picky son loved these bags   \n",
       "509288      Absolutely Wonderful for Skin & Body Care   \n",
       "510884                                  Great service   \n",
       "512255                                     Great deal   \n",
       "512452                             Very Nice And Good   \n",
       "513556                            I mean, it's coffee   \n",
       "515249                                         Review   \n",
       "516689       Libby's Naturals Whole Kernel Sweet Corn   \n",
       "517653                                   muti-purpose   \n",
       "518119  The best K-Cup flavor - Tully's Italian Roast   \n",
       "518475                                          Taste   \n",
       "519782                                   Favorite tea   \n",
       "522038                              Two dogs love it!   \n",
       "524993                    Almost like a cinnamon roll   \n",
       "525380   Don't give up and give it more then one try!   \n",
       "\n",
       "                                                     Text  \n",
       "0       I have bought several of the Vitality canned d...  \n",
       "679     I purchased this 24 pack of Big Ass soda and o...  \n",
       "680     Well being the big red fan that I am, I bought...  \n",
       "1520    I wa hesitant about ordering this product simp...  \n",
       "2245    So Far this is the only K-cup I've found thats...  \n",
       "5823    If you want to make authentic Italian risotto ...  \n",
       "8166    We have a little Maltese that we spoil to no e...  \n",
       "14189   all natural,dogs favorite treat. Don't give to...  \n",
       "17152   My dog really loves these treats - and he's ve...  \n",
       "18110   I gave this flavor to my 6 month old son but h...  \n",
       "20169   We bought the large one for our dog thinking i...  \n",
       "20707   Ever since I flew on Japan Airlines and had de...  \n",
       "20715   This is among the best sencha I have had. Many...  \n",
       "21863   When I first heard about Popchips I thought th...  \n",
       "22076   Unfortunately, I somehow stumbled upon this pr...  \n",
       "24879   The crackers were all broken up and in crumbs....  \n",
       "26382   The best wasabi peas hands down.  They are all...  \n",
       "27131   The salt is included with the oil for this pop...  \n",
       "27988   I've tried all sorts of cough drops over the y...  \n",
       "28376   When I first heard about Popchips I thought th...  \n",
       "28589   Unfortunately, I somehow stumbled upon this pr...  \n",
       "30290   Our golden retriever LOVES these!!  We've trie...  \n",
       "30291   I have used this product for my Vizsla since h...  \n",
       "30762   Without question the best coffee available for...  \n",
       "32390   Products such as this are becoming hard to fin...  \n",
       "33630   I gave these noodles a try and although they a...  \n",
       "33632   If something sounds too good to be true, it is...  \n",
       "33756   We like to keep a stock of coconut milk in our...  \n",
       "39616   This is the best popcorn I have ever had.  Cru...  \n",
       "45673   These are an ideal bar for on the go! Though I...  \n",
       "...                                                   ...  \n",
       "484829  Wow, this little snack really packs a sweet pu...  \n",
       "489322  Nature Valley Crunchy Granola bars are all tas...  \n",
       "491146  This extra-bold decaf is one of the best tasti...  \n",
       "491312  all natural,dogs favorite treat. Don't give to...  \n",
       "491509  I first tasted this honey in Greece where it w...  \n",
       "494170  We have a little Maltese that we spoil to no e...  \n",
       "494619  My apologies in advance for what is a lengthy ...  \n",
       "495147  I've tried all of the Dry Soda flavors except ...  \n",
       "500696  We have been using 8 O'Clock Columbian for yea...  \n",
       "503730  My little Lhasa Shih had terrible diarrhea aft...  \n",
       "504143  Just remember you need to buy a Kit to make it...  \n",
       "504729  We have a little Maltese that we spoil to no e...  \n",
       "506412  When I first heard about Popchips I thought th...  \n",
       "506625  Unfortunately, I somehow stumbled upon this pr...  \n",
       "507122  I've seen this in the stores for a long time, ...  \n",
       "507860  My son is very picky. Once he saw these pouche...  \n",
       "509288  I bought this product not for consumption purp...  \n",
       "510884  I got my product faster then expected. They we...  \n",
       "512255  Definitely beats what you'll get in a grocery ...  \n",
       "512452  I'm no coffee aficionado but I know what doesn...  \n",
       "513556  some days I like to think of myself as a coffe...  \n",
       "515249  I think this is a AWESOME product . It is deff...  \n",
       "516689  I am so pleased with Libby's Naturals Whole Ke...  \n",
       "517653  It's HUGE!!  It's HIGH QUALITY!!  It's a bit m...  \n",
       "518119  Without question the best coffee available for...  \n",
       "518475  It contains too much fat and when you bite it ...  \n",
       "519782  Hard to find the decaf version locally so this...  \n",
       "522038  I have very small dogs (5 and 7 lbs) and it do...  \n",
       "524993  These Kashi bars are wonderful.  Heat them a l...  \n",
       "525380  I gave this flavor to my 6 month old son but h...  \n",
       "\n",
       "[418 rows x 10 columns]"
      ]
     },
     "execution_count": 11,
     "metadata": {},
     "output_type": "execute_result"
    }
   ],
   "source": [
    "filtered_data[filtered_data['Time'] == 1303862400]"
   ]
  },
  {
   "cell_type": "code",
   "execution_count": 17,
   "metadata": {},
   "outputs": [
    {
     "data": {
      "text/html": [
       "<div>\n",
       "<style>\n",
       "    .dataframe thead tr:only-child th {\n",
       "        text-align: right;\n",
       "    }\n",
       "\n",
       "    .dataframe thead th {\n",
       "        text-align: left;\n",
       "    }\n",
       "\n",
       "    .dataframe tbody tr th {\n",
       "        vertical-align: top;\n",
       "    }\n",
       "</style>\n",
       "<table border=\"1\" class=\"dataframe\">\n",
       "  <thead>\n",
       "    <tr style=\"text-align: right;\">\n",
       "      <th></th>\n",
       "      <th>Id</th>\n",
       "      <th>ProductId</th>\n",
       "      <th>UserId</th>\n",
       "      <th>ProfileName</th>\n",
       "      <th>HelpfulnessNumerator</th>\n",
       "      <th>HelpfulnessDenominator</th>\n",
       "      <th>Score</th>\n",
       "      <th>Time</th>\n",
       "      <th>Summary</th>\n",
       "      <th>Text</th>\n",
       "    </tr>\n",
       "  </thead>\n",
       "  <tbody>\n",
       "    <tr>\n",
       "      <th>8166</th>\n",
       "      <td>8935</td>\n",
       "      <td>B0007A0AP8</td>\n",
       "      <td>A74SHV5ZD3RLT</td>\n",
       "      <td>R. Ellis \"Bobby\"</td>\n",
       "      <td>15</td>\n",
       "      <td>15</td>\n",
       "      <td>positive</td>\n",
       "      <td>1303862400</td>\n",
       "      <td>The price is right</td>\n",
       "      <td>We have a little Maltese that we spoil to no e...</td>\n",
       "    </tr>\n",
       "    <tr>\n",
       "      <th>113110</th>\n",
       "      <td>122699</td>\n",
       "      <td>B001MWRT2W</td>\n",
       "      <td>A74SHV5ZD3RLT</td>\n",
       "      <td>R. Ellis \"Bobby\"</td>\n",
       "      <td>0</td>\n",
       "      <td>0</td>\n",
       "      <td>positive</td>\n",
       "      <td>1303862400</td>\n",
       "      <td>I think he likes them.  But not as much as Gre...</td>\n",
       "      <td>We have a little Maltese that is given a &lt;a hr...</td>\n",
       "    </tr>\n",
       "    <tr>\n",
       "      <th>146203</th>\n",
       "      <td>158601</td>\n",
       "      <td>B000MLG4K2</td>\n",
       "      <td>A74SHV5ZD3RLT</td>\n",
       "      <td>R. Ellis \"Bobby\"</td>\n",
       "      <td>4</td>\n",
       "      <td>4</td>\n",
       "      <td>positive</td>\n",
       "      <td>1303862400</td>\n",
       "      <td>He likes them, but I don't think he loves them...</td>\n",
       "      <td>To be fair, our dog is spoiled.  He gets treat...</td>\n",
       "    </tr>\n",
       "    <tr>\n",
       "      <th>162162</th>\n",
       "      <td>175817</td>\n",
       "      <td>B0014DUUFC</td>\n",
       "      <td>A74SHV5ZD3RLT</td>\n",
       "      <td>R. Ellis \"Bobby\"</td>\n",
       "      <td>15</td>\n",
       "      <td>15</td>\n",
       "      <td>positive</td>\n",
       "      <td>1303862400</td>\n",
       "      <td>The price is right</td>\n",
       "      <td>We have a little Maltese that we spoil to no e...</td>\n",
       "    </tr>\n",
       "    <tr>\n",
       "      <th>242677</th>\n",
       "      <td>263188</td>\n",
       "      <td>B001BOXBHI</td>\n",
       "      <td>A74SHV5ZD3RLT</td>\n",
       "      <td>R. Ellis \"Bobby\"</td>\n",
       "      <td>4</td>\n",
       "      <td>4</td>\n",
       "      <td>positive</td>\n",
       "      <td>1303862400</td>\n",
       "      <td>He likes them, but I don't think he loves them...</td>\n",
       "      <td>To be fair, our dog is spoiled.  He gets treat...</td>\n",
       "    </tr>\n",
       "    <tr>\n",
       "      <th>325087</th>\n",
       "      <td>351843</td>\n",
       "      <td>B001MWRT0Y</td>\n",
       "      <td>A74SHV5ZD3RLT</td>\n",
       "      <td>R. Ellis \"Bobby\"</td>\n",
       "      <td>0</td>\n",
       "      <td>0</td>\n",
       "      <td>positive</td>\n",
       "      <td>1303862400</td>\n",
       "      <td>I think he likes them.  But not as much as Gre...</td>\n",
       "      <td>We have a little Maltese that is given a &lt;a hr...</td>\n",
       "    </tr>\n",
       "    <tr>\n",
       "      <th>494170</th>\n",
       "      <td>534267</td>\n",
       "      <td>B0007A0AOY</td>\n",
       "      <td>A74SHV5ZD3RLT</td>\n",
       "      <td>R. Ellis \"Bobby\"</td>\n",
       "      <td>15</td>\n",
       "      <td>15</td>\n",
       "      <td>positive</td>\n",
       "      <td>1303862400</td>\n",
       "      <td>The price is right</td>\n",
       "      <td>We have a little Maltese that we spoil to no e...</td>\n",
       "    </tr>\n",
       "    <tr>\n",
       "      <th>504729</th>\n",
       "      <td>545770</td>\n",
       "      <td>B001E5E1C8</td>\n",
       "      <td>A74SHV5ZD3RLT</td>\n",
       "      <td>R. Ellis \"Bobby\"</td>\n",
       "      <td>15</td>\n",
       "      <td>15</td>\n",
       "      <td>positive</td>\n",
       "      <td>1303862400</td>\n",
       "      <td>The price is right</td>\n",
       "      <td>We have a little Maltese that we spoil to no e...</td>\n",
       "    </tr>\n",
       "  </tbody>\n",
       "</table>\n",
       "</div>"
      ],
      "text/plain": [
       "            Id   ProductId         UserId       ProfileName  \\\n",
       "8166      8935  B0007A0AP8  A74SHV5ZD3RLT  R. Ellis \"Bobby\"   \n",
       "113110  122699  B001MWRT2W  A74SHV5ZD3RLT  R. Ellis \"Bobby\"   \n",
       "146203  158601  B000MLG4K2  A74SHV5ZD3RLT  R. Ellis \"Bobby\"   \n",
       "162162  175817  B0014DUUFC  A74SHV5ZD3RLT  R. Ellis \"Bobby\"   \n",
       "242677  263188  B001BOXBHI  A74SHV5ZD3RLT  R. Ellis \"Bobby\"   \n",
       "325087  351843  B001MWRT0Y  A74SHV5ZD3RLT  R. Ellis \"Bobby\"   \n",
       "494170  534267  B0007A0AOY  A74SHV5ZD3RLT  R. Ellis \"Bobby\"   \n",
       "504729  545770  B001E5E1C8  A74SHV5ZD3RLT  R. Ellis \"Bobby\"   \n",
       "\n",
       "        HelpfulnessNumerator  HelpfulnessDenominator     Score        Time  \\\n",
       "8166                      15                      15  positive  1303862400   \n",
       "113110                     0                       0  positive  1303862400   \n",
       "146203                     4                       4  positive  1303862400   \n",
       "162162                    15                      15  positive  1303862400   \n",
       "242677                     4                       4  positive  1303862400   \n",
       "325087                     0                       0  positive  1303862400   \n",
       "494170                    15                      15  positive  1303862400   \n",
       "504729                    15                      15  positive  1303862400   \n",
       "\n",
       "                                                  Summary  \\\n",
       "8166                                   The price is right   \n",
       "113110  I think he likes them.  But not as much as Gre...   \n",
       "146203  He likes them, but I don't think he loves them...   \n",
       "162162                                 The price is right   \n",
       "242677  He likes them, but I don't think he loves them...   \n",
       "325087  I think he likes them.  But not as much as Gre...   \n",
       "494170                                 The price is right   \n",
       "504729                                 The price is right   \n",
       "\n",
       "                                                     Text  \n",
       "8166    We have a little Maltese that we spoil to no e...  \n",
       "113110  We have a little Maltese that is given a <a hr...  \n",
       "146203  To be fair, our dog is spoiled.  He gets treat...  \n",
       "162162  We have a little Maltese that we spoil to no e...  \n",
       "242677  To be fair, our dog is spoiled.  He gets treat...  \n",
       "325087  We have a little Maltese that is given a <a hr...  \n",
       "494170  We have a little Maltese that we spoil to no e...  \n",
       "504729  We have a little Maltese that we spoil to no e...  "
      ]
     },
     "execution_count": 17,
     "metadata": {},
     "output_type": "execute_result"
    }
   ],
   "source": [
    "filtered_data[(filtered_data['Time'] == 1303862400) & (filtered_data['ProfileName'] == 'R. Ellis \"Bobby\"')]"
   ]
  },
  {
   "cell_type": "markdown",
   "metadata": {},
   "source": [
    "**Observations:**\n",
    "1. Go to www.amazon.com/dp/_Product_ID   - dp means detailed page - found using Google\n",
    "2. Check for ProductIDs - B0007A0AP8, B0007A0AOY and B001E5E1C8 - \"UserId\",\"ProfileName\",\"Time\",\"Text\" are exactly the same\n",
    "2. Product ID is also called ASIN - Amazon Standard Identification Number\n",
    "3. These are variations of the same product and probably the user has bought only one of them but Amazon might allow the manufacturer \"Zukes\" in this case to share rviews between its product variants\n",
    "4. Note: in the to product pages, \"customer reviews\" and \"answered questions\" are exactly same\n",
    "5. Getting the same text in train and test will lead to biased results"
   ]
  },
  {
   "cell_type": "code",
   "execution_count": 22,
   "metadata": {
    "collapsed": true
   },
   "outputs": [],
   "source": [
    "#Sorting data according to ProductId in ascending order - To have consistent results\n",
    "sorted_data = filtered_data.sort_values('ProductId')"
   ]
  },
  {
   "cell_type": "code",
   "execution_count": 6,
   "metadata": {},
   "outputs": [
    {
     "data": {
      "text/plain": [
       "(364173, 10)"
      ]
     },
     "execution_count": 6,
     "metadata": {},
     "output_type": "execute_result"
    }
   ],
   "source": [
    "#Deduplication of entries\n",
    "final=sorted_data.drop_duplicates(subset={\"UserId\",\"ProfileName\",\"Time\",\"Text\"})\n",
    "final.shape"
   ]
  },
  {
   "cell_type": "markdown",
   "metadata": {},
   "source": [
    "**Observe:** We are left with approx 69% of the original data after cleaning which means more than 30% was duplicate data"
   ]
  },
  {
   "cell_type": "markdown",
   "metadata": {},
   "source": [
    "**Note:** HelpfulnessNumerator must always be less than or equal to HelpfulnessDenominator. Lets check if this always the case"
   ]
  },
  {
   "cell_type": "code",
   "execution_count": 23,
   "metadata": {},
   "outputs": [
    {
     "data": {
      "text/html": [
       "<div>\n",
       "<style>\n",
       "    .dataframe thead tr:only-child th {\n",
       "        text-align: right;\n",
       "    }\n",
       "\n",
       "    .dataframe thead th {\n",
       "        text-align: left;\n",
       "    }\n",
       "\n",
       "    .dataframe tbody tr th {\n",
       "        vertical-align: top;\n",
       "    }\n",
       "</style>\n",
       "<table border=\"1\" class=\"dataframe\">\n",
       "  <thead>\n",
       "    <tr style=\"text-align: right;\">\n",
       "      <th></th>\n",
       "      <th>Id</th>\n",
       "      <th>ProductId</th>\n",
       "      <th>UserId</th>\n",
       "      <th>ProfileName</th>\n",
       "      <th>HelpfulnessNumerator</th>\n",
       "      <th>HelpfulnessDenominator</th>\n",
       "      <th>Score</th>\n",
       "      <th>Time</th>\n",
       "      <th>Summary</th>\n",
       "      <th>Text</th>\n",
       "    </tr>\n",
       "  </thead>\n",
       "  <tbody>\n",
       "    <tr>\n",
       "      <th>59301</th>\n",
       "      <td>64422</td>\n",
       "      <td>B000MIDROQ</td>\n",
       "      <td>A161DK06JJMCYF</td>\n",
       "      <td>J. E. Stephens \"Jeanne\"</td>\n",
       "      <td>3</td>\n",
       "      <td>1</td>\n",
       "      <td>positive</td>\n",
       "      <td>1224892800</td>\n",
       "      <td>Bought This for My Son at College</td>\n",
       "      <td>My son loves spaghetti so I didn't hesitate or...</td>\n",
       "    </tr>\n",
       "    <tr>\n",
       "      <th>41159</th>\n",
       "      <td>44737</td>\n",
       "      <td>B001EQ55RW</td>\n",
       "      <td>A2V0I904FH7ABY</td>\n",
       "      <td>Ram</td>\n",
       "      <td>3</td>\n",
       "      <td>2</td>\n",
       "      <td>positive</td>\n",
       "      <td>1212883200</td>\n",
       "      <td>Pure cocoa taste with crunchy almonds inside</td>\n",
       "      <td>It was almost a 'love at first bite' - the per...</td>\n",
       "    </tr>\n",
       "  </tbody>\n",
       "</table>\n",
       "</div>"
      ],
      "text/plain": [
       "          Id   ProductId          UserId              ProfileName  \\\n",
       "59301  64422  B000MIDROQ  A161DK06JJMCYF  J. E. Stephens \"Jeanne\"   \n",
       "41159  44737  B001EQ55RW  A2V0I904FH7ABY                      Ram   \n",
       "\n",
       "       HelpfulnessNumerator  HelpfulnessDenominator     Score        Time  \\\n",
       "59301                     3                       1  positive  1224892800   \n",
       "41159                     3                       2  positive  1212883200   \n",
       "\n",
       "                                            Summary  \\\n",
       "59301             Bought This for My Son at College   \n",
       "41159  Pure cocoa taste with crunchy almonds inside   \n",
       "\n",
       "                                                    Text  \n",
       "59301  My son loves spaghetti so I didn't hesitate or...  \n",
       "41159  It was almost a 'love at first bite' - the per...  "
      ]
     },
     "execution_count": 23,
     "metadata": {},
     "output_type": "execute_result"
    }
   ],
   "source": [
    "final[final['HelpfulnessNumerator'] > final['HelpfulnessDenominator']]"
   ]
  },
  {
   "cell_type": "markdown",
   "metadata": {},
   "source": [
    "There is something wrong in these two rows and must be removed"
   ]
  },
  {
   "cell_type": "code",
   "execution_count": 7,
   "metadata": {},
   "outputs": [
    {
     "data": {
      "text/plain": [
       "(364171, 10)"
      ]
     },
     "execution_count": 7,
     "metadata": {},
     "output_type": "execute_result"
    }
   ],
   "source": [
    "final=final[final.HelpfulnessNumerator<=final.HelpfulnessDenominator]\n",
    "final.shape"
   ]
  },
  {
   "cell_type": "code",
   "execution_count": 8,
   "metadata": {},
   "outputs": [
    {
     "data": {
      "text/plain": [
       "positive    307061\n",
       "negative     57110\n",
       "Name: Score, dtype: int64"
      ]
     },
     "execution_count": 8,
     "metadata": {},
     "output_type": "execute_result"
    }
   ],
   "source": [
    "final['Score'].value_counts()"
   ]
  },
  {
   "cell_type": "markdown",
   "metadata": {},
   "source": [
    "**Note:** Not a very balanced dataset"
   ]
  },
  {
   "cell_type": "markdown",
   "metadata": {},
   "source": [
    "#### Data cleaning is an art, which requires a lot of intuition and common sense which comes by experience"
   ]
  },
  {
   "cell_type": "markdown",
   "metadata": {},
   "source": [
    "#### Save the cleaned file in a new database"
   ]
  },
  {
   "cell_type": "code",
   "execution_count": 10,
   "metadata": {
    "collapsed": true
   },
   "outputs": [],
   "source": [
    "conn = sqlite3.connect('final.sqlite')\n",
    "c=conn.cursor()\n",
    "final.to_sql('Reviews', conn, if_exists='replace')\n",
    "conn.close()"
   ]
  },
  {
   "cell_type": "markdown",
   "metadata": {},
   "source": [
    "## Reading the updated sqlite - For future use you may directly read the below sqlite file"
   ]
  },
  {
   "cell_type": "code",
   "execution_count": 2,
   "metadata": {},
   "outputs": [
    {
     "data": {
      "text/html": [
       "<div>\n",
       "<style>\n",
       "    .dataframe thead tr:only-child th {\n",
       "        text-align: right;\n",
       "    }\n",
       "\n",
       "    .dataframe thead th {\n",
       "        text-align: left;\n",
       "    }\n",
       "\n",
       "    .dataframe tbody tr th {\n",
       "        vertical-align: top;\n",
       "    }\n",
       "</style>\n",
       "<table border=\"1\" class=\"dataframe\">\n",
       "  <thead>\n",
       "    <tr style=\"text-align: right;\">\n",
       "      <th></th>\n",
       "      <th>level_0</th>\n",
       "      <th>index</th>\n",
       "      <th>Id</th>\n",
       "      <th>ProductId</th>\n",
       "      <th>UserId</th>\n",
       "      <th>ProfileName</th>\n",
       "      <th>HelpfulnessNumerator</th>\n",
       "      <th>HelpfulnessDenominator</th>\n",
       "      <th>Score</th>\n",
       "      <th>Time</th>\n",
       "      <th>Summary</th>\n",
       "      <th>Text</th>\n",
       "      <th>CleanedText</th>\n",
       "    </tr>\n",
       "  </thead>\n",
       "  <tbody>\n",
       "    <tr>\n",
       "      <th>0</th>\n",
       "      <td>0</td>\n",
       "      <td>138706</td>\n",
       "      <td>150524</td>\n",
       "      <td>0006641040</td>\n",
       "      <td>ACITT7DI6IDDL</td>\n",
       "      <td>shari zychinski</td>\n",
       "      <td>0</td>\n",
       "      <td>0</td>\n",
       "      <td>positive</td>\n",
       "      <td>939340800</td>\n",
       "      <td>EVERY book is educational</td>\n",
       "      <td>this witty little book makes my son laugh at l...</td>\n",
       "      <td>witti littl book make son laugh loud recit car...</td>\n",
       "    </tr>\n",
       "    <tr>\n",
       "      <th>1</th>\n",
       "      <td>1</td>\n",
       "      <td>138688</td>\n",
       "      <td>150506</td>\n",
       "      <td>0006641040</td>\n",
       "      <td>A2IW4PEEKO2R0U</td>\n",
       "      <td>Tracy</td>\n",
       "      <td>1</td>\n",
       "      <td>1</td>\n",
       "      <td>positive</td>\n",
       "      <td>1194739200</td>\n",
       "      <td>Love the book, miss the hard cover version</td>\n",
       "      <td>I grew up reading these Sendak books, and watc...</td>\n",
       "      <td>grew read sendak book watch realli rosi movi i...</td>\n",
       "    </tr>\n",
       "    <tr>\n",
       "      <th>2</th>\n",
       "      <td>2</td>\n",
       "      <td>138689</td>\n",
       "      <td>150507</td>\n",
       "      <td>0006641040</td>\n",
       "      <td>A1S4A3IQ2MU7V4</td>\n",
       "      <td>sally sue \"sally sue\"</td>\n",
       "      <td>1</td>\n",
       "      <td>1</td>\n",
       "      <td>positive</td>\n",
       "      <td>1191456000</td>\n",
       "      <td>chicken soup with rice months</td>\n",
       "      <td>This is a fun way for children to learn their ...</td>\n",
       "      <td>fun way children learn month year learn poem t...</td>\n",
       "    </tr>\n",
       "    <tr>\n",
       "      <th>3</th>\n",
       "      <td>3</td>\n",
       "      <td>138690</td>\n",
       "      <td>150508</td>\n",
       "      <td>0006641040</td>\n",
       "      <td>AZGXZ2UUK6X</td>\n",
       "      <td>Catherine Hallberg \"(Kate)\"</td>\n",
       "      <td>1</td>\n",
       "      <td>1</td>\n",
       "      <td>positive</td>\n",
       "      <td>1076025600</td>\n",
       "      <td>a good swingy rhythm for reading aloud</td>\n",
       "      <td>This is a great little book to read aloud- it ...</td>\n",
       "      <td>great littl book read nice rhythm well good re...</td>\n",
       "    </tr>\n",
       "    <tr>\n",
       "      <th>4</th>\n",
       "      <td>4</td>\n",
       "      <td>138691</td>\n",
       "      <td>150509</td>\n",
       "      <td>0006641040</td>\n",
       "      <td>A3CMRKGE0P909G</td>\n",
       "      <td>Teresa</td>\n",
       "      <td>3</td>\n",
       "      <td>4</td>\n",
       "      <td>positive</td>\n",
       "      <td>1018396800</td>\n",
       "      <td>A great way to learn the months</td>\n",
       "      <td>This is a book of poetry about the months of t...</td>\n",
       "      <td>book poetri month year goe month cute littl po...</td>\n",
       "    </tr>\n",
       "  </tbody>\n",
       "</table>\n",
       "</div>"
      ],
      "text/plain": [
       "   level_0   index      Id   ProductId          UserId  \\\n",
       "0        0  138706  150524  0006641040   ACITT7DI6IDDL   \n",
       "1        1  138688  150506  0006641040  A2IW4PEEKO2R0U   \n",
       "2        2  138689  150507  0006641040  A1S4A3IQ2MU7V4   \n",
       "3        3  138690  150508  0006641040     AZGXZ2UUK6X   \n",
       "4        4  138691  150509  0006641040  A3CMRKGE0P909G   \n",
       "\n",
       "                   ProfileName  HelpfulnessNumerator  HelpfulnessDenominator  \\\n",
       "0              shari zychinski                     0                       0   \n",
       "1                        Tracy                     1                       1   \n",
       "2        sally sue \"sally sue\"                     1                       1   \n",
       "3  Catherine Hallberg \"(Kate)\"                     1                       1   \n",
       "4                       Teresa                     3                       4   \n",
       "\n",
       "      Score        Time                                     Summary  \\\n",
       "0  positive   939340800                   EVERY book is educational   \n",
       "1  positive  1194739200  Love the book, miss the hard cover version   \n",
       "2  positive  1191456000               chicken soup with rice months   \n",
       "3  positive  1076025600      a good swingy rhythm for reading aloud   \n",
       "4  positive  1018396800             A great way to learn the months   \n",
       "\n",
       "                                                Text  \\\n",
       "0  this witty little book makes my son laugh at l...   \n",
       "1  I grew up reading these Sendak books, and watc...   \n",
       "2  This is a fun way for children to learn their ...   \n",
       "3  This is a great little book to read aloud- it ...   \n",
       "4  This is a book of poetry about the months of t...   \n",
       "\n",
       "                                         CleanedText  \n",
       "0  witti littl book make son laugh loud recit car...  \n",
       "1  grew read sendak book watch realli rosi movi i...  \n",
       "2  fun way children learn month year learn poem t...  \n",
       "3  great littl book read nice rhythm well good re...  \n",
       "4  book poetri month year goe month cute littl po...  "
      ]
     },
     "execution_count": 2,
     "metadata": {},
     "output_type": "execute_result"
    }
   ],
   "source": [
    "conn = sqlite3.connect('final.sqlite')\n",
    "\n",
    "final = pd.read_sql_query(\"\"\"SELECT * FROM Reviews\"\"\", conn)\n",
    "\n",
    "final.head()"
   ]
  },
  {
   "cell_type": "markdown",
   "metadata": {},
   "source": [
    "## Bag Of Words"
   ]
  },
  {
   "cell_type": "code",
   "execution_count": 12,
   "metadata": {
    "collapsed": true
   },
   "outputs": [],
   "source": [
    "## Initialize on object of the class CountVectorizer\n",
    "bow_vect = CountVectorizer()\n",
    "bow = bow_vect.fit_transform(final['Text'].values)"
   ]
  },
  {
   "cell_type": "code",
   "execution_count": 14,
   "metadata": {},
   "outputs": [
    {
     "data": {
      "text/plain": [
       "(364171, 115281)"
      ]
     },
     "execution_count": 14,
     "metadata": {},
     "output_type": "execute_result"
    }
   ],
   "source": [
    "bow.get_shape()"
   ]
  },
  {
   "cell_type": "markdown",
   "metadata": {},
   "source": [
    "## TF-IDF"
   ]
  },
  {
   "cell_type": "code",
   "execution_count": 5,
   "metadata": {
    "collapsed": true
   },
   "outputs": [],
   "source": [
    "tf_idf_vect = TfidfVectorizer()\n",
    "tf_idf = tf_idf_vect.fit_transform(final['Text'].values)"
   ]
  },
  {
   "cell_type": "code",
   "execution_count": 6,
   "metadata": {},
   "outputs": [
    {
     "data": {
      "text/plain": [
       "(364171, 115281)"
      ]
     },
     "execution_count": 6,
     "metadata": {},
     "output_type": "execute_result"
    }
   ],
   "source": [
    "tf_idf.shape"
   ]
  },
  {
   "cell_type": "markdown",
   "metadata": {},
   "source": [
    "## Text Preprocessing"
   ]
  },
  {
   "cell_type": "markdown",
   "metadata": {},
   "source": [
    "#### We can see that many reviews contain HTML tags which are unwanted for our purpose"
   ]
  },
  {
   "cell_type": "code",
   "execution_count": 38,
   "metadata": {},
   "outputs": [
    {
     "name": "stdout",
     "output_type": "stream",
     "text": [
      "I set aside at least an hour each day to read to my son (3 y/o). At this point, I consider myself a connoisseur of children's books and this is one of the best. Santa Clause put this under the tree. Since then, we've read it perpetually and he loves it.<br /><br />First, this book taught him the months of the year.<br /><br />Second, it's a pleasure to read. Well suited to 1.5 y/o old to 4+.<br /><br />Very few children's books are worth owning. Most should be borrowed from the library. This book, however, deserves a permanent spot on your shelf. Sendak's best. \n",
      "\n",
      "\n",
      "Summary:  A young boy describes the usefulness of chicken soup with rice for each month of the year.<br /><br />Evaluation:  With Sendak's creative repetitious and rhythmic words, children will enjoy and learn to read the story of a boy who loves chicken soup with rice!  Through Sendak's catchy story, children will also learn the months of the year, as well as what seasons go with what month! They learn to identify ice-skating and snowmen in the winter; strong wind in March; birds and flowers in the spring; swimming and hot temperatures in the summer; and finally different holidays throughout the year. Such as Halloween in October, and Christmas in December.<br /><br />Sendak's simple three colored crayon-like drawings are a perfect addition to his educational and entertaining story.<br /><br />A great activity that you can do with this book is to have children draw their own illustrations for each month of the year.  Afterwards you can bind the pages together so the children can create their own book. \n",
      "\n",
      "\n",
      "In June<br />I saw a charming group<br />of roses all begin<br />to droop<br />I pepped them up<br />with chicken soup!<br />Sprinkle once<br />sprinkle twice<br />sprinkle chicken soup<br />with rice<br /><br />This is a great book to teach children the months of the year. The repetition of the phrases and the funny little stories with accompanying pictures make for an ideal bedtime read. This isn't nearly as good as some of Sendak's other books (like Where the Wild Things are or Pierre: The Boy Who Didn't Care), but it still carries his unique brand of charm. \n",
      "\n",
      "\n",
      "TITLE: Chicken Soup with Rice<br />AUTHOR: Maurice Sendak<br />REVIEWER: Josh Grossman, Colonel {r}, U.S.A.R., M.C., M.D., FACP<br />Rural physician/author/educator-Mentor U.S.M.L.E. Step 3...<br />>Who would believe that I have memorized this book?<br />>Who would believe that I can recite any month in any order?<br />>Who would believe that I read my copy to tatters while reading to my children now professional adults?<br />>Who would believe that my grandchildren read their copy to tatters?<br />I can be confident that generations of children will enjoy \"Chicken Soup with Rice\"<br />Bravo!<br />Thank you!<br />Respectfully submitted... \n",
      "\n",
      "\n",
      "This is a wonderful little book. I loved it 40 years ago and my twins love it now. They enjoy helping me finish each month by singing \"... chicken soup with rice!\"<br /><br />The cute drawings add to the fun -- but be warned, one of them is very un-PC! We're not in 1962 any more, Toto. \n",
      "\n",
      "\n"
     ]
    }
   ],
   "source": [
    "i = 0\n",
    "for sen in final['Text'].values:\n",
    "    if(len(re.findall('<.*?>', sen))):\n",
    "        print(sen,\"\\n\\n\")\n",
    "        i += 1\n",
    "    if i == 5:\n",
    "        break"
   ]
  },
  {
   "cell_type": "markdown",
   "metadata": {},
   "source": [
    "#### Stopwords are those words which do not provide much meaning to the sentences"
   ]
  },
  {
   "cell_type": "code",
   "execution_count": 2,
   "metadata": {
    "collapsed": true
   },
   "outputs": [],
   "source": [
    "stop = set(stopwords.words('english')) #set of stopwords"
   ]
  },
  {
   "cell_type": "code",
   "execution_count": 4,
   "metadata": {},
   "outputs": [
    {
     "name": "stdout",
     "output_type": "stream",
     "text": [
      "{'ll', 'all', 'to', 'shouldn', 'hadn', 'won', 'should', 'be', 'itself', 'a', 'had', 'from', 'in', 'where', 'why', 'between', 'himself', 'yours', 'i', 'that', 'but', 'of', 'having', 'you', 'him', 'don', 'than', 'above', 'this', 'on', 'herself', 'has', 'an', 'weren', 'can', 'own', 'and', 'he', 'they', 'been', 'these', 'most', 'me', 'through', 'am', 'their', 'doing', 'them', 'whom', 'yourself', 'with', 'doesn', 'after', 'up', 'isn', 'or', 'his', 'below', 'themselves', 'more', 'just', 'both', 'each', 'at', 'very', 'shan', 'not', 'over', 'how', 'if', 'myself', 'so', 'who', 'is', 'such', 'few', 'those', 'd', 'because', 'ourselves', 'about', 'before', 'here', 'her', 'wouldn', 'was', 't', 'the', 'ain', 'didn', 'couldn', 'are', 'during', 'wasn', 'no', 'm', 'as', 'by', 'same', 'now', 'hasn', 'o', 'have', 'hers', 'until', 'its', 're', 'were', 'your', 'it', 'our', 'then', 'mightn', 'will', 'needn', 'ma', 'does', 'against', 'once', 'under', 'aren', 'again', 'she', 'nor', 'which', 'did', 'off', 'out', 'my', 've', 'down', 'theirs', 'only', 'for', 'any', 'yourselves', 'do', 'too', 'y', 'mustn', 'what', 'some', 'while', 'further', 'there', 's', 'ours', 'other', 'being', 'haven', 'into', 'we', 'when'}\n"
     ]
    }
   ],
   "source": [
    "print(stop)"
   ]
  },
  {
   "cell_type": "markdown",
   "metadata": {},
   "source": [
    "**Personally** I feel that words like **won, nor, not, against** should not be treated as stopwords. So I would like to remove these words from the default stop words list. However these type of decisions depend on individuals"
   ]
  },
  {
   "cell_type": "code",
   "execution_count": 5,
   "metadata": {},
   "outputs": [
    {
     "name": "stdout",
     "output_type": "stream",
     "text": [
      "{'ll', 'all', 'to', 'shouldn', 'hadn', 'should', 'be', 'itself', 'a', 'had', 'from', 'in', 'where', 'why', 'between', 'himself', 'yours', 'i', 'that', 'but', 'of', 'having', 'you', 'him', 'don', 'than', 'above', 'this', 'on', 'herself', 'has', 'an', 'weren', 'can', 'own', 'and', 'he', 'they', 'been', 'these', 'most', 'me', 'through', 'am', 'their', 'doing', 'them', 'whom', 'yourself', 'with', 'doesn', 'after', 'up', 'isn', 'or', 'his', 'below', 'themselves', 'more', 'just', 'both', 'each', 'at', 'very', 'shan', 'over', 'how', 'if', 'myself', 'so', 'who', 'is', 'such', 'few', 'those', 'd', 'because', 'ourselves', 'about', 'before', 'here', 'her', 'wouldn', 'was', 't', 'the', 'ain', 'didn', 'couldn', 'are', 'during', 'wasn', 'no', 'm', 'as', 'by', 'same', 'now', 'hasn', 'o', 'have', 'hers', 'until', 'its', 're', 'were', 'your', 'it', 'our', 'then', 'mightn', 'will', 'needn', 'ma', 'does', 'once', 'under', 'aren', 'again', 'she', 'which', 'did', 'off', 'out', 'my', 've', 'down', 'theirs', 'only', 'for', 'any', 'yourselves', 'do', 'too', 'y', 'mustn', 'what', 'some', 'while', 'further', 'there', 's', 'ours', 'other', 'being', 'haven', 'into', 'we', 'when'}\n"
     ]
    }
   ],
   "source": [
    "lst = ['won', 'nor', 'not', 'against']\n",
    "for word in lst:\n",
    "    stop.remove(word)\n",
    "print(stop)"
   ]
  },
  {
   "cell_type": "markdown",
   "metadata": {},
   "source": [
    "#### Stemming\n",
    "In linguistic morphology and information retrieval, stemming is the process of reducing inflected (or sometimes derived) words to their word stem, base or root form"
   ]
  },
  {
   "cell_type": "code",
   "execution_count": 3,
   "metadata": {
    "collapsed": true
   },
   "outputs": [],
   "source": [
    "sno = nltk.stem.SnowballStemmer('english') #initialising the snowball stemmer"
   ]
  },
  {
   "cell_type": "markdown",
   "metadata": {},
   "source": [
    "#### Example of stemming"
   ]
  },
  {
   "cell_type": "code",
   "execution_count": 11,
   "metadata": {},
   "outputs": [
    {
     "name": "stdout",
     "output_type": "stream",
     "text": [
      "oper\n",
      "oper\n",
      "oper\n",
      "oper\n"
     ]
    }
   ],
   "source": [
    "print(sno.stem(\"operating\"))\n",
    "print(sno.stem(\"operated\"))\n",
    "print(sno.stem(\"operation\"))\n",
    "print(sno.stem(\"operate\"))"
   ]
  },
  {
   "cell_type": "markdown",
   "metadata": {},
   "source": [
    "#### Function to clean HTML tags in a given sentence"
   ]
  },
  {
   "cell_type": "code",
   "execution_count": 11,
   "metadata": {
    "collapsed": true
   },
   "outputs": [],
   "source": [
    "def cleanhtml(sentence):\n",
    "    '''This function removes all the html tags in the given sentence'''\n",
    "    cleanr = re.compile('<.*?>')    ## find the index of the html tags\n",
    "    cleantext = re.sub(cleanr, ' ', sentence)  ## Substitute <space> in place of any html tag\n",
    "    return cleantext"
   ]
  },
  {
   "cell_type": "code",
   "execution_count": 43,
   "metadata": {},
   "outputs": [
    {
     "data": {
      "text/plain": [
       "'hello World'"
      ]
     },
     "execution_count": 43,
     "metadata": {},
     "output_type": "execute_result"
    }
   ],
   "source": [
    "cleanhtml(\"hello<br /br>World\")"
   ]
  },
  {
   "cell_type": "markdown",
   "metadata": {},
   "source": [
    "#### Function to remove punctuations or special characters from a given sentence"
   ]
  },
  {
   "cell_type": "code",
   "execution_count": 12,
   "metadata": {
    "collapsed": true
   },
   "outputs": [],
   "source": [
    "def cleanpunc(sentence):\n",
    "    '''This function cleans all the punctuation or special characters from a given sentence'''\n",
    "    cleaned = re.sub(r'[?|@|!|^|%|\\'|\"|#]',r'',sentence)\n",
    "    cleaned = re.sub(r'[.|,|)|(|\\|/]',r' ',cleaned)\n",
    "    return  cleaned"
   ]
  },
  {
   "cell_type": "code",
   "execution_count": 8,
   "metadata": {},
   "outputs": [
    {
     "data": {
      "text/plain": [
       "'Hell o W orl d  '"
      ]
     },
     "execution_count": 8,
     "metadata": {},
     "output_type": "execute_result"
    }
   ],
   "source": [
    "cleanpunc(\"H?e^l@l/o #W(o!r%l.d,)\")"
   ]
  },
  {
   "cell_type": "markdown",
   "metadata": {},
   "source": [
    "#### Function to implement preprocessing steps"
   ]
  },
  {
   "cell_type": "code",
   "execution_count": 30,
   "metadata": {
    "collapsed": true
   },
   "outputs": [],
   "source": [
    "def preprocessing(series):\n",
    "    '''The function takes a Pandas Series object containing text in all the cells\n",
    "       And performs following Preprocessing steps on each cell:\n",
    "       1. Clean text from html tags\n",
    "       2. Clean text from punctuations and special characters\n",
    "       3. Retain only non-numeric Latin characters with lenght > 2\n",
    "       4. Remove stopwords from the sentence\n",
    "       5. Apply stemming to all the words in the sentence\n",
    "       \n",
    "       Return values:\n",
    "       1. final_string - List of cleaned sentences\n",
    "       2. list_of_sent - List of lists which can be used as input to the W2V model'''\n",
    "    \n",
    "    i = 0\n",
    "    str1=\" \"\n",
    "    final_string = []    ## This list will contain cleaned sentences\n",
    "    list_of_sent = []    ## This is a list of lists used as input to the W2V model at a later stage\n",
    "    \n",
    "    ## Creating below lists for future use\n",
    "    all_positive_words=[] # store words from +ve reviews here\n",
    "    all_negative_words=[] # store words from -ve reviews here\n",
    "    \n",
    "    \n",
    "    for sent in series.values:\n",
    "        ## \n",
    "        filtered_sent = []\n",
    "        list_of_sent = []\n",
    "        sent = cleanhtml(sent)    ## Clean the HTML tags\n",
    "        sent = cleanpunc(sent)    ## Clean the punctuations and special characters\n",
    "        ## Sentences are cleaned and words are handled individually\n",
    "        for cleaned_words in sent.split():\n",
    "            ## Only consider non-numeric words with length at least 3\n",
    "            if((cleaned_words.isalpha()) & (len(cleaned_words) > 2)):\n",
    "                ## Only consider words which are not stopwords and convert them to lowet case\n",
    "                if(cleaned_words.lower() not in stop):\n",
    "                    ## Apply snowball stemmer and add them to the filtered_sent list\n",
    "                    s = (sno.stem(cleaned_words.lower()))#.encode('utf-8')\n",
    "                    filtered_sent.append(s)    ## This contains all the cleaned words for a sentence\n",
    "                    if (final['Score'].values)[i] == 'positive':\n",
    "                        all_positive_words.append(s) #list of all words used to describe positive reviews\n",
    "                    if(final['Score'].values)[i] == 'negative':\n",
    "                        all_negative_words.append(s) #list of all words used to describe negative reviews\n",
    "        ## Below list is a list of lists used as input to W2V model later\n",
    "        list_of_sent.append(filtered_sent)\n",
    "        ## Join back all the words belonging to the same sentence\n",
    "        str1 = \" \".join(filtered_sent)\n",
    "        ## Finally add the cleaned sentence in the below list\n",
    "        final_string.append(str1)\n",
    "        #print(i)\n",
    "        i += 1\n",
    "    return final_string, list_of_sent"
   ]
  },
  {
   "cell_type": "markdown",
   "metadata": {},
   "source": [
    "#### First 5 rows without preprocessing"
   ]
  },
  {
   "cell_type": "code",
   "execution_count": 15,
   "metadata": {},
   "outputs": [
    {
     "name": "stdout",
     "output_type": "stream",
     "text": [
      "this witty little book makes my son laugh at loud. i recite it in the car as we're driving along and he always can sing the refrain. he's learned about whales, India, drooping roses:  i love all the new words this book  introduces and the silliness of it all.  this is a classic book i am  willing to bet my son will STILL be able to recite from memory when he is  in college \n",
      "\n",
      "\n",
      "I grew up reading these Sendak books, and watching the Really Rosie movie that incorporates them, and love them. My son loves them too. I do however, miss the hard cover version. The paperbacks seem kind of flimsy and it takes two hands to keep the pages open. \n",
      "\n",
      "\n",
      "This is a fun way for children to learn their months of the year!  We will learn all of the poems throughout the school year.  they like the handmotions which I invent for each poem. \n",
      "\n",
      "\n",
      "This is a great little book to read aloud- it has a nice rhythm as well as good repetition that little ones like, in the lines about \"chicken soup with rice\".  The child gets to go through the months of the year and go to wonderful places like Bombay and down the Nile, all the while, eating, well, you know what they get to eat.  Some kids will have Maurice Sendak's version of ice skating or how to treat roses in their heads for a long time and they won't even know where it came from.  Surprise!  It came from this little witty book.  :-) \n",
      "\n",
      "\n",
      "This is a book of poetry about the months of the year.  It goes through each month and has a cute little poem to go along with it.  I love this book because it is a really fun way to learn the months and the poems are very creative. The author's purpose for writing this book was to give children a fun way to learn the months.  The children can also learn things about poetry and rhythm through reading this book. \n",
      "\n",
      "\n"
     ]
    }
   ],
   "source": [
    "for x in final['Text'].iloc[:5].values:\n",
    "    print(x,\"\\n\\n\")"
   ]
  },
  {
   "cell_type": "markdown",
   "metadata": {},
   "source": [
    "#### First 5 rows after preprocessing"
   ]
  },
  {
   "cell_type": "code",
   "execution_count": 31,
   "metadata": {},
   "outputs": [
    {
     "name": "stdout",
     "output_type": "stream",
     "text": [
      "witti littl book make son laugh loud recit car drive along alway sing refrain hes learn whale india droop love new word book introduc silli classic book will bet son still abl recit memori colleg \n",
      "\n",
      "\n",
      "grew read sendak book watch realli rosi movi incorpor love son love howev miss hard cover version paperback seem kind flimsi take two hand keep page open \n",
      "\n",
      "\n",
      "fun way children learn month year learn poem throughout school year like handmot invent poem \n",
      "\n",
      "\n",
      "great littl book read nice rhythm well good repetit littl one like line chicken soup rice child get month year wonder place like bombay nile eat well know get eat kid mauric sendak version ice skate treat rose head long time wont even know came surpris came littl witti book \n",
      "\n",
      "\n",
      "book poetri month year goe month cute littl poem along love book realli fun way learn month poem creativ author purpos write book give children fun way learn month children also learn thing poetri rhythm read book \n",
      "\n",
      "\n"
     ]
    }
   ],
   "source": [
    "final_string, list_of_sent = preprocessing(final['Text'].iloc[:5])\n",
    "for x in final_string:\n",
    "    print(x,\"\\n\\n\")"
   ]
  },
  {
   "cell_type": "code",
   "execution_count": 28,
   "metadata": {
    "collapsed": true
   },
   "outputs": [],
   "source": [
    "## This takes around 1 hour\n",
    "final_string, list_of_sent = preprocessing(final['Text'])"
   ]
  },
  {
   "cell_type": "code",
   "execution_count": 24,
   "metadata": {
    "collapsed": true
   },
   "outputs": [],
   "source": [
    "final['CleanedText']=final_string #adding a column of CleanedText which displays the data after pre-processing of the review"
   ]
  },
  {
   "cell_type": "code",
   "execution_count": 25,
   "metadata": {},
   "outputs": [
    {
     "data": {
      "text/html": [
       "<div>\n",
       "<style>\n",
       "    .dataframe thead tr:only-child th {\n",
       "        text-align: right;\n",
       "    }\n",
       "\n",
       "    .dataframe thead th {\n",
       "        text-align: left;\n",
       "    }\n",
       "\n",
       "    .dataframe tbody tr th {\n",
       "        vertical-align: top;\n",
       "    }\n",
       "</style>\n",
       "<table border=\"1\" class=\"dataframe\">\n",
       "  <thead>\n",
       "    <tr style=\"text-align: right;\">\n",
       "      <th></th>\n",
       "      <th>index</th>\n",
       "      <th>Id</th>\n",
       "      <th>ProductId</th>\n",
       "      <th>UserId</th>\n",
       "      <th>ProfileName</th>\n",
       "      <th>HelpfulnessNumerator</th>\n",
       "      <th>HelpfulnessDenominator</th>\n",
       "      <th>Score</th>\n",
       "      <th>Time</th>\n",
       "      <th>Summary</th>\n",
       "      <th>Text</th>\n",
       "      <th>CleanedText</th>\n",
       "    </tr>\n",
       "  </thead>\n",
       "  <tbody>\n",
       "    <tr>\n",
       "      <th>0</th>\n",
       "      <td>138706</td>\n",
       "      <td>150524</td>\n",
       "      <td>0006641040</td>\n",
       "      <td>ACITT7DI6IDDL</td>\n",
       "      <td>shari zychinski</td>\n",
       "      <td>0</td>\n",
       "      <td>0</td>\n",
       "      <td>positive</td>\n",
       "      <td>939340800</td>\n",
       "      <td>EVERY book is educational</td>\n",
       "      <td>this witty little book makes my son laugh at l...</td>\n",
       "      <td>witti littl book make son laugh loud recit car...</td>\n",
       "    </tr>\n",
       "    <tr>\n",
       "      <th>1</th>\n",
       "      <td>138688</td>\n",
       "      <td>150506</td>\n",
       "      <td>0006641040</td>\n",
       "      <td>A2IW4PEEKO2R0U</td>\n",
       "      <td>Tracy</td>\n",
       "      <td>1</td>\n",
       "      <td>1</td>\n",
       "      <td>positive</td>\n",
       "      <td>1194739200</td>\n",
       "      <td>Love the book, miss the hard cover version</td>\n",
       "      <td>I grew up reading these Sendak books, and watc...</td>\n",
       "      <td>grew read sendak book watch realli rosi movi i...</td>\n",
       "    </tr>\n",
       "    <tr>\n",
       "      <th>2</th>\n",
       "      <td>138689</td>\n",
       "      <td>150507</td>\n",
       "      <td>0006641040</td>\n",
       "      <td>A1S4A3IQ2MU7V4</td>\n",
       "      <td>sally sue \"sally sue\"</td>\n",
       "      <td>1</td>\n",
       "      <td>1</td>\n",
       "      <td>positive</td>\n",
       "      <td>1191456000</td>\n",
       "      <td>chicken soup with rice months</td>\n",
       "      <td>This is a fun way for children to learn their ...</td>\n",
       "      <td>fun way children learn month year learn poem t...</td>\n",
       "    </tr>\n",
       "    <tr>\n",
       "      <th>3</th>\n",
       "      <td>138690</td>\n",
       "      <td>150508</td>\n",
       "      <td>0006641040</td>\n",
       "      <td>AZGXZ2UUK6X</td>\n",
       "      <td>Catherine Hallberg \"(Kate)\"</td>\n",
       "      <td>1</td>\n",
       "      <td>1</td>\n",
       "      <td>positive</td>\n",
       "      <td>1076025600</td>\n",
       "      <td>a good swingy rhythm for reading aloud</td>\n",
       "      <td>This is a great little book to read aloud- it ...</td>\n",
       "      <td>great littl book read nice rhythm well good re...</td>\n",
       "    </tr>\n",
       "    <tr>\n",
       "      <th>4</th>\n",
       "      <td>138691</td>\n",
       "      <td>150509</td>\n",
       "      <td>0006641040</td>\n",
       "      <td>A3CMRKGE0P909G</td>\n",
       "      <td>Teresa</td>\n",
       "      <td>3</td>\n",
       "      <td>4</td>\n",
       "      <td>positive</td>\n",
       "      <td>1018396800</td>\n",
       "      <td>A great way to learn the months</td>\n",
       "      <td>This is a book of poetry about the months of t...</td>\n",
       "      <td>book poetri month year goe month cute littl po...</td>\n",
       "    </tr>\n",
       "  </tbody>\n",
       "</table>\n",
       "</div>"
      ],
      "text/plain": [
       "    index      Id   ProductId          UserId                  ProfileName  \\\n",
       "0  138706  150524  0006641040   ACITT7DI6IDDL              shari zychinski   \n",
       "1  138688  150506  0006641040  A2IW4PEEKO2R0U                        Tracy   \n",
       "2  138689  150507  0006641040  A1S4A3IQ2MU7V4        sally sue \"sally sue\"   \n",
       "3  138690  150508  0006641040     AZGXZ2UUK6X  Catherine Hallberg \"(Kate)\"   \n",
       "4  138691  150509  0006641040  A3CMRKGE0P909G                       Teresa   \n",
       "\n",
       "   HelpfulnessNumerator  HelpfulnessDenominator     Score        Time  \\\n",
       "0                     0                       0  positive   939340800   \n",
       "1                     1                       1  positive  1194739200   \n",
       "2                     1                       1  positive  1191456000   \n",
       "3                     1                       1  positive  1076025600   \n",
       "4                     3                       4  positive  1018396800   \n",
       "\n",
       "                                      Summary  \\\n",
       "0                   EVERY book is educational   \n",
       "1  Love the book, miss the hard cover version   \n",
       "2               chicken soup with rice months   \n",
       "3      a good swingy rhythm for reading aloud   \n",
       "4             A great way to learn the months   \n",
       "\n",
       "                                                Text  \\\n",
       "0  this witty little book makes my son laugh at l...   \n",
       "1  I grew up reading these Sendak books, and watc...   \n",
       "2  This is a fun way for children to learn their ...   \n",
       "3  This is a great little book to read aloud- it ...   \n",
       "4  This is a book of poetry about the months of t...   \n",
       "\n",
       "                                         CleanedText  \n",
       "0  witti littl book make son laugh loud recit car...  \n",
       "1  grew read sendak book watch realli rosi movi i...  \n",
       "2  fun way children learn month year learn poem t...  \n",
       "3  great littl book read nice rhythm well good re...  \n",
       "4  book poetri month year goe month cute littl po...  "
      ]
     },
     "execution_count": 25,
     "metadata": {},
     "output_type": "execute_result"
    }
   ],
   "source": [
    "final.head()"
   ]
  },
  {
   "cell_type": "markdown",
   "metadata": {},
   "source": [
    "#### Save the updated DataFrame as an SQL Table for future use"
   ]
  },
  {
   "cell_type": "code",
   "execution_count": 27,
   "metadata": {
    "collapsed": true
   },
   "outputs": [],
   "source": [
    "conn = sqlite3.connect('final.sqlite')\n",
    "c=conn.cursor()\n",
    "final.to_sql('Reviews', conn, if_exists='replace')\n",
    "conn.close()"
   ]
  },
  {
   "cell_type": "markdown",
   "metadata": {},
   "source": [
    "#### Save the list_of_sent in a pickle file so that you can directly load the pickle file every time you use in future"
   ]
  },
  {
   "cell_type": "code",
   "execution_count": 49,
   "metadata": {
    "collapsed": true
   },
   "outputs": [],
   "source": [
    "with open('list_of_sent_for_input_to_w2v.pkl', 'wb') as pickle_file:\n",
    "    pickle.dump(list_of_sent, pickle_file)"
   ]
  },
  {
   "cell_type": "markdown",
   "metadata": {},
   "source": [
    "## BOW after cleaning"
   ]
  },
  {
   "cell_type": "code",
   "execution_count": 4,
   "metadata": {},
   "outputs": [
    {
     "data": {
      "text/plain": [
       "(364171, 71691)"
      ]
     },
     "execution_count": 4,
     "metadata": {},
     "output_type": "execute_result"
    }
   ],
   "source": [
    "bow_vect = CountVectorizer()\n",
    "bow = bow_vect.fit_transform(final['CleanedText'].values)\n",
    "bow.shape"
   ]
  },
  {
   "cell_type": "markdown",
   "metadata": {},
   "source": [
    "#### Take a subset of 2000 points to visualize using TSNE"
   ]
  },
  {
   "cell_type": "code",
   "execution_count": 70,
   "metadata": {},
   "outputs": [
    {
     "data": {
      "text/plain": [
       "positive    1651\n",
       "negative     349\n",
       "Name: Score, dtype: int64"
      ]
     },
     "execution_count": 70,
     "metadata": {},
     "output_type": "execute_result"
    }
   ],
   "source": [
    "final['Score'].iloc[:2000].value_counts()"
   ]
  },
  {
   "cell_type": "code",
   "execution_count": 40,
   "metadata": {},
   "outputs": [
    {
     "data": {
      "text/plain": [
       "numpy.ndarray"
      ]
     },
     "execution_count": 40,
     "metadata": {},
     "output_type": "execute_result"
    }
   ],
   "source": [
    "X = bow[:2000, :].toarray()\n",
    "type(X)"
   ]
  },
  {
   "cell_type": "code",
   "execution_count": 42,
   "metadata": {},
   "outputs": [
    {
     "data": {
      "text/plain": [
       "<seaborn.axisgrid.FacetGrid at 0x2088cb6beb8>"
      ]
     },
     "execution_count": 42,
     "metadata": {},
     "output_type": "execute_result"
    },
    {
     "data": {
      "image/png": "[encoded data removed]",
      "text/plain": [
       "<matplotlib.figure.Figure at 0x208906502e8>"
      ]
     },
     "metadata": {},
     "output_type": "display_data"
    }
   ],
   "source": [
    "tsne = TSNE(n_components = 2, perplexity = 15).fit_transform(X)\n",
    "df = pd.DataFrame(tsne, columns = ('dim1', 'dim2'))\n",
    "df = pd.concat([df, final['Score'].iloc[:2000]], axis = 1)\n",
    "sns.FacetGrid(df, hue = 'Score', size = 5).map(plt.scatter, 'dim1', 'dim2').add_legend()"
   ]
  },
  {
   "cell_type": "markdown",
   "metadata": {},
   "source": [
    "#### Taking a subset of 5000 points"
   ]
  },
  {
   "cell_type": "code",
   "execution_count": 13,
   "metadata": {
    "collapsed": true
   },
   "outputs": [],
   "source": [
    "#X = bow[:5000, :].toarray()\n",
    "#type(X)\n",
    "#del(X)"
   ]
  },
  {
   "cell_type": "code",
   "execution_count": 12,
   "metadata": {},
   "outputs": [
    {
     "data": {
      "text/plain": [
       "<seaborn.axisgrid.FacetGrid at 0x20a678b0518>"
      ]
     },
     "execution_count": 12,
     "metadata": {},
     "output_type": "execute_result"
    },
    {
     "data": {
      "image/png": "[encoded data removed]",
      "text/plain": [
       "<matplotlib.figure.Figure at 0x20a678b0c50>"
      ]
     },
     "metadata": {},
     "output_type": "display_data"
    }
   ],
   "source": [
    "tsne = TSNE(n_components = 2, perplexity = 20).fit_transform(X)\n",
    "df = pd.DataFrame(tsne, columns = ('dim1', 'dim2'))\n",
    "df = pd.concat([df, final['Score'].iloc[:5000]], axis = 1)\n",
    "sns.FacetGrid(df, hue = 'Score', size = 5).map(plt.scatter, 'dim1', 'dim2').add_legend()"
   ]
  },
  {
   "cell_type": "markdown",
   "metadata": {},
   "source": [
    "## TFIDF after cleaning"
   ]
  },
  {
   "cell_type": "code",
   "execution_count": 17,
   "metadata": {},
   "outputs": [
    {
     "data": {
      "text/plain": [
       "(364171, 71691)"
      ]
     },
     "execution_count": 17,
     "metadata": {},
     "output_type": "execute_result"
    }
   ],
   "source": [
    "tf_idf_vect = TfidfVectorizer()\n",
    "tf_idf = tf_idf_vect.fit_transform(final['CleanedText'].values)\n",
    "tf_idf.shape"
   ]
  },
  {
   "cell_type": "markdown",
   "metadata": {},
   "source": [
    "#### Take a subset of 2000 points to visualize using TSNE"
   ]
  },
  {
   "cell_type": "code",
   "execution_count": 44,
   "metadata": {},
   "outputs": [
    {
     "data": {
      "text/plain": [
       "numpy.ndarray"
      ]
     },
     "execution_count": 44,
     "metadata": {},
     "output_type": "execute_result"
    }
   ],
   "source": [
    "Y = tf_idf[:2000, :].toarray()\n",
    "type(Y)"
   ]
  },
  {
   "cell_type": "code",
   "execution_count": 46,
   "metadata": {},
   "outputs": [
    {
     "data": {
      "text/plain": [
       "<seaborn.axisgrid.FacetGrid at 0x2089c12bda0>"
      ]
     },
     "execution_count": 46,
     "metadata": {},
     "output_type": "execute_result"
    },
    {
     "data": {
      "image/png": "[encoded data removed]",
      "text/plain": [
       "<matplotlib.figure.Figure at 0x20884e1efd0>"
      ]
     },
     "metadata": {},
     "output_type": "display_data"
    }
   ],
   "source": [
    "tsne = TSNE(n_components = 2, perplexity = 15).fit_transform(Y)\n",
    "df1 = pd.DataFrame(tsne, columns = ('dim1', 'dim2'))\n",
    "df1 = pd.concat([df, final['Score'].iloc[:2000]], axis = 1)\n",
    "sns.FacetGrid(df, hue = 'Score', size = 5).map(plt.scatter, 'dim1', 'dim2').add_legend()"
   ]
  },
  {
   "cell_type": "markdown",
   "metadata": {},
   "source": [
    "#### Taking a subset of 5000 points"
   ]
  },
  {
   "cell_type": "code",
   "execution_count": 18,
   "metadata": {},
   "outputs": [
    {
     "data": {
      "text/plain": [
       "numpy.ndarray"
      ]
     },
     "execution_count": 18,
     "metadata": {},
     "output_type": "execute_result"
    }
   ],
   "source": [
    "Y = tf_idf[:5000, :].toarray()\n",
    "type(Y)"
   ]
  },
  {
   "cell_type": "code",
   "execution_count": 19,
   "metadata": {},
   "outputs": [
    {
     "data": {
      "text/plain": [
       "<seaborn.axisgrid.FacetGrid at 0x20a706782b0>"
      ]
     },
     "execution_count": 19,
     "metadata": {},
     "output_type": "execute_result"
    },
    {
     "data": {
      "image/png": "[encoded data removed]",
      "text/plain": [
       "<matplotlib.figure.Figure at 0x20a70678128>"
      ]
     },
     "metadata": {},
     "output_type": "display_data"
    }
   ],
   "source": [
    "tsne = TSNE(n_components = 2, perplexity = 25).fit_transform(Y)\n",
    "df = pd.DataFrame(tsne, columns = ('dim1', 'dim2'))\n",
    "df = pd.concat([df, final['Score'].iloc[:5000]], axis = 1)\n",
    "sns.FacetGrid(df, hue = 'Score', size = 5).map(plt.scatter, 'dim1', 'dim2').add_legend()"
   ]
  },
  {
   "cell_type": "markdown",
   "metadata": {},
   "source": [
    "## W2V for CleanedText\n",
    "#### Input to Word2Vec is a list of lists\n",
    "* Outer list is a list of sentences\n",
    "* Every inner list contains all the words belonging to one sentence\n",
    "\n",
    "Tensorflow Tutorial - https://www.tensorflow.org/tutorials/word2vec"
   ]
  },
  {
   "cell_type": "markdown",
   "metadata": {},
   "source": [
    "#### Read the pickle file - This was saved previously during the preprocessing phase, now loading it for giving input to W2V"
   ]
  },
  {
   "cell_type": "code",
   "execution_count": 6,
   "metadata": {
    "collapsed": true
   },
   "outputs": [],
   "source": [
    "with open('list_of_sent_for_input_to_w2v.pkl', 'rb') as pickle_file:\n",
    "    list_of_sent = pickle.load(pickle_file)"
   ]
  },
  {
   "cell_type": "markdown",
   "metadata": {},
   "source": [
    "**Try to understand what list_of_sent contains using below example**"
   ]
  },
  {
   "cell_type": "code",
   "execution_count": 50,
   "metadata": {},
   "outputs": [
    {
     "data": {
      "text/plain": [
       "'witti littl book make son laugh loud recit car drive along alway sing refrain hes learn whale india droop love new word book introduc silli classic book will bet son still abl recit memori colleg'"
      ]
     },
     "execution_count": 50,
     "metadata": {},
     "output_type": "execute_result"
    }
   ],
   "source": [
    "final['CleanedText'].values[0]"
   ]
  },
  {
   "cell_type": "code",
   "execution_count": 51,
   "metadata": {},
   "outputs": [
    {
     "data": {
      "text/plain": [
       "['witti',\n",
       " 'littl',\n",
       " 'book',\n",
       " 'make',\n",
       " 'son',\n",
       " 'laugh',\n",
       " 'loud',\n",
       " 'recit',\n",
       " 'car',\n",
       " 'drive',\n",
       " 'along',\n",
       " 'alway',\n",
       " 'sing',\n",
       " 'refrain',\n",
       " 'hes',\n",
       " 'learn',\n",
       " 'whale',\n",
       " 'india',\n",
       " 'droop',\n",
       " 'love',\n",
       " 'new',\n",
       " 'word',\n",
       " 'book',\n",
       " 'introduc',\n",
       " 'silli',\n",
       " 'classic',\n",
       " 'book',\n",
       " 'bet',\n",
       " 'son',\n",
       " 'still',\n",
       " 'abl',\n",
       " 'recit',\n",
       " 'memori',\n",
       " 'colleg']"
      ]
     },
     "execution_count": 51,
     "metadata": {},
     "output_type": "execute_result"
    }
   ],
   "source": [
    "list_of_sent[0]"
   ]
  },
  {
   "cell_type": "markdown",
   "metadata": {},
   "source": [
    "#### Training the Word2Vec model for words with min count 5"
   ]
  },
  {
   "cell_type": "code",
   "execution_count": 52,
   "metadata": {
    "collapsed": true
   },
   "outputs": [],
   "source": [
    "## size is the no of dimentsions\n",
    "## min_count specifies the min no of times a word needs to occur to be included in the model\n",
    "## workers is the number of cores on your PC\n",
    "w2v_model=gensim.models.Word2Vec(list_of_sent,min_count=5,size=50, workers=4)"
   ]
  },
  {
   "cell_type": "markdown",
   "metadata": {},
   "source": [
    "Check the number of unique words in the vocabulary of the model"
   ]
  },
  {
   "cell_type": "code",
   "execution_count": 53,
   "metadata": {},
   "outputs": [
    {
     "name": "stdout",
     "output_type": "stream",
     "text": [
      "21885\n"
     ]
    }
   ],
   "source": [
    "words = list(w2v_model.wv.vocab)\n",
    "print(len(words))"
   ]
  },
  {
   "cell_type": "markdown",
   "metadata": {},
   "source": [
    "**Check the most similar words to a given word**"
   ]
  },
  {
   "cell_type": "code",
   "execution_count": 56,
   "metadata": {},
   "outputs": [
    {
     "data": {
      "text/plain": [
       "[('delici', 0.8000462055206299),\n",
       " ('yummi', 0.79132080078125),\n",
       " ('tastey', 0.7200853228569031),\n",
       " ('satisfi', 0.6821063756942749),\n",
       " ('nice', 0.6736677885055542),\n",
       " ('good', 0.6704915761947632),\n",
       " ('hearti', 0.6580324769020081),\n",
       " ('nutriti', 0.6548944711685181),\n",
       " ('delish', 0.6481339931488037),\n",
       " ('crunchi', 0.6413717269897461)]"
      ]
     },
     "execution_count": 56,
     "metadata": {},
     "output_type": "execute_result"
    }
   ],
   "source": [
    "w2v_model.wv.most_similar('tasti')"
   ]
  },
  {
   "cell_type": "code",
   "execution_count": 57,
   "metadata": {},
   "outputs": [
    {
     "data": {
      "text/plain": [
       "[('weird', 0.733160138130188),\n",
       " ('okay', 0.7104317545890808),\n",
       " ('dislik', 0.6915770769119263),\n",
       " ('appeal', 0.6677860021591187),\n",
       " ('prefer', 0.6677730083465576),\n",
       " ('yucki', 0.6666367650032043),\n",
       " ('resembl', 0.6634767055511475),\n",
       " ('alright', 0.661238968372345),\n",
       " ('funki', 0.655515730381012),\n",
       " ('gross', 0.642878532409668)]"
      ]
     },
     "execution_count": 57,
     "metadata": {},
     "output_type": "execute_result"
    }
   ],
   "source": [
    "w2v_model.wv.most_similar('like')"
   ]
  },
  {
   "cell_type": "markdown",
   "metadata": {},
   "source": [
    "## Function to calculate Avg Word2Vec"
   ]
  },
  {
   "cell_type": "code",
   "execution_count": 20,
   "metadata": {
    "collapsed": true
   },
   "outputs": [],
   "source": [
    "def calc_avg_w2v(list_of_sent, w2v_model):\n",
    "    '''This function takes in 2 parameters as follows:\n",
    "       1. list_of_sent - This is the list of sentences/reviews for which sentence vetors are to be constructed\n",
    "       2. w2v_model - This is the Word2Vec model which is trained on the working corpus - contains the word vectors\n",
    "       \n",
    "       Return Value:\n",
    "       sent_vectors - This is a list of sentence/review vectors constructed by averaging the word vectors\n",
    "    '''\n",
    "    \n",
    "    ## Initialize an empty list\n",
    "    sent_vectors = []\n",
    "    ## Consider one sentence/review at a time\n",
    "    for sent in list_of_sent:\n",
    "        ## Initialize sentence vector to 0\n",
    "        sent_vec = np.zeros(50)\n",
    "        ## Initialize count of words to 0\n",
    "        cnt_words = 0\n",
    "        ## Consider the words one by one\n",
    "        for word in sent:\n",
    "            try:\n",
    "                ## Calculate the word vector using the W2V model\n",
    "                vec = w2v_model.wv[word]\n",
    "                ## Add the word vector to the sentence vector (This is the numerator)\n",
    "                sent_vec += vec\n",
    "                ## Sum all the word counts (This is the denominator)\n",
    "                cnt_words += 1\n",
    "            except:\n",
    "                pass\n",
    "        ## Divide the numerator by the denominator to get the sentence vector\n",
    "        sent_vec /= cnt_words\n",
    "        ## Add the sentence vector in the final list\n",
    "        sent_vectors.append(sent_vec)\n",
    "    ## return the list of all the sentence vectors\n",
    "    return sent_vectors"
   ]
  },
  {
   "cell_type": "code",
   "execution_count": null,
   "metadata": {
    "collapsed": true
   },
   "outputs": [],
   "source": [
    "## Preparing the data to call the function\n",
    "\n",
    "## Make sure \"list_of_sent\" is imported from the pickle file\n",
    "w2v_model=gensim.models.Word2Vec(list_of_sent,min_count=5,size=50, workers=4)"
   ]
  },
  {
   "cell_type": "markdown",
   "metadata": {},
   "source": [
    "#### Calling the above function"
   ]
  },
  {
   "cell_type": "code",
   "execution_count": null,
   "metadata": {
    "collapsed": true
   },
   "outputs": [],
   "source": [
    "## This takes around 15 minutes\n",
    "sent_vectors = calc_avg_w2v(list_of_sent, w2v_model)"
   ]
  },
  {
   "cell_type": "code",
   "execution_count": 59,
   "metadata": {},
   "outputs": [
    {
     "data": {
      "text/plain": [
       "list"
      ]
     },
     "execution_count": 59,
     "metadata": {},
     "output_type": "execute_result"
    }
   ],
   "source": [
    "type(sent_vectors)"
   ]
  },
  {
   "cell_type": "code",
   "execution_count": 60,
   "metadata": {},
   "outputs": [
    {
     "data": {
      "text/plain": [
       "364171"
      ]
     },
     "execution_count": 60,
     "metadata": {},
     "output_type": "execute_result"
    }
   ],
   "source": [
    "len(sent_vectors)"
   ]
  },
  {
   "cell_type": "code",
   "execution_count": 61,
   "metadata": {},
   "outputs": [
    {
     "data": {
      "text/plain": [
       "array([-0.06582168,  0.26478676,  0.15748402,  0.02853077,  0.17577528,\n",
       "        0.87079942,  0.10282963,  0.12515461, -0.28452162, -0.71627277,\n",
       "        0.21696717,  0.11521968,  1.01649811, -0.21369366, -0.44944435,\n",
       "       -0.15926586,  0.10972662, -0.14470267, -0.69901001,  0.01147728,\n",
       "       -0.4536443 , -0.51498695, -0.37806134,  0.34904079, -0.42835609,\n",
       "        0.36929333, -0.66197596,  0.26998774, -0.61783484,  0.33056465,\n",
       "        0.25040469,  0.13446384,  0.42130212,  0.06687739, -0.5540252 ,\n",
       "       -0.29407973,  0.60070674,  0.00122811,  0.14254314, -0.0322142 ,\n",
       "        0.05099536,  0.86751848,  0.44559863,  0.05397169,  0.16505646,\n",
       "        0.16378838,  0.50541587, -0.72783106, -0.485759  , -0.6230645 ])"
      ]
     },
     "execution_count": 61,
     "metadata": {},
     "output_type": "execute_result"
    }
   ],
   "source": [
    "sent_vectors[0]"
   ]
  },
  {
   "cell_type": "code",
   "execution_count": 62,
   "metadata": {
    "collapsed": true
   },
   "outputs": [],
   "source": [
    "with open('sent_vec_avg_w2v.pkl', 'wb') as pickle_file:\n",
    "    pickle.dump(sent_vectors, pickle_file)"
   ]
  },
  {
   "cell_type": "code",
   "execution_count": 63,
   "metadata": {
    "collapsed": true
   },
   "outputs": [],
   "source": [
    "sent_vec_array = np.array(sent_vectors)"
   ]
  },
  {
   "cell_type": "code",
   "execution_count": 64,
   "metadata": {},
   "outputs": [
    {
     "data": {
      "text/plain": [
       "numpy.ndarray"
      ]
     },
     "execution_count": 64,
     "metadata": {},
     "output_type": "execute_result"
    }
   ],
   "source": [
    "type(sent_vec_array)"
   ]
  },
  {
   "cell_type": "code",
   "execution_count": 65,
   "metadata": {},
   "outputs": [
    {
     "data": {
      "text/plain": [
       "(364171, 50)"
      ]
     },
     "execution_count": 65,
     "metadata": {},
     "output_type": "execute_result"
    }
   ],
   "source": [
    "sent_vec_array.shape"
   ]
  },
  {
   "cell_type": "code",
   "execution_count": 66,
   "metadata": {},
   "outputs": [
    {
     "data": {
      "text/plain": [
       "(364167, 50)"
      ]
     },
     "execution_count": 66,
     "metadata": {},
     "output_type": "execute_result"
    }
   ],
   "source": [
    "## Remove all the rows from the array which contain NaN values\n",
    "sent_vec_array = sent_vec_array[~np.isnan(sent_vec_array).any(axis = 1)]\n",
    "sent_vec_array.shape"
   ]
  },
  {
   "cell_type": "markdown",
   "metadata": {},
   "source": [
    "#### TSNE: No of Points 2000, Perplexity = 30"
   ]
  },
  {
   "cell_type": "code",
   "execution_count": 67,
   "metadata": {},
   "outputs": [
    {
     "data": {
      "text/plain": [
       "<seaborn.axisgrid.FacetGrid at 0x2094254d4e0>"
      ]
     },
     "execution_count": 67,
     "metadata": {},
     "output_type": "execute_result"
    },
    {
     "data": {
      "image/png": "[encoded data removed]",
      "text/plain": [
       "<matplotlib.figure.Figure at 0x2094254d5c0>"
      ]
     },
     "metadata": {},
     "output_type": "display_data"
    }
   ],
   "source": [
    "model = TSNE(n_components=2, perplexity = 30)\n",
    "tsne = model.fit_transform(sent_vec_array[:2000, :])\n",
    "d1 = pd.DataFrame(tsne, columns = ('dim1', 'dim2'))\n",
    "d1 = pd.concat([d1, final['Score'].iloc[:2000]], axis = 1)\n",
    "sns.FacetGrid(d1, hue = 'Score', size = 5).map(plt.scatter, 'dim1', 'dim2').add_legend()"
   ]
  },
  {
   "cell_type": "markdown",
   "metadata": {},
   "source": [
    "#### TSNE: No of Points 2000, Perplexity = 15"
   ]
  },
  {
   "cell_type": "code",
   "execution_count": 68,
   "metadata": {},
   "outputs": [
    {
     "data": {
      "text/plain": [
       "<seaborn.axisgrid.FacetGrid at 0x20950aa91d0>"
      ]
     },
     "execution_count": 68,
     "metadata": {},
     "output_type": "execute_result"
    },
    {
     "data": {
      "image/png": "[encoded data removed]",
      "text/plain": [
       "<matplotlib.figure.Figure at 0x20950aa99b0>"
      ]
     },
     "metadata": {},
     "output_type": "display_data"
    }
   ],
   "source": [
    "model = TSNE(n_components=2, perplexity = 15)\n",
    "tsne = model.fit_transform(sent_vec_array[:2000, :])\n",
    "d1 = pd.DataFrame(tsne, columns = ('dim1', 'dim2'))\n",
    "d1 = pd.concat([d1, final['Score'].iloc[:2000]], axis = 1)\n",
    "sns.FacetGrid(d1, hue = 'Score', size = 5).map(plt.scatter, 'dim1', 'dim2').add_legend()"
   ]
  },
  {
   "cell_type": "code",
   "execution_count": null,
   "metadata": {
    "collapsed": true
   },
   "outputs": [],
   "source": [
    "model = TSNE(n_components=2, perplexity = 25)\n",
    "tsne = model.fit_transform(sent_vec_array[:10000, :])\n",
    "d1 = pd.DataFrame(tsne, columns = ('dim1', 'dim2'))\n",
    "d1 = pd.concat([d1, final['Score'].iloc[:10000]], axis = 1)\n",
    "sns.FacetGrid(d1, hue = 'Score', size = 5).map(plt.scatter, 'dim1', 'dim2').add_legend()"
   ]
  },
  {
   "cell_type": "markdown",
   "metadata": {},
   "source": [
    "## Function to calculate TFIDF weighted average Word2Vec"
   ]
  },
  {
   "cell_type": "code",
   "execution_count": null,
   "metadata": {
    "collapsed": true
   },
   "outputs": [],
   "source": [
    "def calc_tfidf_avg_w2v(list_of_sent, w2v_model, tf_idf, tfidf_feat):\n",
    "    '''This function takes in 4 parameters as follows:\n",
    "       1. list_of_sent - This is the list of sentences/reviews for which sentence vetors are to be constructed\n",
    "       2. w2v_model - This is the Word2Vec model which is trained on the working corpus - contains the word vectors\n",
    "       3. tf_idf - This is the TF-IDF model built using the same reviews/sentences - it is the TF-IDF sparse matrix\n",
    "       4. tfidf_feat - This is the feature vector constructed from the TF-IDF model\n",
    "       \n",
    "       Return Value:\n",
    "       tfidf_sent_vectors - This is a list of sentence/review vectors constructed by using tfidf weighted average on the word vectors\n",
    "    '''\n",
    "    \n",
    "    ## Initialize an empty list\n",
    "    tfidf_sent_vectors = []\n",
    "    row = 0\n",
    "    ## Consider one sentence/review at a time\n",
    "    for sent in list_of_sent:\n",
    "        ## Initialize sentence vector to 0\n",
    "        sent_vec = np.zeros(50)\n",
    "        ## Initialize weighted sum to 0\n",
    "        weighted_sum = 0\n",
    "        ## Consider the words one by one\n",
    "        for word in sent:\n",
    "            ## Calculate the word vector using the W2V model\n",
    "            vec = w2v_model.wv[word]\n",
    "            ## Calculate tfidf value of the word in that review using tfidf model\n",
    "            tfidf = tf_idf[row, tfidf_feat.index(word)]\n",
    "            ## Add the product of tfidf*word_vec to the sentence vector (This is the numerator)\n",
    "            sent_vec += vec*tfidf\n",
    "            ## Sum all the tfidf values (This is the denominator)\n",
    "            weighted_sum += tfidf\n",
    "        except:\n",
    "            pass\n",
    "        #print(row, weighted_sum)\n",
    "        \n",
    "        ## Divide the numerator by the denominator to get the sentence vector\n",
    "        sent_vec /= weighted_sum\n",
    "        ## Add the sentence vector in the final list\n",
    "        tfidf_sent_vectors.append(sent_vec)\n",
    "        row += 1\n",
    "    ## return the list of all the sentence vectors\n",
    "    return tfidf_sent_vectors"
   ]
  },
  {
   "cell_type": "code",
   "execution_count": 10,
   "metadata": {
    "collapsed": true
   },
   "outputs": [],
   "source": [
    "## Preparing the data to call the function\n",
    "\n",
    "## Make sure \"list_of_sent\" is imported from the pickle file\n",
    "tf_idf_vect = TfidfVectorizer()\n",
    "tf_idf = tf_idf_vect.fit_transform(final['CleanedText'].values)\n",
    "w2v_model=gensim.models.Word2Vec(list_of_sent,min_count=5,size=50, workers=4)"
   ]
  },
  {
   "cell_type": "markdown",
   "metadata": {},
   "source": [
    "To call **calc_tfidf_avg_w2v** to calculate tfidf weighted average sentence vectors, uncomment below cell and execute\n",
    "\n",
    "#### Note: This will take 1hr for 4k points, which means around 100 hours/ 4 days for 364k points"
   ]
  },
  {
   "cell_type": "code",
   "execution_count": null,
   "metadata": {
    "collapsed": true
   },
   "outputs": [],
   "source": [
    "#tfidf_sent_vectors = calc_tfidf_avg_w2v(list_of_sent, w2v_model, tf_idf, tf_idf_vect)"
   ]
  }
 ],
 "metadata": {
  "kernelspec": {
   "display_name": "Python 3",
   "language": "python",
   "name": "python3"
  },
  "language_info": {
   "codemirror_mode": {
    "name": "ipython",
    "version": 3
   },
   "file_extension": ".py",
   "mimetype": "text/x-python",
   "name": "python",
   "nbconvert_exporter": "python",
   "pygments_lexer": "ipython3",
   "version": "3.6.4"
  }
 },
 "nbformat": 4,
 "nbformat_minor": 2
}
