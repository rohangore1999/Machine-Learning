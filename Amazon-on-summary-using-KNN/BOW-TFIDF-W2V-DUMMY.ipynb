{
 "cells": [
  {
   "cell_type": "code",
   "execution_count": 1,
   "metadata": {},
   "outputs": [
    {
     "name": "stderr",
     "output_type": "stream",
     "text": [
      "C:\\Users\\HARSHALL\\Anaconda3\\lib\\site-packages\\gensim\\utils.py:860: UserWarning: detected Windows; aliasing chunkize to chunkize_serial\n",
      "  warnings.warn(\"detected Windows; aliasing chunkize to chunkize_serial\")\n"
     ]
    }
   ],
   "source": [
    "import numpy as np\n",
    "import scipy as sp\n",
    "import pandas as pd\n",
    "import matplotlib.pyplot as plt\n",
    "import seaborn as sns\n",
    "%matplotlib inline\n",
    "\n",
    "import sqlite3    ## SQL Interface\n",
    "import pickle     ## Used to save your data - Converts objects to byte stream and vice versa\n",
    "\n",
    "from sklearn.feature_extraction.text import CountVectorizer  ## BOW Model\n",
    "from sklearn.feature_extraction.text import TfidfVectorizer  ## TFIDF Model\n",
    "\n",
    "## Modules to perform Text Preprocessing\n",
    "import re\n",
    "import nltk\n",
    "from nltk.corpus import stopwords\n",
    "\n",
    "import gensim    ## To build Word2Vec model"
   ]
  },
  {
   "cell_type": "markdown",
   "metadata": {},
   "source": [
    "#### Create 4 dummy reviews"
   ]
  },
  {
   "cell_type": "code",
   "execution_count": 2,
   "metadata": {
    "collapsed": true
   },
   "outputs": [],
   "source": [
    "r1 = \"This pasta is very tasty and affordable\"\n",
    "r2 = \"This pasta is not tasty and affordable\"\n",
    "r3 = \"This pasta is delicious and cheap\"\n",
    "r4 = \"Pasta i tasty and pasta tastes good\""
   ]
  },
  {
   "cell_type": "markdown",
   "metadata": {},
   "source": [
    "#### Add reviews to a dataframe"
   ]
  },
  {
   "cell_type": "code",
   "execution_count": 4,
   "metadata": {},
   "outputs": [
    {
     "data": {
      "text/html": [
       "<div>\n",
       "<style>\n",
       "    .dataframe thead tr:only-child th {\n",
       "        text-align: right;\n",
       "    }\n",
       "\n",
       "    .dataframe thead th {\n",
       "        text-align: left;\n",
       "    }\n",
       "\n",
       "    .dataframe tbody tr th {\n",
       "        vertical-align: top;\n",
       "    }\n",
       "</style>\n",
       "<table border=\"1\" class=\"dataframe\">\n",
       "  <thead>\n",
       "    <tr style=\"text-align: right;\">\n",
       "      <th></th>\n",
       "      <th>review</th>\n",
       "    </tr>\n",
       "  </thead>\n",
       "  <tbody>\n",
       "    <tr>\n",
       "      <th>0</th>\n",
       "      <td>This pasta is very tasty and affordable</td>\n",
       "    </tr>\n",
       "    <tr>\n",
       "      <th>1</th>\n",
       "      <td>This pasta is not tasty and affordable</td>\n",
       "    </tr>\n",
       "    <tr>\n",
       "      <th>2</th>\n",
       "      <td>This pasta is delicious and cheap</td>\n",
       "    </tr>\n",
       "    <tr>\n",
       "      <th>3</th>\n",
       "      <td>Pasta i tasty and pasta tastes good</td>\n",
       "    </tr>\n",
       "  </tbody>\n",
       "</table>\n",
       "</div>"
      ],
      "text/plain": [
       "                                    review\n",
       "0  This pasta is very tasty and affordable\n",
       "1   This pasta is not tasty and affordable\n",
       "2        This pasta is delicious and cheap\n",
       "3      Pasta i tasty and pasta tastes good"
      ]
     },
     "execution_count": 4,
     "metadata": {},
     "output_type": "execute_result"
    }
   ],
   "source": [
    "d = pd.DataFrame([r1, r2, r3, r4], columns = ['review'])\n",
    "d"
   ]
  },
  {
   "cell_type": "markdown",
   "metadata": {},
   "source": [
    "#### values attribute returns an array of column values"
   ]
  },
  {
   "cell_type": "code",
   "execution_count": 6,
   "metadata": {},
   "outputs": [
    {
     "data": {
      "text/plain": [
       "array(['This pasta is very tasty and affordable',\n",
       "       'This pasta is not tasty and affordable',\n",
       "       'This pasta is delicious and cheap',\n",
       "       'Pasta i tasty and pasta tastes good'], dtype=object)"
      ]
     },
     "execution_count": 6,
     "metadata": {},
     "output_type": "execute_result"
    }
   ],
   "source": [
    "d['review'].values"
   ]
  },
  {
   "cell_type": "code",
   "execution_count": 7,
   "metadata": {},
   "outputs": [
    {
     "data": {
      "text/plain": [
       "numpy.ndarray"
      ]
     },
     "execution_count": 7,
     "metadata": {},
     "output_type": "execute_result"
    }
   ],
   "source": [
    "type(d['review'].values)"
   ]
  },
  {
   "cell_type": "markdown",
   "metadata": {},
   "source": [
    "## Bag Of Words"
   ]
  },
  {
   "cell_type": "code",
   "execution_count": 8,
   "metadata": {
    "collapsed": true
   },
   "outputs": [],
   "source": [
    "bow_vec = CountVectorizer()\n",
    "bow = bow_vec.fit_transform(d['review'].values)"
   ]
  },
  {
   "cell_type": "code",
   "execution_count": 9,
   "metadata": {},
   "outputs": [
    {
     "data": {
      "text/plain": [
       "scipy.sparse.csr.csr_matrix"
      ]
     },
     "execution_count": 9,
     "metadata": {},
     "output_type": "execute_result"
    }
   ],
   "source": [
    "type(bow)"
   ]
  },
  {
   "cell_type": "markdown",
   "metadata": {},
   "source": [
    "**Observe:** The return value is a scipy sparse matrix - We cannot directly view it as an array\n",
    "\n",
    "**toarray()** function returns a numpy array from the sparse matrix so that we can view"
   ]
  },
  {
   "cell_type": "code",
   "execution_count": 13,
   "metadata": {},
   "outputs": [
    {
     "data": {
      "text/plain": [
       "array([[1, 1, 0, 0, 0, 1, 0, 1, 0, 1, 1, 1],\n",
       "       [1, 1, 0, 0, 0, 1, 1, 1, 0, 1, 1, 0],\n",
       "       [0, 1, 1, 1, 0, 1, 0, 1, 0, 0, 1, 0],\n",
       "       [0, 1, 0, 0, 1, 0, 0, 2, 1, 1, 0, 0]], dtype=int64)"
      ]
     },
     "execution_count": 13,
     "metadata": {},
     "output_type": "execute_result"
    }
   ],
   "source": [
    "bow.toarray()"
   ]
  },
  {
   "cell_type": "markdown",
   "metadata": {},
   "source": [
    "**get_feature_names** returns the individual words/features/columns of the sparse matrix"
   ]
  },
  {
   "cell_type": "code",
   "execution_count": 10,
   "metadata": {},
   "outputs": [
    {
     "data": {
      "text/plain": [
       "['affordable',\n",
       " 'and',\n",
       " 'cheap',\n",
       " 'delicious',\n",
       " 'good',\n",
       " 'is',\n",
       " 'not',\n",
       " 'pasta',\n",
       " 'tastes',\n",
       " 'tasty',\n",
       " 'this',\n",
       " 'very']"
      ]
     },
     "execution_count": 10,
     "metadata": {},
     "output_type": "execute_result"
    }
   ],
   "source": [
    "bow_vec_feat = bow_vec.get_feature_names()\n",
    "bow_vec_feat"
   ]
  },
  {
   "cell_type": "markdown",
   "metadata": {},
   "source": [
    "Creating a DataFrame to properly visualize the entire array along with features"
   ]
  },
  {
   "cell_type": "code",
   "execution_count": 12,
   "metadata": {},
   "outputs": [
    {
     "data": {
      "text/html": [
       "<div>\n",
       "<style>\n",
       "    .dataframe thead tr:only-child th {\n",
       "        text-align: right;\n",
       "    }\n",
       "\n",
       "    .dataframe thead th {\n",
       "        text-align: left;\n",
       "    }\n",
       "\n",
       "    .dataframe tbody tr th {\n",
       "        vertical-align: top;\n",
       "    }\n",
       "</style>\n",
       "<table border=\"1\" class=\"dataframe\">\n",
       "  <thead>\n",
       "    <tr style=\"text-align: right;\">\n",
       "      <th></th>\n",
       "      <th>affordable</th>\n",
       "      <th>and</th>\n",
       "      <th>cheap</th>\n",
       "      <th>delicious</th>\n",
       "      <th>good</th>\n",
       "      <th>is</th>\n",
       "      <th>not</th>\n",
       "      <th>pasta</th>\n",
       "      <th>tastes</th>\n",
       "      <th>tasty</th>\n",
       "      <th>this</th>\n",
       "      <th>very</th>\n",
       "    </tr>\n",
       "  </thead>\n",
       "  <tbody>\n",
       "    <tr>\n",
       "      <th>0</th>\n",
       "      <td>1</td>\n",
       "      <td>1</td>\n",
       "      <td>0</td>\n",
       "      <td>0</td>\n",
       "      <td>0</td>\n",
       "      <td>1</td>\n",
       "      <td>0</td>\n",
       "      <td>1</td>\n",
       "      <td>0</td>\n",
       "      <td>1</td>\n",
       "      <td>1</td>\n",
       "      <td>1</td>\n",
       "    </tr>\n",
       "    <tr>\n",
       "      <th>1</th>\n",
       "      <td>1</td>\n",
       "      <td>1</td>\n",
       "      <td>0</td>\n",
       "      <td>0</td>\n",
       "      <td>0</td>\n",
       "      <td>1</td>\n",
       "      <td>1</td>\n",
       "      <td>1</td>\n",
       "      <td>0</td>\n",
       "      <td>1</td>\n",
       "      <td>1</td>\n",
       "      <td>0</td>\n",
       "    </tr>\n",
       "    <tr>\n",
       "      <th>2</th>\n",
       "      <td>0</td>\n",
       "      <td>1</td>\n",
       "      <td>1</td>\n",
       "      <td>1</td>\n",
       "      <td>0</td>\n",
       "      <td>1</td>\n",
       "      <td>0</td>\n",
       "      <td>1</td>\n",
       "      <td>0</td>\n",
       "      <td>0</td>\n",
       "      <td>1</td>\n",
       "      <td>0</td>\n",
       "    </tr>\n",
       "    <tr>\n",
       "      <th>3</th>\n",
       "      <td>0</td>\n",
       "      <td>1</td>\n",
       "      <td>0</td>\n",
       "      <td>0</td>\n",
       "      <td>1</td>\n",
       "      <td>0</td>\n",
       "      <td>0</td>\n",
       "      <td>2</td>\n",
       "      <td>1</td>\n",
       "      <td>1</td>\n",
       "      <td>0</td>\n",
       "      <td>0</td>\n",
       "    </tr>\n",
       "  </tbody>\n",
       "</table>\n",
       "</div>"
      ],
      "text/plain": [
       "   affordable  and  cheap  delicious  good  is  not  pasta  tastes  tasty  \\\n",
       "0           1    1      0          0     0   1    0      1       0      1   \n",
       "1           1    1      0          0     0   1    1      1       0      1   \n",
       "2           0    1      1          1     0   1    0      1       0      0   \n",
       "3           0    1      0          0     1   0    0      2       1      1   \n",
       "\n",
       "   this  very  \n",
       "0     1     1  \n",
       "1     1     0  \n",
       "2     1     0  \n",
       "3     0     0  "
      ]
     },
     "execution_count": 12,
     "metadata": {},
     "output_type": "execute_result"
    }
   ],
   "source": [
    "bow_df = pd.DataFrame(bow.toarray(), columns = bow_vec_feat)\n",
    "bow_df"
   ]
  },
  {
   "cell_type": "markdown",
   "metadata": {},
   "source": [
    "#### Binary Bag Of Words"
   ]
  },
  {
   "cell_type": "code",
   "execution_count": 16,
   "metadata": {},
   "outputs": [
    {
     "data": {
      "text/html": [
       "<div>\n",
       "<style>\n",
       "    .dataframe thead tr:only-child th {\n",
       "        text-align: right;\n",
       "    }\n",
       "\n",
       "    .dataframe thead th {\n",
       "        text-align: left;\n",
       "    }\n",
       "\n",
       "    .dataframe tbody tr th {\n",
       "        vertical-align: top;\n",
       "    }\n",
       "</style>\n",
       "<table border=\"1\" class=\"dataframe\">\n",
       "  <thead>\n",
       "    <tr style=\"text-align: right;\">\n",
       "      <th></th>\n",
       "      <th>affordable</th>\n",
       "      <th>and</th>\n",
       "      <th>cheap</th>\n",
       "      <th>delicious</th>\n",
       "      <th>good</th>\n",
       "      <th>is</th>\n",
       "      <th>not</th>\n",
       "      <th>pasta</th>\n",
       "      <th>tastes</th>\n",
       "      <th>tasty</th>\n",
       "      <th>this</th>\n",
       "      <th>very</th>\n",
       "    </tr>\n",
       "  </thead>\n",
       "  <tbody>\n",
       "    <tr>\n",
       "      <th>0</th>\n",
       "      <td>1</td>\n",
       "      <td>1</td>\n",
       "      <td>0</td>\n",
       "      <td>0</td>\n",
       "      <td>0</td>\n",
       "      <td>1</td>\n",
       "      <td>0</td>\n",
       "      <td>1</td>\n",
       "      <td>0</td>\n",
       "      <td>1</td>\n",
       "      <td>1</td>\n",
       "      <td>1</td>\n",
       "    </tr>\n",
       "    <tr>\n",
       "      <th>1</th>\n",
       "      <td>1</td>\n",
       "      <td>1</td>\n",
       "      <td>0</td>\n",
       "      <td>0</td>\n",
       "      <td>0</td>\n",
       "      <td>1</td>\n",
       "      <td>1</td>\n",
       "      <td>1</td>\n",
       "      <td>0</td>\n",
       "      <td>1</td>\n",
       "      <td>1</td>\n",
       "      <td>0</td>\n",
       "    </tr>\n",
       "    <tr>\n",
       "      <th>2</th>\n",
       "      <td>0</td>\n",
       "      <td>1</td>\n",
       "      <td>1</td>\n",
       "      <td>1</td>\n",
       "      <td>0</td>\n",
       "      <td>1</td>\n",
       "      <td>0</td>\n",
       "      <td>1</td>\n",
       "      <td>0</td>\n",
       "      <td>0</td>\n",
       "      <td>1</td>\n",
       "      <td>0</td>\n",
       "    </tr>\n",
       "    <tr>\n",
       "      <th>3</th>\n",
       "      <td>0</td>\n",
       "      <td>1</td>\n",
       "      <td>0</td>\n",
       "      <td>0</td>\n",
       "      <td>1</td>\n",
       "      <td>0</td>\n",
       "      <td>0</td>\n",
       "      <td>1</td>\n",
       "      <td>1</td>\n",
       "      <td>1</td>\n",
       "      <td>0</td>\n",
       "      <td>0</td>\n",
       "    </tr>\n",
       "  </tbody>\n",
       "</table>\n",
       "</div>"
      ],
      "text/plain": [
       "   affordable  and  cheap  delicious  good  is  not  pasta  tastes  tasty  \\\n",
       "0           1    1      0          0     0   1    0      1       0      1   \n",
       "1           1    1      0          0     0   1    1      1       0      1   \n",
       "2           0    1      1          1     0   1    0      1       0      0   \n",
       "3           0    1      0          0     1   0    0      1       1      1   \n",
       "\n",
       "   this  very  \n",
       "0     1     1  \n",
       "1     1     0  \n",
       "2     1     0  \n",
       "3     0     0  "
      ]
     },
     "execution_count": 16,
     "metadata": {},
     "output_type": "execute_result"
    }
   ],
   "source": [
    "bow_vec_bin = CountVectorizer(binary = True)\n",
    "bow_bin = bow_vec_bin.fit_transform(d['review'].values)\n",
    "bow_vec_bin_feat = bow_vec_bin.get_feature_names()\n",
    "bow_bin_df = pd.DataFrame(bow_bin.toarray(), columns = bow_vec_bin_feat)\n",
    "bow_bin_df"
   ]
  },
  {
   "cell_type": "markdown",
   "metadata": {},
   "source": [
    "**Observe:** All the values are either 0 or 1"
   ]
  },
  {
   "cell_type": "markdown",
   "metadata": {},
   "source": [
    "## Creating Bi-grams BOW"
   ]
  },
  {
   "cell_type": "code",
   "execution_count": 15,
   "metadata": {},
   "outputs": [
    {
     "data": {
      "text/html": [
       "<div>\n",
       "<style>\n",
       "    .dataframe thead tr:only-child th {\n",
       "        text-align: right;\n",
       "    }\n",
       "\n",
       "    .dataframe thead th {\n",
       "        text-align: left;\n",
       "    }\n",
       "\n",
       "    .dataframe tbody tr th {\n",
       "        vertical-align: top;\n",
       "    }\n",
       "</style>\n",
       "<table border=\"1\" class=\"dataframe\">\n",
       "  <thead>\n",
       "    <tr style=\"text-align: right;\">\n",
       "      <th></th>\n",
       "      <th>and affordable</th>\n",
       "      <th>and cheap</th>\n",
       "      <th>and pasta</th>\n",
       "      <th>delicious and</th>\n",
       "      <th>is delicious</th>\n",
       "      <th>is not</th>\n",
       "      <th>is very</th>\n",
       "      <th>not tasty</th>\n",
       "      <th>pasta is</th>\n",
       "      <th>pasta tastes</th>\n",
       "      <th>pasta tasty</th>\n",
       "      <th>tastes good</th>\n",
       "      <th>tasty and</th>\n",
       "      <th>this pasta</th>\n",
       "      <th>very tasty</th>\n",
       "    </tr>\n",
       "  </thead>\n",
       "  <tbody>\n",
       "    <tr>\n",
       "      <th>0</th>\n",
       "      <td>1</td>\n",
       "      <td>0</td>\n",
       "      <td>0</td>\n",
       "      <td>0</td>\n",
       "      <td>0</td>\n",
       "      <td>0</td>\n",
       "      <td>1</td>\n",
       "      <td>0</td>\n",
       "      <td>1</td>\n",
       "      <td>0</td>\n",
       "      <td>0</td>\n",
       "      <td>0</td>\n",
       "      <td>1</td>\n",
       "      <td>1</td>\n",
       "      <td>1</td>\n",
       "    </tr>\n",
       "    <tr>\n",
       "      <th>1</th>\n",
       "      <td>1</td>\n",
       "      <td>0</td>\n",
       "      <td>0</td>\n",
       "      <td>0</td>\n",
       "      <td>0</td>\n",
       "      <td>1</td>\n",
       "      <td>0</td>\n",
       "      <td>1</td>\n",
       "      <td>1</td>\n",
       "      <td>0</td>\n",
       "      <td>0</td>\n",
       "      <td>0</td>\n",
       "      <td>1</td>\n",
       "      <td>1</td>\n",
       "      <td>0</td>\n",
       "    </tr>\n",
       "    <tr>\n",
       "      <th>2</th>\n",
       "      <td>0</td>\n",
       "      <td>1</td>\n",
       "      <td>0</td>\n",
       "      <td>1</td>\n",
       "      <td>1</td>\n",
       "      <td>0</td>\n",
       "      <td>0</td>\n",
       "      <td>0</td>\n",
       "      <td>1</td>\n",
       "      <td>0</td>\n",
       "      <td>0</td>\n",
       "      <td>0</td>\n",
       "      <td>0</td>\n",
       "      <td>1</td>\n",
       "      <td>0</td>\n",
       "    </tr>\n",
       "    <tr>\n",
       "      <th>3</th>\n",
       "      <td>0</td>\n",
       "      <td>0</td>\n",
       "      <td>1</td>\n",
       "      <td>0</td>\n",
       "      <td>0</td>\n",
       "      <td>0</td>\n",
       "      <td>0</td>\n",
       "      <td>0</td>\n",
       "      <td>0</td>\n",
       "      <td>1</td>\n",
       "      <td>1</td>\n",
       "      <td>1</td>\n",
       "      <td>1</td>\n",
       "      <td>0</td>\n",
       "      <td>0</td>\n",
       "    </tr>\n",
       "  </tbody>\n",
       "</table>\n",
       "</div>"
      ],
      "text/plain": [
       "   and affordable  and cheap  and pasta  delicious and  is delicious  is not  \\\n",
       "0               1          0          0              0             0       0   \n",
       "1               1          0          0              0             0       1   \n",
       "2               0          1          0              1             1       0   \n",
       "3               0          0          1              0             0       0   \n",
       "\n",
       "   is very  not tasty  pasta is  pasta tastes  pasta tasty  tastes good  \\\n",
       "0        1          0         1             0            0            0   \n",
       "1        0          1         1             0            0            0   \n",
       "2        0          0         1             0            0            0   \n",
       "3        0          0         0             1            1            1   \n",
       "\n",
       "   tasty and  this pasta  very tasty  \n",
       "0          1           1           1  \n",
       "1          1           1           0  \n",
       "2          0           1           0  \n",
       "3          1           0           0  "
      ]
     },
     "execution_count": 15,
     "metadata": {},
     "output_type": "execute_result"
    }
   ],
   "source": [
    "## Take a note of how to give the ngram_range\n",
    "bow_vec_bi = CountVectorizer(ngram_range=(2,2))\n",
    "bow_bi = bow_vec_bi.fit_transform(d['review'].values)\n",
    "bow_vec_bi_feat = bow_vec_bi.get_feature_names()\n",
    "bow_bi_df = pd.DataFrame(bow_bi.toarray(), columns = bow_vec_bi_feat)\n",
    "bow_bi_df"
   ]
  },
  {
   "cell_type": "markdown",
   "metadata": {},
   "source": [
    "## Creating both Unigrams and Bigrams BOW"
   ]
  },
  {
   "cell_type": "code",
   "execution_count": 18,
   "metadata": {},
   "outputs": [
    {
     "data": {
      "text/html": [
       "<div>\n",
       "<style>\n",
       "    .dataframe thead tr:only-child th {\n",
       "        text-align: right;\n",
       "    }\n",
       "\n",
       "    .dataframe thead th {\n",
       "        text-align: left;\n",
       "    }\n",
       "\n",
       "    .dataframe tbody tr th {\n",
       "        vertical-align: top;\n",
       "    }\n",
       "</style>\n",
       "<table border=\"1\" class=\"dataframe\">\n",
       "  <thead>\n",
       "    <tr style=\"text-align: right;\">\n",
       "      <th></th>\n",
       "      <th>affordable</th>\n",
       "      <th>and</th>\n",
       "      <th>and affordable</th>\n",
       "      <th>and cheap</th>\n",
       "      <th>and pasta</th>\n",
       "      <th>cheap</th>\n",
       "      <th>delicious</th>\n",
       "      <th>delicious and</th>\n",
       "      <th>good</th>\n",
       "      <th>is</th>\n",
       "      <th>...</th>\n",
       "      <th>pasta tastes</th>\n",
       "      <th>pasta tasty</th>\n",
       "      <th>tastes</th>\n",
       "      <th>tastes good</th>\n",
       "      <th>tasty</th>\n",
       "      <th>tasty and</th>\n",
       "      <th>this</th>\n",
       "      <th>this pasta</th>\n",
       "      <th>very</th>\n",
       "      <th>very tasty</th>\n",
       "    </tr>\n",
       "  </thead>\n",
       "  <tbody>\n",
       "    <tr>\n",
       "      <th>0</th>\n",
       "      <td>1</td>\n",
       "      <td>1</td>\n",
       "      <td>1</td>\n",
       "      <td>0</td>\n",
       "      <td>0</td>\n",
       "      <td>0</td>\n",
       "      <td>0</td>\n",
       "      <td>0</td>\n",
       "      <td>0</td>\n",
       "      <td>1</td>\n",
       "      <td>...</td>\n",
       "      <td>0</td>\n",
       "      <td>0</td>\n",
       "      <td>0</td>\n",
       "      <td>0</td>\n",
       "      <td>1</td>\n",
       "      <td>1</td>\n",
       "      <td>1</td>\n",
       "      <td>1</td>\n",
       "      <td>1</td>\n",
       "      <td>1</td>\n",
       "    </tr>\n",
       "    <tr>\n",
       "      <th>1</th>\n",
       "      <td>1</td>\n",
       "      <td>1</td>\n",
       "      <td>1</td>\n",
       "      <td>0</td>\n",
       "      <td>0</td>\n",
       "      <td>0</td>\n",
       "      <td>0</td>\n",
       "      <td>0</td>\n",
       "      <td>0</td>\n",
       "      <td>1</td>\n",
       "      <td>...</td>\n",
       "      <td>0</td>\n",
       "      <td>0</td>\n",
       "      <td>0</td>\n",
       "      <td>0</td>\n",
       "      <td>1</td>\n",
       "      <td>1</td>\n",
       "      <td>1</td>\n",
       "      <td>1</td>\n",
       "      <td>0</td>\n",
       "      <td>0</td>\n",
       "    </tr>\n",
       "    <tr>\n",
       "      <th>2</th>\n",
       "      <td>0</td>\n",
       "      <td>1</td>\n",
       "      <td>0</td>\n",
       "      <td>1</td>\n",
       "      <td>0</td>\n",
       "      <td>1</td>\n",
       "      <td>1</td>\n",
       "      <td>1</td>\n",
       "      <td>0</td>\n",
       "      <td>1</td>\n",
       "      <td>...</td>\n",
       "      <td>0</td>\n",
       "      <td>0</td>\n",
       "      <td>0</td>\n",
       "      <td>0</td>\n",
       "      <td>0</td>\n",
       "      <td>0</td>\n",
       "      <td>1</td>\n",
       "      <td>1</td>\n",
       "      <td>0</td>\n",
       "      <td>0</td>\n",
       "    </tr>\n",
       "    <tr>\n",
       "      <th>3</th>\n",
       "      <td>0</td>\n",
       "      <td>1</td>\n",
       "      <td>0</td>\n",
       "      <td>0</td>\n",
       "      <td>1</td>\n",
       "      <td>0</td>\n",
       "      <td>0</td>\n",
       "      <td>0</td>\n",
       "      <td>1</td>\n",
       "      <td>0</td>\n",
       "      <td>...</td>\n",
       "      <td>1</td>\n",
       "      <td>1</td>\n",
       "      <td>1</td>\n",
       "      <td>1</td>\n",
       "      <td>1</td>\n",
       "      <td>1</td>\n",
       "      <td>0</td>\n",
       "      <td>0</td>\n",
       "      <td>0</td>\n",
       "      <td>0</td>\n",
       "    </tr>\n",
       "  </tbody>\n",
       "</table>\n",
       "<p>4 rows × 27 columns</p>\n",
       "</div>"
      ],
      "text/plain": [
       "   affordable  and  and affordable  and cheap  and pasta  cheap  delicious  \\\n",
       "0           1    1               1          0          0      0          0   \n",
       "1           1    1               1          0          0      0          0   \n",
       "2           0    1               0          1          0      1          1   \n",
       "3           0    1               0          0          1      0          0   \n",
       "\n",
       "   delicious and  good  is     ...      pasta tastes  pasta tasty  tastes  \\\n",
       "0              0     0   1     ...                 0            0       0   \n",
       "1              0     0   1     ...                 0            0       0   \n",
       "2              1     0   1     ...                 0            0       0   \n",
       "3              0     1   0     ...                 1            1       1   \n",
       "\n",
       "   tastes good  tasty  tasty and  this  this pasta  very  very tasty  \n",
       "0            0      1          1     1           1     1           1  \n",
       "1            0      1          1     1           1     0           0  \n",
       "2            0      0          0     1           1     0           0  \n",
       "3            1      1          1     0           0     0           0  \n",
       "\n",
       "[4 rows x 27 columns]"
      ]
     },
     "execution_count": 18,
     "metadata": {},
     "output_type": "execute_result"
    }
   ],
   "source": [
    "## Take a note of how to give the ngram_range\n",
    "bow_vec_ub = CountVectorizer(ngram_range=(1,2))\n",
    "bow_ub = bow_vec_ub.fit_transform(d['review'].values)\n",
    "bow_vec_ub_feat = bow_vec_ub.get_feature_names()\n",
    "bow_ub_df = pd.DataFrame(bow_ub.toarray(), columns = bow_vec_ub_feat)\n",
    "bow_ub_df"
   ]
  },
  {
   "cell_type": "code",
   "execution_count": 19,
   "metadata": {},
   "outputs": [
    {
     "data": {
      "text/plain": [
       "['affordable',\n",
       " 'and',\n",
       " 'and affordable',\n",
       " 'and cheap',\n",
       " 'and pasta',\n",
       " 'cheap',\n",
       " 'delicious',\n",
       " 'delicious and',\n",
       " 'good',\n",
       " 'is',\n",
       " 'is delicious',\n",
       " 'is not',\n",
       " 'is very',\n",
       " 'not',\n",
       " 'not tasty',\n",
       " 'pasta',\n",
       " 'pasta is',\n",
       " 'pasta tastes',\n",
       " 'pasta tasty',\n",
       " 'tastes',\n",
       " 'tastes good',\n",
       " 'tasty',\n",
       " 'tasty and',\n",
       " 'this',\n",
       " 'this pasta',\n",
       " 'very',\n",
       " 'very tasty']"
      ]
     },
     "execution_count": 19,
     "metadata": {},
     "output_type": "execute_result"
    }
   ],
   "source": [
    "bow_vec_ub_feat"
   ]
  },
  {
   "cell_type": "markdown",
   "metadata": {},
   "source": [
    "## TF-IDF"
   ]
  },
  {
   "cell_type": "code",
   "execution_count": 20,
   "metadata": {},
   "outputs": [
    {
     "data": {
      "text/html": [
       "<div>\n",
       "<style>\n",
       "    .dataframe thead tr:only-child th {\n",
       "        text-align: right;\n",
       "    }\n",
       "\n",
       "    .dataframe thead th {\n",
       "        text-align: left;\n",
       "    }\n",
       "\n",
       "    .dataframe tbody tr th {\n",
       "        vertical-align: top;\n",
       "    }\n",
       "</style>\n",
       "<table border=\"1\" class=\"dataframe\">\n",
       "  <thead>\n",
       "    <tr style=\"text-align: right;\">\n",
       "      <th></th>\n",
       "      <th>affordable</th>\n",
       "      <th>and</th>\n",
       "      <th>cheap</th>\n",
       "      <th>delicious</th>\n",
       "      <th>good</th>\n",
       "      <th>is</th>\n",
       "      <th>not</th>\n",
       "      <th>pasta</th>\n",
       "      <th>tastes</th>\n",
       "      <th>tasty</th>\n",
       "      <th>this</th>\n",
       "      <th>very</th>\n",
       "    </tr>\n",
       "  </thead>\n",
       "  <tbody>\n",
       "    <tr>\n",
       "      <th>0</th>\n",
       "      <td>0.428304</td>\n",
       "      <td>0.283490</td>\n",
       "      <td>0.000000</td>\n",
       "      <td>0.000000</td>\n",
       "      <td>0.000000</td>\n",
       "      <td>0.346749</td>\n",
       "      <td>0.000000</td>\n",
       "      <td>0.283490</td>\n",
       "      <td>0.000000</td>\n",
       "      <td>0.346749</td>\n",
       "      <td>0.346749</td>\n",
       "      <td>0.543249</td>\n",
       "    </tr>\n",
       "    <tr>\n",
       "      <th>1</th>\n",
       "      <td>0.428304</td>\n",
       "      <td>0.283490</td>\n",
       "      <td>0.000000</td>\n",
       "      <td>0.000000</td>\n",
       "      <td>0.000000</td>\n",
       "      <td>0.346749</td>\n",
       "      <td>0.543249</td>\n",
       "      <td>0.283490</td>\n",
       "      <td>0.000000</td>\n",
       "      <td>0.346749</td>\n",
       "      <td>0.346749</td>\n",
       "      <td>0.000000</td>\n",
       "    </tr>\n",
       "    <tr>\n",
       "      <th>2</th>\n",
       "      <td>0.000000</td>\n",
       "      <td>0.284711</td>\n",
       "      <td>0.545589</td>\n",
       "      <td>0.545589</td>\n",
       "      <td>0.000000</td>\n",
       "      <td>0.348242</td>\n",
       "      <td>0.000000</td>\n",
       "      <td>0.284711</td>\n",
       "      <td>0.000000</td>\n",
       "      <td>0.000000</td>\n",
       "      <td>0.348242</td>\n",
       "      <td>0.000000</td>\n",
       "    </tr>\n",
       "    <tr>\n",
       "      <th>3</th>\n",
       "      <td>0.000000</td>\n",
       "      <td>0.268798</td>\n",
       "      <td>0.000000</td>\n",
       "      <td>0.000000</td>\n",
       "      <td>0.515094</td>\n",
       "      <td>0.000000</td>\n",
       "      <td>0.000000</td>\n",
       "      <td>0.537595</td>\n",
       "      <td>0.515094</td>\n",
       "      <td>0.328778</td>\n",
       "      <td>0.000000</td>\n",
       "      <td>0.000000</td>\n",
       "    </tr>\n",
       "  </tbody>\n",
       "</table>\n",
       "</div>"
      ],
      "text/plain": [
       "   affordable       and     cheap  delicious      good        is       not  \\\n",
       "0    0.428304  0.283490  0.000000   0.000000  0.000000  0.346749  0.000000   \n",
       "1    0.428304  0.283490  0.000000   0.000000  0.000000  0.346749  0.543249   \n",
       "2    0.000000  0.284711  0.545589   0.545589  0.000000  0.348242  0.000000   \n",
       "3    0.000000  0.268798  0.000000   0.000000  0.515094  0.000000  0.000000   \n",
       "\n",
       "      pasta    tastes     tasty      this      very  \n",
       "0  0.283490  0.000000  0.346749  0.346749  0.543249  \n",
       "1  0.283490  0.000000  0.346749  0.346749  0.000000  \n",
       "2  0.284711  0.000000  0.000000  0.348242  0.000000  \n",
       "3  0.537595  0.515094  0.328778  0.000000  0.000000  "
      ]
     },
     "execution_count": 20,
     "metadata": {},
     "output_type": "execute_result"
    }
   ],
   "source": [
    "tf_idf_vec = TfidfVectorizer()\n",
    "tf_idf = tf_idf_vec.fit_transform(d['review'].values)\n",
    "tf_idf_feat = tf_idf_vec.get_feature_names()\n",
    "tf_idf_df = pd.DataFrame(tf_idf.toarray(), columns = tf_idf_feat)\n",
    "tf_idf_df"
   ]
  },
  {
   "cell_type": "markdown",
   "metadata": {},
   "source": [
    "## Creating Bi-grams TFIDF"
   ]
  },
  {
   "cell_type": "code",
   "execution_count": 21,
   "metadata": {},
   "outputs": [
    {
     "data": {
      "text/html": [
       "<div>\n",
       "<style>\n",
       "    .dataframe thead tr:only-child th {\n",
       "        text-align: right;\n",
       "    }\n",
       "\n",
       "    .dataframe thead th {\n",
       "        text-align: left;\n",
       "    }\n",
       "\n",
       "    .dataframe tbody tr th {\n",
       "        vertical-align: top;\n",
       "    }\n",
       "</style>\n",
       "<table border=\"1\" class=\"dataframe\">\n",
       "  <thead>\n",
       "    <tr style=\"text-align: right;\">\n",
       "      <th></th>\n",
       "      <th>and affordable</th>\n",
       "      <th>and cheap</th>\n",
       "      <th>and pasta</th>\n",
       "      <th>delicious and</th>\n",
       "      <th>is delicious</th>\n",
       "      <th>is not</th>\n",
       "      <th>is very</th>\n",
       "      <th>not tasty</th>\n",
       "      <th>pasta is</th>\n",
       "      <th>pasta tastes</th>\n",
       "      <th>pasta tasty</th>\n",
       "      <th>tastes good</th>\n",
       "      <th>tasty and</th>\n",
       "      <th>this pasta</th>\n",
       "      <th>very tasty</th>\n",
       "    </tr>\n",
       "  </thead>\n",
       "  <tbody>\n",
       "    <tr>\n",
       "      <th>0</th>\n",
       "      <td>0.402134</td>\n",
       "      <td>0.000000</td>\n",
       "      <td>0.00000</td>\n",
       "      <td>0.000000</td>\n",
       "      <td>0.000000</td>\n",
       "      <td>0.000000</td>\n",
       "      <td>0.510056</td>\n",
       "      <td>0.000000</td>\n",
       "      <td>0.325562</td>\n",
       "      <td>0.00000</td>\n",
       "      <td>0.00000</td>\n",
       "      <td>0.00000</td>\n",
       "      <td>0.325562</td>\n",
       "      <td>0.325562</td>\n",
       "      <td>0.510056</td>\n",
       "    </tr>\n",
       "    <tr>\n",
       "      <th>1</th>\n",
       "      <td>0.402134</td>\n",
       "      <td>0.000000</td>\n",
       "      <td>0.00000</td>\n",
       "      <td>0.000000</td>\n",
       "      <td>0.000000</td>\n",
       "      <td>0.510056</td>\n",
       "      <td>0.000000</td>\n",
       "      <td>0.510056</td>\n",
       "      <td>0.325562</td>\n",
       "      <td>0.00000</td>\n",
       "      <td>0.00000</td>\n",
       "      <td>0.00000</td>\n",
       "      <td>0.325562</td>\n",
       "      <td>0.325562</td>\n",
       "      <td>0.000000</td>\n",
       "    </tr>\n",
       "    <tr>\n",
       "      <th>2</th>\n",
       "      <td>0.000000</td>\n",
       "      <td>0.511992</td>\n",
       "      <td>0.00000</td>\n",
       "      <td>0.511992</td>\n",
       "      <td>0.511992</td>\n",
       "      <td>0.000000</td>\n",
       "      <td>0.000000</td>\n",
       "      <td>0.000000</td>\n",
       "      <td>0.326798</td>\n",
       "      <td>0.00000</td>\n",
       "      <td>0.00000</td>\n",
       "      <td>0.00000</td>\n",
       "      <td>0.000000</td>\n",
       "      <td>0.326798</td>\n",
       "      <td>0.000000</td>\n",
       "    </tr>\n",
       "    <tr>\n",
       "      <th>3</th>\n",
       "      <td>0.000000</td>\n",
       "      <td>0.000000</td>\n",
       "      <td>0.47633</td>\n",
       "      <td>0.000000</td>\n",
       "      <td>0.000000</td>\n",
       "      <td>0.000000</td>\n",
       "      <td>0.000000</td>\n",
       "      <td>0.000000</td>\n",
       "      <td>0.000000</td>\n",
       "      <td>0.47633</td>\n",
       "      <td>0.47633</td>\n",
       "      <td>0.47633</td>\n",
       "      <td>0.304035</td>\n",
       "      <td>0.000000</td>\n",
       "      <td>0.000000</td>\n",
       "    </tr>\n",
       "  </tbody>\n",
       "</table>\n",
       "</div>"
      ],
      "text/plain": [
       "   and affordable  and cheap  and pasta  delicious and  is delicious  \\\n",
       "0        0.402134   0.000000    0.00000       0.000000      0.000000   \n",
       "1        0.402134   0.000000    0.00000       0.000000      0.000000   \n",
       "2        0.000000   0.511992    0.00000       0.511992      0.511992   \n",
       "3        0.000000   0.000000    0.47633       0.000000      0.000000   \n",
       "\n",
       "     is not   is very  not tasty  pasta is  pasta tastes  pasta tasty  \\\n",
       "0  0.000000  0.510056   0.000000  0.325562       0.00000      0.00000   \n",
       "1  0.510056  0.000000   0.510056  0.325562       0.00000      0.00000   \n",
       "2  0.000000  0.000000   0.000000  0.326798       0.00000      0.00000   \n",
       "3  0.000000  0.000000   0.000000  0.000000       0.47633      0.47633   \n",
       "\n",
       "   tastes good  tasty and  this pasta  very tasty  \n",
       "0      0.00000   0.325562    0.325562    0.510056  \n",
       "1      0.00000   0.325562    0.325562    0.000000  \n",
       "2      0.00000   0.000000    0.326798    0.000000  \n",
       "3      0.47633   0.304035    0.000000    0.000000  "
      ]
     },
     "execution_count": 21,
     "metadata": {},
     "output_type": "execute_result"
    }
   ],
   "source": [
    "tf_idf_bi_vec = TfidfVectorizer(ngram_range=(2,2))\n",
    "tf_idf_bi = tf_idf_bi_vec.fit_transform(d['review'].values)\n",
    "tf_idf_bi_feat = tf_idf_bi_vec.get_feature_names()\n",
    "tf_idf_bi_df = pd.DataFrame(tf_idf_bi.toarray(), columns = tf_idf_bi_feat)\n",
    "tf_idf_bi_df"
   ]
  },
  {
   "cell_type": "markdown",
   "metadata": {},
   "source": [
    "** Similarly we can create n-grams in any range**"
   ]
  },
  {
   "cell_type": "markdown",
   "metadata": {},
   "source": [
    "## Word2Vec"
   ]
  },
  {
   "cell_type": "markdown",
   "metadata": {},
   "source": [
    "**Note:** First we need to create a list of lists where outer list contains all the reviews and each inner list contains words in that review"
   ]
  },
  {
   "cell_type": "code",
   "execution_count": 22,
   "metadata": {},
   "outputs": [
    {
     "data": {
      "text/plain": [
       "[['this', 'pasta', 'is', 'very', 'tasty', 'and', 'affordable'],\n",
       " ['this', 'pasta', 'is', 'not', 'tasty', 'and', 'affordable'],\n",
       " ['this', 'pasta', 'is', 'delicious', 'and', 'cheap'],\n",
       " ['pasta', 'i', 'tasty', 'and', 'pasta', 'tastes', 'good']]"
      ]
     },
     "execution_count": 22,
     "metadata": {},
     "output_type": "execute_result"
    }
   ],
   "source": [
    "## List of sentences:\n",
    "list_of_sent=[]\n",
    "for se in d['review'].values:\n",
    "    sent = []\n",
    "    for w in se.split():\n",
    "        sent.append(w.lower())\n",
    "    list_of_sent.append(sent)\n",
    "list_of_sent"
   ]
  },
  {
   "cell_type": "markdown",
   "metadata": {},
   "source": [
    "#### Using Gensim module to build W2V models"
   ]
  },
  {
   "cell_type": "code",
   "execution_count": 23,
   "metadata": {
    "collapsed": true
   },
   "outputs": [],
   "source": [
    "## Default min_count = 5\n",
    "w2v_model = gensim.models.Word2Vec(list_of_sent, min_count = 1, size = 5)"
   ]
  },
  {
   "cell_type": "markdown",
   "metadata": {},
   "source": [
    "We can get all the unique words in the model by typecasting the **wv.vocab** attribute to list"
   ]
  },
  {
   "cell_type": "code",
   "execution_count": 25,
   "metadata": {},
   "outputs": [
    {
     "data": {
      "text/plain": [
       "['pasta',\n",
       " 'this',\n",
       " 'affordable',\n",
       " 'not',\n",
       " 'cheap',\n",
       " 'is',\n",
       " 'very',\n",
       " 'and',\n",
       " 'i',\n",
       " 'delicious',\n",
       " 'good',\n",
       " 'tasty',\n",
       " 'tastes']"
      ]
     },
     "execution_count": 25,
     "metadata": {},
     "output_type": "execute_result"
    }
   ],
   "source": [
    "words = list(w2v_model.wv.vocab)\n",
    "words"
   ]
  },
  {
   "cell_type": "markdown",
   "metadata": {
    "collapsed": true
   },
   "source": [
    "## Pickle Files in Python\n",
    "* The pickle module implements a fundamental, but powerful algorithm for serializing and de-serializing a Python object structure.\n",
    "* **Pickling** - is the process whereby a Python object hierarchy is converted into a byte stream\n",
    "* **Unpickling** - is the inverse operation, whereby a byte stream is converted back into an object hierarchy.\n",
    "\n",
    "Pickling (and unpickling) is alternatively known as serialization, marshalling, or flattening.\n",
    "\n",
    "Refer link for detailed explanation - http://www.diveintopython3.net/serializing.html"
   ]
  },
  {
   "cell_type": "markdown",
   "metadata": {},
   "source": [
    "#### Saving Data to the pickle file\n",
    "* The pickle module takes a Python data structure and saves it to a file.\n",
    "* Be sure to open your pickle files in binary mode, or the data will get corrupted during writing.\n",
    "* Not every Python data structure can be serialized by the pickle module."
   ]
  },
  {
   "cell_type": "code",
   "execution_count": 2,
   "metadata": {
    "collapsed": true
   },
   "outputs": [],
   "source": [
    "x = [1, 2, 3, 4]"
   ]
  },
  {
   "cell_type": "code",
   "execution_count": 3,
   "metadata": {
    "collapsed": true
   },
   "outputs": [],
   "source": [
    "with open('dummy.pkl', 'wb') as f:\n",
    "    pickle.dump(x, f)"
   ]
  },
  {
   "cell_type": "markdown",
   "metadata": {},
   "source": [
    "#### Loading data from a pickle file\n",
    "* Open the relevant pickle file.\n",
    "* Load the serialized data into a new variable.\n",
    "* Now you’ve read the serialized data from that file and created a perfect replica of the original data structure."
   ]
  },
  {
   "cell_type": "code",
   "execution_count": 4,
   "metadata": {
    "collapsed": true
   },
   "outputs": [],
   "source": [
    "with open('dummy.pkl', 'rb') as f:\n",
    "    y = pickle.load(f)"
   ]
  },
  {
   "cell_type": "code",
   "execution_count": 5,
   "metadata": {},
   "outputs": [
    {
     "data": {
      "text/plain": [
       "[1, 2, 3, 4]"
      ]
     },
     "execution_count": 5,
     "metadata": {},
     "output_type": "execute_result"
    }
   ],
   "source": [
    "y"
   ]
  },
  {
   "cell_type": "code",
   "execution_count": null,
   "metadata": {
    "collapsed": true
   },
   "outputs": [],
   "source": []
  }
 ],
 "metadata": {
  "kernelspec": {
   "display_name": "Python 3",
   "language": "python",
   "name": "python3"
  },
  "language_info": {
   "codemirror_mode": {
    "name": "ipython",
    "version": 3
   },
   "file_extension": ".py",
   "mimetype": "text/x-python",
   "name": "python",
   "nbconvert_exporter": "python",
   "pygments_lexer": "ipython3",
   "version": "3.6.4"
  }
 },
 "nbformat": 4,
 "nbformat_minor": 2
}
